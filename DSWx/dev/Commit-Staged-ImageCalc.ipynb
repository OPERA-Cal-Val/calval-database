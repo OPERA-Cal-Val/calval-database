{
 "cells": [
  {
   "cell_type": "code",
   "execution_count": 57,
   "metadata": {},
   "outputs": [],
   "source": [
    "import geopandas as gpd\n",
    "import boto3"
   ]
  },
  {
   "cell_type": "code",
   "execution_count": 58,
   "metadata": {},
   "outputs": [],
   "source": [
    "bucket_name = 'opera-calval-database-dswx'\n",
    "bucket_name_staging = 'opera-calval-database-dswx-staging'"
   ]
  },
  {
   "cell_type": "code",
   "execution_count": 76,
   "metadata": {},
   "outputs": [],
   "source": [
    "session = boto3.session.Session(profile_name='saml-pub')\n",
    "s3 = session.resource('s3')\n",
    "s3_client = session.client('s3')"
   ]
  },
  {
   "cell_type": "code",
   "execution_count": 77,
   "metadata": {},
   "outputs": [
    {
     "name": "stdout",
     "output_type": "stream",
     "text": [
      "pending/20220803_104213_imagecalc.geojson\n"
     ]
    }
   ],
   "source": [
    "bucket = s3.Bucket(bucket_name_staging)\n",
    "\n",
    "## List objects within a given prefix\n",
    "for obj in bucket.objects.filter(Delimiter='/', Prefix='pending/'):\n",
    "    print(obj.key)"
   ]
  },
  {
   "cell_type": "code",
   "execution_count": 78,
   "metadata": {},
   "outputs": [],
   "source": [
    "pending_key = 'pending/20220803_104213_imagecalc.geojson'"
   ]
  },
  {
   "cell_type": "code",
   "execution_count": 79,
   "metadata": {},
   "outputs": [
    {
     "data": {
      "text/html": [
       "<div>\n",
       "<style scoped>\n",
       "    .dataframe tbody tr th:only-of-type {\n",
       "        vertical-align: middle;\n",
       "    }\n",
       "\n",
       "    .dataframe tbody tr th {\n",
       "        vertical-align: top;\n",
       "    }\n",
       "\n",
       "    .dataframe thead th {\n",
       "        text-align: right;\n",
       "    }\n",
       "</style>\n",
       "<table border=\"1\" class=\"dataframe\">\n",
       "  <thead>\n",
       "    <tr style=\"text-align: right;\">\n",
       "      <th></th>\n",
       "      <th>bucket</th>\n",
       "      <th>calc_type</th>\n",
       "      <th>calculated_by</th>\n",
       "      <th>image_calc_name</th>\n",
       "      <th>image_name</th>\n",
       "      <th>oversight_level</th>\n",
       "      <th>previous_name</th>\n",
       "      <th>processing_level</th>\n",
       "      <th>public</th>\n",
       "      <th>reviewed_by</th>\n",
       "      <th>s3_keys</th>\n",
       "      <th>upload_date</th>\n",
       "      <th>geometry</th>\n",
       "    </tr>\n",
       "  </thead>\n",
       "  <tbody>\n",
       "    <tr>\n",
       "      <th>0</th>\n",
       "      <td>opera-calval-database-dswx-staging</td>\n",
       "      <td>Review</td>\n",
       "      <td>Alexander Handwerger</td>\n",
       "      <td>20211021_133031_75_245a_class_edit_review</td>\n",
       "      <td>20211021_133031_75_245a</td>\n",
       "      <td>Reviewed-Complete</td>\n",
       "      <td>20211021_133031_75_245a_class_edit</td>\n",
       "      <td>Final</td>\n",
       "      <td>True</td>\n",
       "      <td>Matthew Bonnema</td>\n",
       "      <td>pending/files/20211021_133031_75_245a_class_ed...</td>\n",
       "      <td>20220803_104213</td>\n",
       "      <td>POLYGON ((-64.30053 -33.07480, -64.34944 -33.2...</td>\n",
       "    </tr>\n",
       "  </tbody>\n",
       "</table>\n",
       "</div>"
      ],
      "text/plain": [
       "                               bucket calc_type         calculated_by  \\\n",
       "0  opera-calval-database-dswx-staging    Review  Alexander Handwerger   \n",
       "\n",
       "                             image_calc_name               image_name  \\\n",
       "0  20211021_133031_75_245a_class_edit_review  20211021_133031_75_245a   \n",
       "\n",
       "     oversight_level                       previous_name processing_level  \\\n",
       "0  Reviewed-Complete  20211021_133031_75_245a_class_edit            Final   \n",
       "\n",
       "   public      reviewed_by                                            s3_keys  \\\n",
       "0    True  Matthew Bonnema  pending/files/20211021_133031_75_245a_class_ed...   \n",
       "\n",
       "       upload_date                                           geometry  \n",
       "0  20220803_104213  POLYGON ((-64.30053 -33.07480, -64.34944 -33.2...  "
      ]
     },
     "execution_count": 79,
     "metadata": {},
     "output_type": "execute_result"
    }
   ],
   "source": [
    "obj = s3.Object(bucket_name_staging,pending_key)\n",
    "pending_data = obj.get()['Body']\n",
    "pending_gdf = gpd.read_file(pending_data)\n",
    "pending_gdf.head()"
   ]
  },
  {
   "cell_type": "code",
   "execution_count": 80,
   "metadata": {},
   "outputs": [],
   "source": [
    "imagecalc_gdf = gpd.read_file(s3.Object(bucket_name,'image_calc.geojson').get()['Body'])\n",
    "image_gdf = gpd.read_file(s3.Object(bucket_name,'image.geojson').get()['Body'])"
   ]
  },
  {
   "cell_type": "code",
   "execution_count": 81,
   "metadata": {},
   "outputs": [
    {
     "data": {
      "text/plain": [
       "['pending/files/20211021_133031_75_245a_class_edit_review/3_4_classified_2class_edited_ALH_Reviewed_MB.tif',\n",
       " 'pending/files/20211021_133031_75_245a_class_edit_review/Log notes.docx']"
      ]
     },
     "execution_count": 81,
     "metadata": {},
     "output_type": "execute_result"
    }
   ],
   "source": [
    "source_image_name = pending_gdf.image_name.iloc[0]\n",
    "imagecalc_name = pending_gdf.image_calc_name.iloc[0]\n",
    "site = image_gdf[image_gdf.image_name == source_image_name].site_name.iloc[0]\n",
    "src_bucket = pending_gdf.bucket.iloc[0]\n",
    "src_keys = pending_gdf.s3_keys.iloc[0].split(',')\n",
    "src_keys"
   ]
  },
  {
   "cell_type": "code",
   "execution_count": 82,
   "metadata": {},
   "outputs": [
    {
     "data": {
      "text/plain": [
       "'complete/20220803_104213_imagecalc.geojson'"
      ]
     },
     "execution_count": 82,
     "metadata": {},
     "output_type": "execute_result"
    }
   ],
   "source": [
    "s = 'complete/'+'/'.join(pending_key.split('/')[1:])\n",
    "s"
   ]
  },
  {
   "cell_type": "code",
   "execution_count": null,
   "metadata": {},
   "outputs": [],
   "source": []
  },
  {
   "cell_type": "code",
   "execution_count": 83,
   "metadata": {},
   "outputs": [
    {
     "name": "stdout",
     "output_type": "stream",
     "text": [
      "Adding new row to table\n"
     ]
    }
   ],
   "source": [
    "s3_folder_path = 'data/site/'+site+'/image/'+source_image_name+'/image_calc/'+imagecalc_name+'/'\n",
    "#s3_staging_complete_path = 'pending/files/'+metaData['image_calc_name']+'/'+filePaths[key].split('/')[-1]\n",
    "s3_keys = []\n",
    "for key in src_keys:\n",
    "    new_key = s3_folder_path+key.split('/')[-1]\n",
    "    complete_key = 'complete/'+'/'.join(key.split('/')[1:])\n",
    "    s3_keys.append(new_key)\n",
    "    response = s3.meta.client.copy({'Bucket':src_bucket,'Key':key}, bucket_name, new_key)\n",
    "    response = s3.meta.client.copy({'Bucket':src_bucket,'Key':key}, src_bucket, complete_key)\n",
    "    response = s3_client.delete_object(Bucket=src_bucket, Key=key)\n",
    "\n",
    "pending_gdf['s3_keys'] = ','.join(s3_keys)\n",
    "pending_gdf['bucket'] = bucket_name\n",
    "\n",
    "if len(imagecalc_gdf[imagecalc_gdf.image_calc_name==pending_gdf.image_calc_name.iloc[0]]) != 0:\n",
    "    print('image_calc_name: '+pending_gdf.image_calc_name.iloc[0]+' is already in image table')\n",
    "    imagecalc_upd = imagecalc_gdf[imagecalc_gdf.image_calc_name != pending_gdf.image_calc_name.iloc[0]]\n",
    "else:\n",
    "    print('Adding new row to table')\n",
    "    imagecalc_upd = imagecalc_gdf.append(pending_gdf,ignore_index=True)\n",
    "    \n",
    "imagecalc_upd = imagecalc_gdf.append(pending_gdf,ignore_index=True)\n",
    "imagecalc_upd = imagecalc_upd[imagecalc_upd.image_calc_name !=None]\n",
    "imagecalc_upd_bytes = bytes(imagecalc_upd.to_json(drop_id=True).encode('UTF-8'))\n",
    "s3object = s3.Object(bucket_name,'image_calc.geojson')\n",
    "s3object.put(Body=imagecalc_upd_bytes)\n",
    "\n",
    "response = s3.meta.client.copy({'Bucket':src_bucket,'Key':pending_key}, src_bucket, 'complete/'+'/'.join(pending_key.split('/')[1:]))\n",
    "response = s3_client.delete_object(Bucket=src_bucket, Key=pending_key)\n",
    "\n"
   ]
  },
  {
   "cell_type": "code",
   "execution_count": 84,
   "metadata": {},
   "outputs": [
    {
     "data": {
      "text/html": [
       "<div>\n",
       "<style scoped>\n",
       "    .dataframe tbody tr th:only-of-type {\n",
       "        vertical-align: middle;\n",
       "    }\n",
       "\n",
       "    .dataframe tbody tr th {\n",
       "        vertical-align: top;\n",
       "    }\n",
       "\n",
       "    .dataframe thead th {\n",
       "        text-align: right;\n",
       "    }\n",
       "</style>\n",
       "<table border=\"1\" class=\"dataframe\">\n",
       "  <thead>\n",
       "    <tr style=\"text-align: right;\">\n",
       "      <th></th>\n",
       "      <th>bucket</th>\n",
       "      <th>calc_type</th>\n",
       "      <th>calculated_by</th>\n",
       "      <th>image_calc_name</th>\n",
       "      <th>image_name</th>\n",
       "      <th>oversight_level</th>\n",
       "      <th>previous_name</th>\n",
       "      <th>processing_level</th>\n",
       "      <th>public</th>\n",
       "      <th>reviewed_by</th>\n",
       "      <th>s3_keys</th>\n",
       "      <th>upload_date</th>\n",
       "      <th>geometry</th>\n",
       "    </tr>\n",
       "  </thead>\n",
       "  <tbody>\n",
       "    <tr>\n",
       "      <th>0</th>\n",
       "      <td>opera-calval-database-dswx</td>\n",
       "      <td>Supervised Classification</td>\n",
       "      <td>Alexander Handwerger</td>\n",
       "      <td>20211021_133031_75_245a_class</td>\n",
       "      <td>20211021_133031_75_245a</td>\n",
       "      <td>None</td>\n",
       "      <td>None</td>\n",
       "      <td>Intermediate</td>\n",
       "      <td>True</td>\n",
       "      <td>None</td>\n",
       "      <td>data/site/3_4/image/20211021_133031_75_245a/im...</td>\n",
       "      <td>20220802_145632</td>\n",
       "      <td>POLYGON ((-64.30053 -33.07480, -64.34944 -33.2...</td>\n",
       "    </tr>\n",
       "    <tr>\n",
       "      <th>1</th>\n",
       "      <td>None</td>\n",
       "      <td>None</td>\n",
       "      <td>None</td>\n",
       "      <td>None</td>\n",
       "      <td>None</td>\n",
       "      <td>None</td>\n",
       "      <td>None</td>\n",
       "      <td>None</td>\n",
       "      <td>None</td>\n",
       "      <td>None</td>\n",
       "      <td>None</td>\n",
       "      <td>None</td>\n",
       "      <td>None</td>\n",
       "    </tr>\n",
       "    <tr>\n",
       "      <th>2</th>\n",
       "      <td>opera-calval-database-dswx</td>\n",
       "      <td>Manual Edit of Classification</td>\n",
       "      <td>Alexander Handwerger</td>\n",
       "      <td>20211021_133031_75_245a_class_edit</td>\n",
       "      <td>20211021_133031_75_245a</td>\n",
       "      <td>None</td>\n",
       "      <td>20211021_133031_75_245a_class</td>\n",
       "      <td>Intermediate</td>\n",
       "      <td>True</td>\n",
       "      <td>None</td>\n",
       "      <td>data/site/3_4/image/20211021_133031_75_245a/im...</td>\n",
       "      <td>20220802_161902</td>\n",
       "      <td>POLYGON ((-64.30053 -33.07480, -64.34944 -33.2...</td>\n",
       "    </tr>\n",
       "    <tr>\n",
       "      <th>3</th>\n",
       "      <td>opera-calval-database-dswx</td>\n",
       "      <td>Review</td>\n",
       "      <td>Alexander Handwerger</td>\n",
       "      <td>20211021_133031_75_245a_class_edit_review</td>\n",
       "      <td>20211021_133031_75_245a</td>\n",
       "      <td>Reviewed-Complete</td>\n",
       "      <td>20211021_133031_75_245a_class_edit</td>\n",
       "      <td>Final</td>\n",
       "      <td>True</td>\n",
       "      <td>Matthew Bonnema</td>\n",
       "      <td>data/site/3_4/image/20211021_133031_75_245a/im...</td>\n",
       "      <td>20220803_104213</td>\n",
       "      <td>POLYGON ((-64.30053 -33.07480, -64.34944 -33.2...</td>\n",
       "    </tr>\n",
       "  </tbody>\n",
       "</table>\n",
       "</div>"
      ],
      "text/plain": [
       "                       bucket                      calc_type  \\\n",
       "0  opera-calval-database-dswx      Supervised Classification   \n",
       "1                        None                           None   \n",
       "2  opera-calval-database-dswx  Manual Edit of Classification   \n",
       "3  opera-calval-database-dswx                         Review   \n",
       "\n",
       "          calculated_by                            image_calc_name  \\\n",
       "0  Alexander Handwerger              20211021_133031_75_245a_class   \n",
       "1                  None                                       None   \n",
       "2  Alexander Handwerger         20211021_133031_75_245a_class_edit   \n",
       "3  Alexander Handwerger  20211021_133031_75_245a_class_edit_review   \n",
       "\n",
       "                image_name    oversight_level  \\\n",
       "0  20211021_133031_75_245a               None   \n",
       "1                     None               None   \n",
       "2  20211021_133031_75_245a               None   \n",
       "3  20211021_133031_75_245a  Reviewed-Complete   \n",
       "\n",
       "                        previous_name processing_level public  \\\n",
       "0                                None     Intermediate   True   \n",
       "1                                None             None   None   \n",
       "2       20211021_133031_75_245a_class     Intermediate   True   \n",
       "3  20211021_133031_75_245a_class_edit            Final   True   \n",
       "\n",
       "       reviewed_by                                            s3_keys  \\\n",
       "0             None  data/site/3_4/image/20211021_133031_75_245a/im...   \n",
       "1             None                                               None   \n",
       "2             None  data/site/3_4/image/20211021_133031_75_245a/im...   \n",
       "3  Matthew Bonnema  data/site/3_4/image/20211021_133031_75_245a/im...   \n",
       "\n",
       "       upload_date                                           geometry  \n",
       "0  20220802_145632  POLYGON ((-64.30053 -33.07480, -64.34944 -33.2...  \n",
       "1             None                                               None  \n",
       "2  20220802_161902  POLYGON ((-64.30053 -33.07480, -64.34944 -33.2...  \n",
       "3  20220803_104213  POLYGON ((-64.30053 -33.07480, -64.34944 -33.2...  "
      ]
     },
     "execution_count": 84,
     "metadata": {},
     "output_type": "execute_result"
    }
   ],
   "source": [
    "new_imagecalc_gdf = gpd.read_file(s3.Object(bucket_name,'image_calc.geojson').get()['Body'])\n",
    "new_imagecalc_gdf.head()"
   ]
  },
  {
   "cell_type": "code",
   "execution_count": 42,
   "metadata": {},
   "outputs": [],
   "source": []
  },
  {
   "cell_type": "code",
   "execution_count": 43,
   "metadata": {},
   "outputs": [],
   "source": []
  },
  {
   "cell_type": "code",
   "execution_count": null,
   "metadata": {},
   "outputs": [],
   "source": []
  }
 ],
 "metadata": {
  "kernelspec": {
   "display_name": "Python 3",
   "language": "python",
   "name": "python3"
  },
  "language_info": {
   "codemirror_mode": {
    "name": "ipython",
    "version": 3
   },
   "file_extension": ".py",
   "mimetype": "text/x-python",
   "name": "python",
   "nbconvert_exporter": "python",
   "pygments_lexer": "ipython3",
   "version": "3.7.4"
  }
 },
 "nbformat": 4,
 "nbformat_minor": 2
}
