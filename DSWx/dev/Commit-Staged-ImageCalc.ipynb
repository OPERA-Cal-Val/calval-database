{
 "cells": [
  {
   "cell_type": "code",
   "execution_count": 30,
   "metadata": {},
   "outputs": [],
   "source": [
    "import geopandas as gpd\n",
    "import boto3"
   ]
  },
  {
   "cell_type": "code",
   "execution_count": 31,
   "metadata": {},
   "outputs": [],
   "source": [
    "bucket_name = 'opera-calval-database-dswx'\n",
    "bucket_name_staging = 'opera-calval-database-dswx-staging'"
   ]
  },
  {
   "cell_type": "code",
   "execution_count": 32,
   "metadata": {},
   "outputs": [],
   "source": [
    "session = boto3.session.Session(profile_name='saml-pub')\n",
    "s3 = session.resource('s3')\n",
    "s3_client = session.client('s3')"
   ]
  },
  {
   "cell_type": "code",
   "execution_count": 33,
   "metadata": {},
   "outputs": [
    {
     "name": "stdout",
     "output_type": "stream",
     "text": [
      "pending/20220719_211840_imagecalc.geojson\n"
     ]
    }
   ],
   "source": [
    "bucket = s3.Bucket(bucket_name_staging)\n",
    "\n",
    "## List objects within a given prefix\n",
    "for obj in bucket.objects.filter(Delimiter='/', Prefix='pending/'):\n",
    "    print(obj.key)"
   ]
  },
  {
   "cell_type": "code",
   "execution_count": 34,
   "metadata": {},
   "outputs": [],
   "source": [
    "pending_key = 'pending/20220719_211840_imagecalc.geojson'"
   ]
  },
  {
   "cell_type": "code",
   "execution_count": 35,
   "metadata": {},
   "outputs": [
    {
     "data": {
      "text/html": [
       "<div>\n",
       "<style scoped>\n",
       "    .dataframe tbody tr th:only-of-type {\n",
       "        vertical-align: middle;\n",
       "    }\n",
       "\n",
       "    .dataframe tbody tr th {\n",
       "        vertical-align: top;\n",
       "    }\n",
       "\n",
       "    .dataframe thead th {\n",
       "        text-align: right;\n",
       "    }\n",
       "</style>\n",
       "<table border=\"1\" class=\"dataframe\">\n",
       "  <thead>\n",
       "    <tr style=\"text-align: right;\">\n",
       "      <th></th>\n",
       "      <th>bucket</th>\n",
       "      <th>calc_type</th>\n",
       "      <th>fitness</th>\n",
       "      <th>image_calc_name</th>\n",
       "      <th>image_name</th>\n",
       "      <th>oversight_level</th>\n",
       "      <th>previous_name</th>\n",
       "      <th>processing_level</th>\n",
       "      <th>public</th>\n",
       "      <th>s3_key_imagecalc</th>\n",
       "      <th>s3_key_logfile</th>\n",
       "      <th>s3_key_training</th>\n",
       "      <th>upload_date</th>\n",
       "      <th>geometry</th>\n",
       "    </tr>\n",
       "  </thead>\n",
       "  <tbody>\n",
       "    <tr>\n",
       "      <td>0</td>\n",
       "      <td>opera-calval-database-dswx-staging</td>\n",
       "      <td>Supervised Classification</td>\n",
       "      <td>None</td>\n",
       "      <td>20210912_034049_22_2421_supMD</td>\n",
       "      <td>20210912_034049_22_2421</td>\n",
       "      <td>None</td>\n",
       "      <td>None</td>\n",
       "      <td>Intermediate</td>\n",
       "      <td>True</td>\n",
       "      <td>pending/uploads/20210912_034049_22_2421_supMD2...</td>\n",
       "      <td>pending/uploads/20210912_034049_22_2421_supMD0...</td>\n",
       "      <td>pending/uploads/20210912_034049_22_2421_supMDt...</td>\n",
       "      <td>20220719_211840</td>\n",
       "      <td>POLYGON ((97.44674 49.52974, 97.37427 49.34386...</td>\n",
       "    </tr>\n",
       "  </tbody>\n",
       "</table>\n",
       "</div>"
      ],
      "text/plain": [
       "                               bucket                  calc_type fitness  \\\n",
       "0  opera-calval-database-dswx-staging  Supervised Classification    None   \n",
       "\n",
       "                 image_calc_name               image_name oversight_level  \\\n",
       "0  20210912_034049_22_2421_supMD  20210912_034049_22_2421            None   \n",
       "\n",
       "  previous_name processing_level  public  \\\n",
       "0          None     Intermediate    True   \n",
       "\n",
       "                                    s3_key_imagecalc  \\\n",
       "0  pending/uploads/20210912_034049_22_2421_supMD2...   \n",
       "\n",
       "                                      s3_key_logfile  \\\n",
       "0  pending/uploads/20210912_034049_22_2421_supMD0...   \n",
       "\n",
       "                                     s3_key_training      upload_date  \\\n",
       "0  pending/uploads/20210912_034049_22_2421_supMDt...  20220719_211840   \n",
       "\n",
       "                                            geometry  \n",
       "0  POLYGON ((97.44674 49.52974, 97.37427 49.34386...  "
      ]
     },
     "execution_count": 35,
     "metadata": {},
     "output_type": "execute_result"
    }
   ],
   "source": [
    "obj = s3.Object(bucket_name_staging,pending_key)\n",
    "pending_data = obj.get()['Body']\n",
    "pending_gdf = gpd.read_file(pending_data)\n",
    "pending_gdf.head()"
   ]
  },
  {
   "cell_type": "code",
   "execution_count": 36,
   "metadata": {},
   "outputs": [
    {
     "data": {
      "text/html": [
       "<div>\n",
       "<style scoped>\n",
       "    .dataframe tbody tr th:only-of-type {\n",
       "        vertical-align: middle;\n",
       "    }\n",
       "\n",
       "    .dataframe tbody tr th {\n",
       "        vertical-align: top;\n",
       "    }\n",
       "\n",
       "    .dataframe thead th {\n",
       "        text-align: right;\n",
       "    }\n",
       "</style>\n",
       "<table border=\"1\" class=\"dataframe\">\n",
       "  <thead>\n",
       "    <tr style=\"text-align: right;\">\n",
       "      <th></th>\n",
       "      <th>cloud_cover</th>\n",
       "      <th>collocated_dswx</th>\n",
       "      <th>datetime</th>\n",
       "      <th>image_name</th>\n",
       "      <th>instrument</th>\n",
       "      <th>provider</th>\n",
       "      <th>resolution</th>\n",
       "      <th>s3_bucket</th>\n",
       "      <th>s3_key_image</th>\n",
       "      <th>site_coverage</th>\n",
       "      <th>site_name</th>\n",
       "      <th>timeDelta_days</th>\n",
       "      <th>geometry</th>\n",
       "    </tr>\n",
       "  </thead>\n",
       "  <tbody>\n",
       "    <tr>\n",
       "      <td>0</td>\n",
       "      <td>0.0</td>\n",
       "      <td>HLS.S30.T10VEK.2021268T192141.v2.0</td>\n",
       "      <td>2021-09-25T19:17:08</td>\n",
       "      <td>20210925_191708_94_2408</td>\n",
       "      <td>PSB.SD</td>\n",
       "      <td>planetscope</td>\n",
       "      <td>3.0</td>\n",
       "      <td>opera-calval-database-dswx-private</td>\n",
       "      <td>data/3_42/20210925_191708_94_2408/20210925_191...</td>\n",
       "      <td>84.975663</td>\n",
       "      <td>3_42</td>\n",
       "      <td>0.007904</td>\n",
       "      <td>POLYGON ((-122.94132 57.97664, -123.03517 57.7...</td>\n",
       "    </tr>\n",
       "    <tr>\n",
       "      <td>1</td>\n",
       "      <td>0.0</td>\n",
       "      <td>HLS.L30.T18UXG.2021300T154817.v2.0</td>\n",
       "      <td>2021-10-27T15:14:45</td>\n",
       "      <td>20211027_151445_21_2231</td>\n",
       "      <td>PSB.SD</td>\n",
       "      <td>planetscope</td>\n",
       "      <td>3.0</td>\n",
       "      <td>opera-calval-database-dswx-private</td>\n",
       "      <td>data/4_21/20211027_151445_21_2231/20211027_151...</td>\n",
       "      <td>52.216780</td>\n",
       "      <td>4_21</td>\n",
       "      <td>0.023288</td>\n",
       "      <td>POLYGON ((-71.93982 55.28796, -72.02213 55.104...</td>\n",
       "    </tr>\n",
       "    <tr>\n",
       "      <td>2</td>\n",
       "      <td>0.0</td>\n",
       "      <td>HLS.S30.T18FYH.2021302T141741.v2.0</td>\n",
       "      <td>2021-10-30T14:26:13</td>\n",
       "      <td>20211030_142613_41_227b</td>\n",
       "      <td>PSB.SD</td>\n",
       "      <td>planetscope</td>\n",
       "      <td>3.0</td>\n",
       "      <td>opera-calval-database-dswx-private</td>\n",
       "      <td>data/2_8/20211030_142613_41_227b/20211030_1426...</td>\n",
       "      <td>74.756870</td>\n",
       "      <td>2_8</td>\n",
       "      <td>0.992265</td>\n",
       "      <td>POLYGON ((-71.22036 -51.94097, -71.30174 -52.1...</td>\n",
       "    </tr>\n",
       "    <tr>\n",
       "      <td>3</td>\n",
       "      <td>0.0</td>\n",
       "      <td>HLS.S30.T36LWH.2021268T073641.v2.0</td>\n",
       "      <td>2021-09-26T07:24:14</td>\n",
       "      <td>20210926_072414_71_2233</td>\n",
       "      <td>PSB.SD</td>\n",
       "      <td>planetscope</td>\n",
       "      <td>3.0</td>\n",
       "      <td>opera-calval-database-dswx-private</td>\n",
       "      <td>data/4_3/20210926_072414_71_2233/20210926_0724...</td>\n",
       "      <td>97.600689</td>\n",
       "      <td>4_3</td>\n",
       "      <td>0.972010</td>\n",
       "      <td>POLYGON ((33.42779 -16.15910, 33.38993 -16.342...</td>\n",
       "    </tr>\n",
       "    <tr>\n",
       "      <td>4</td>\n",
       "      <td>0.0</td>\n",
       "      <td>HLS.S30.T15VUK.2021244T175911.v2.0</td>\n",
       "      <td>2021-09-01T17:52:05</td>\n",
       "      <td>20210901_175205_71_2426</td>\n",
       "      <td>PSB.SD</td>\n",
       "      <td>planetscope</td>\n",
       "      <td>3.0</td>\n",
       "      <td>opera-calval-database-dswx-private</td>\n",
       "      <td>data/4_34/20210901_175205_71_2426/20210901_175...</td>\n",
       "      <td>96.416886</td>\n",
       "      <td>4_34</td>\n",
       "      <td>0.009994</td>\n",
       "      <td>POLYGON ((-96.94381 62.88876, -97.07609 62.707...</td>\n",
       "    </tr>\n",
       "  </tbody>\n",
       "</table>\n",
       "</div>"
      ],
      "text/plain": [
       "   cloud_cover                     collocated_dswx             datetime  \\\n",
       "0          0.0  HLS.S30.T10VEK.2021268T192141.v2.0  2021-09-25T19:17:08   \n",
       "1          0.0  HLS.L30.T18UXG.2021300T154817.v2.0  2021-10-27T15:14:45   \n",
       "2          0.0  HLS.S30.T18FYH.2021302T141741.v2.0  2021-10-30T14:26:13   \n",
       "3          0.0  HLS.S30.T36LWH.2021268T073641.v2.0  2021-09-26T07:24:14   \n",
       "4          0.0  HLS.S30.T15VUK.2021244T175911.v2.0  2021-09-01T17:52:05   \n",
       "\n",
       "                image_name instrument     provider  resolution  \\\n",
       "0  20210925_191708_94_2408     PSB.SD  planetscope         3.0   \n",
       "1  20211027_151445_21_2231     PSB.SD  planetscope         3.0   \n",
       "2  20211030_142613_41_227b     PSB.SD  planetscope         3.0   \n",
       "3  20210926_072414_71_2233     PSB.SD  planetscope         3.0   \n",
       "4  20210901_175205_71_2426     PSB.SD  planetscope         3.0   \n",
       "\n",
       "                            s3_bucket  \\\n",
       "0  opera-calval-database-dswx-private   \n",
       "1  opera-calval-database-dswx-private   \n",
       "2  opera-calval-database-dswx-private   \n",
       "3  opera-calval-database-dswx-private   \n",
       "4  opera-calval-database-dswx-private   \n",
       "\n",
       "                                        s3_key_image  site_coverage site_name  \\\n",
       "0  data/3_42/20210925_191708_94_2408/20210925_191...      84.975663      3_42   \n",
       "1  data/4_21/20211027_151445_21_2231/20211027_151...      52.216780      4_21   \n",
       "2  data/2_8/20211030_142613_41_227b/20211030_1426...      74.756870       2_8   \n",
       "3  data/4_3/20210926_072414_71_2233/20210926_0724...      97.600689       4_3   \n",
       "4  data/4_34/20210901_175205_71_2426/20210901_175...      96.416886      4_34   \n",
       "\n",
       "   timeDelta_days                                           geometry  \n",
       "0        0.007904  POLYGON ((-122.94132 57.97664, -123.03517 57.7...  \n",
       "1        0.023288  POLYGON ((-71.93982 55.28796, -72.02213 55.104...  \n",
       "2        0.992265  POLYGON ((-71.22036 -51.94097, -71.30174 -52.1...  \n",
       "3        0.972010  POLYGON ((33.42779 -16.15910, 33.38993 -16.342...  \n",
       "4        0.009994  POLYGON ((-96.94381 62.88876, -97.07609 62.707...  "
      ]
     },
     "execution_count": 36,
     "metadata": {},
     "output_type": "execute_result"
    }
   ],
   "source": [
    "imagecalc_gdf = gpd.read_file(s3.Object(bucket_name,'image_calc.geojson').get()['Body'])\n",
    "imagecalc_gdf.head()\n",
    "\n",
    "image_gdf = gpd.read_file(s3.Object(bucket_name,'image.geojson').get()['Body'])\n",
    "image_gdf.head()"
   ]
  },
  {
   "cell_type": "code",
   "execution_count": 37,
   "metadata": {},
   "outputs": [],
   "source": [
    "source_image_name = pending_gdf.image_name.iloc[0]\n",
    "filename = pending_gdf.image_calc_name.iloc[0]\n",
    "source_bucket = pending_gdf.bucket.iloc[0]\n",
    "src_imagecalc = pending_gdf.s3_key_imagecalc.iloc[0]\n",
    "src_logfile = pending_gdf.s3_key_logfile.iloc[0]\n",
    "src_training = pending_gdf.s3_key_training.iloc[0]"
   ]
  },
  {
   "cell_type": "code",
   "execution_count": 38,
   "metadata": {},
   "outputs": [
    {
     "data": {
      "text/plain": [
       "'4_8'"
      ]
     },
     "execution_count": 38,
     "metadata": {},
     "output_type": "execute_result"
    }
   ],
   "source": [
    "site = image_gdf[image_gdf.image_name == source_image_name].site_name.iloc[0]\n",
    "site"
   ]
  },
  {
   "cell_type": "code",
   "execution_count": 39,
   "metadata": {},
   "outputs": [
    {
     "name": "stderr",
     "output_type": "stream",
     "text": [
      "/opt/anaconda3/lib/python3.7/site-packages/pandas/core/frame.py:7123: FutureWarning: Sorting because non-concatenation axis is not aligned. A future version\n",
      "of pandas will change to not sort by default.\n",
      "\n",
      "To accept the future behavior, pass 'sort=False'.\n",
      "\n",
      "To retain the current behavior and silence the warning, pass 'sort=True'.\n",
      "\n",
      "  sort=sort,\n"
     ]
    },
    {
     "data": {
      "text/plain": [
       "{'ResponseMetadata': {'RequestId': 'MD83MWPGYG1N6JM3',\n",
       "  'HostId': 'HRndBOZwojSokR5rYpJG5h3JpYBTDBo2wBe60Cz5aHxvi13PHlDk+fcK2J9RJs0pgOK9Ltye7sk=',\n",
       "  'HTTPStatusCode': 200,\n",
       "  'HTTPHeaders': {'x-amz-id-2': 'HRndBOZwojSokR5rYpJG5h3JpYBTDBo2wBe60Cz5aHxvi13PHlDk+fcK2J9RJs0pgOK9Ltye7sk=',\n",
       "   'x-amz-request-id': 'MD83MWPGYG1N6JM3',\n",
       "   'date': 'Wed, 20 Jul 2022 19:32:15 GMT',\n",
       "   'etag': '\"1fe06b96c7c8fc89a89d9c165decaa26\"',\n",
       "   'server': 'AmazonS3',\n",
       "   'content-length': '0'},\n",
       "  'RetryAttempts': 0},\n",
       " 'ETag': '\"1fe06b96c7c8fc89a89d9c165decaa26\"'}"
      ]
     },
     "execution_count": 39,
     "metadata": {},
     "output_type": "execute_result"
    }
   ],
   "source": [
    "s3_folder_path = 'data/site/'+site+'/image/'+source_image_name+'/image_calc/'+filename+'/'\n",
    "s3_key_image = s3_folder_path+filename+'.tif'\n",
    "response = s3.meta.client.copy({'Bucket':source_bucket,'Key':src_imagecalc}, bucket_name, s3_key_image)\n",
    "if src_logfile != None:\n",
    "    s3_key_logfile = s3_folder_path+filename+'_logfile.docx'\n",
    "    response = s3.meta.client.copy({'Bucket':source_bucket,'Key':src_logfile}, bucket_name, s3_key_logfile)\n",
    "else:\n",
    "    s3_key_logfile = None\n",
    "if src_training != None:\n",
    "    s3_key_training = s3_folder_path+filename+'_training.scp'\n",
    "    response = s3.meta.client.copy({'Bucket':source_bucket,'Key':src_training}, bucket_name, s3_key_training)\n",
    "else:\n",
    "    s3_key_training = None\n",
    "    \n",
    "pending_gdf['s3_key_imagecalc'] = s3_key_image\n",
    "pending_gdf['s3_key_logfile'] = s3_key_logfile\n",
    "pending_gdf['s3_key_training'] = s3_key_training\n",
    "\n",
    "pending_gdf['bucket'] = bucket_name\n",
    "\n",
    "imagecalc_upd = imagecalc_gdf.append(pending_gdf,ignore_index=True)\n",
    "\n",
    "imagecalc_upd_bytes = bytes(imagecalc_upd.to_json(drop_id=True).encode('UTF-8'))\n",
    "s3object = s3.Object(bucket_name,'image_calc.geojson')\n",
    "s3object.put(Body=imagecalc_upd_bytes)\n",
    "\n"
   ]
  },
  {
   "cell_type": "code",
   "execution_count": null,
   "metadata": {},
   "outputs": [],
   "source": []
  }
 ],
 "metadata": {
  "kernelspec": {
   "display_name": "Python 3",
   "language": "python",
   "name": "python3"
  },
  "language_info": {
   "codemirror_mode": {
    "name": "ipython",
    "version": 3
   },
   "file_extension": ".py",
   "mimetype": "text/x-python",
   "name": "python",
   "nbconvert_exporter": "python",
   "pygments_lexer": "ipython3",
   "version": "3.7.4"
  }
 },
 "nbformat": 4,
 "nbformat_minor": 2
}
