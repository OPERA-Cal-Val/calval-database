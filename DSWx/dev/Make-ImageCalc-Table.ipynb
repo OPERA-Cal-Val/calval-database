{
 "cells": [
  {
   "cell_type": "code",
   "execution_count": 26,
   "metadata": {},
   "outputs": [],
   "source": [
    "import geopandas as gpd\n",
    "import boto3"
   ]
  },
  {
   "cell_type": "code",
   "execution_count": 27,
   "metadata": {},
   "outputs": [],
   "source": [
    "bucket_name = 'opera-calval-database-dswx'"
   ]
  },
  {
   "cell_type": "code",
   "execution_count": 28,
   "metadata": {},
   "outputs": [],
   "source": [
    "session = boto3.session.Session(profile_name='saml-pub')\n",
    "s3 = session.resource('s3')"
   ]
  },
  {
   "cell_type": "code",
   "execution_count": 29,
   "metadata": {},
   "outputs": [],
   "source": [
    "session = boto3.session.Session(profile_name='saml-pub')\n",
    "s3 = session.resource('s3')"
   ]
  },
  {
   "cell_type": "code",
   "execution_count": 30,
   "metadata": {},
   "outputs": [],
   "source": [
    "columns = [\n",
    "    'image_name',\n",
    "    'image_calc_name',\n",
    "    'previous_calc_name',\n",
    "    'calc_type',\n",
    "    'processing_level',\n",
    "    'oversight_level',\n",
    "    'fitness',\n",
    "    's3_key_imagecalc',\n",
    "    's3_key_logfile',\n",
    "    's3_key_training',\n",
    "    's3_key_auxfiles',\n",
    "    'public',\n",
    "    'geometry',\n",
    "    'upload_date'\n",
    "]"
   ]
  },
  {
   "cell_type": "code",
   "execution_count": 31,
   "metadata": {},
   "outputs": [
    {
     "data": {
      "text/plain": [
       "['image_name',\n",
       " 'image_calc_name',\n",
       " 'previous_calc_name',\n",
       " 'calc_type',\n",
       " 'processing_level',\n",
       " 'oversight_level',\n",
       " 'fitness',\n",
       " 's3_key_imagecalc',\n",
       " 's3_key_logfile',\n",
       " 's3_key_training',\n",
       " 's3_key_auxfiles',\n",
       " 'public',\n",
       " 'geometry',\n",
       " 'upload_date']"
      ]
     },
     "execution_count": 31,
     "metadata": {},
     "output_type": "execute_result"
    }
   ],
   "source": [
    "columns"
   ]
  },
  {
   "cell_type": "code",
   "execution_count": 32,
   "metadata": {},
   "outputs": [],
   "source": [
    "empty_gdf = gpd.GeoDataFrame(columns=columns, geometry='geometry')"
   ]
  },
  {
   "cell_type": "code",
   "execution_count": 33,
   "metadata": {},
   "outputs": [
    {
     "data": {
      "text/plain": [
       "{'ResponseMetadata': {'RequestId': 'Z0THV07JYSK00YDW',\n",
       "  'HostId': 'e1a7KWS0DbKRCCwjDK5p8cL0L2is12kSwIAd8i72DpYOhvyIHivuDc7vjb89ODpki0FnNMySmfs=',\n",
       "  'HTTPStatusCode': 200,\n",
       "  'HTTPHeaders': {'x-amz-id-2': 'e1a7KWS0DbKRCCwjDK5p8cL0L2is12kSwIAd8i72DpYOhvyIHivuDc7vjb89ODpki0FnNMySmfs=',\n",
       "   'x-amz-request-id': 'Z0THV07JYSK00YDW',\n",
       "   'date': 'Wed, 20 Jul 2022 19:31:14 GMT',\n",
       "   'etag': '\"da404b6cce8e78b4146b483163ccc867\"',\n",
       "   'server': 'AmazonS3',\n",
       "   'content-length': '0'},\n",
       "  'RetryAttempts': 0},\n",
       " 'ETag': '\"da404b6cce8e78b4146b483163ccc867\"'}"
      ]
     },
     "execution_count": 33,
     "metadata": {},
     "output_type": "execute_result"
    }
   ],
   "source": [
    "table_bytes = bytes(empty_gdf.to_json(drop_id=True).encode('UTF-8'))\n",
    "s3object = s3.Object(bucket_name,'image_calc.geojson')\n",
    "s3object.put(Body=table_bytes)"
   ]
  },
  {
   "cell_type": "code",
   "execution_count": null,
   "metadata": {},
   "outputs": [],
   "source": []
  }
 ],
 "metadata": {
  "kernelspec": {
   "display_name": "Python 3",
   "language": "python",
   "name": "python3"
  },
  "language_info": {
   "codemirror_mode": {
    "name": "ipython",
    "version": 3
   },
   "file_extension": ".py",
   "mimetype": "text/x-python",
   "name": "python",
   "nbconvert_exporter": "python",
   "pygments_lexer": "ipython3",
   "version": "3.7.4"
  }
 },
 "nbformat": 4,
 "nbformat_minor": 2
}
