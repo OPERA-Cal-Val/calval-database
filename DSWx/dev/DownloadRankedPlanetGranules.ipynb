{
 "cells": [
  {
   "cell_type": "code",
   "execution_count": null,
   "metadata": {},
   "outputs": [],
   "source": [
    "import geopandas as gpd\n",
    "import pandas as pd\n",
    "from planet import api\n",
    "from planet.api import downloader\n",
    "from planet.api.downloader import create\n",
    "import time"
   ]
  },
  {
   "cell_type": "code",
   "execution_count": null,
   "metadata": {},
   "outputs": [],
   "source": [
    "item_type = 'PSScene'\n",
    "asset_type = 'ortho_analytic_8b_sr'\n",
    "backup_type = 'ortho_analytic_4b'\n",
    "download_dir = './downloads/'"
   ]
  },
  {
   "cell_type": "code",
   "execution_count": null,
   "metadata": {},
   "outputs": [],
   "source": [
    "planet_api_key = input('PLANET API KEY')"
   ]
  },
  {
   "cell_type": "code",
   "execution_count": null,
   "metadata": {},
   "outputs": [],
   "source": [
    "def activatePlanet(sceneID,item_type,asset_type):\n",
    "    client = api.ClientV1(api_key=planet_api_key)\n",
    "    assets = client.get_assets_by_id(item_type, sceneID).get()\n",
    "    activation = client.activate(assets[asset_type])\n",
    "    time.sleep(5)\n",
    "    return asset_type\n",
    "\n",
    "def downloadPlanetBatch(sceneIDs,item_type,asset_types,outDir):\n",
    "    client = api.ClientV1(api_key=planet_api_key)\n",
    "    completeFlag = 0\n",
    "\n",
    "    while completeFlag == 0:\n",
    "        sceneIDsPending = sceneIDs\n",
    "        for sceneID in sceneIDsPending:\n",
    "            asset_type = asset_types[sceneID]\n",
    "            activeCheck = client.get_assets_by_id(item_type, sceneID).get()[asset_type]['status']\n",
    "            if activeCheck == 'active':\n",
    "                print('Downloading: '+sceneID)\n",
    "                assets = client.get_assets_by_id(item_type, sceneID).get()\n",
    "                callback = api.write_to_file(directory=outDir, callback= None, overwrite= True)\n",
    "                body = client.download(assets[asset_type], callback=callback)\n",
    "                body.wait()\n",
    "                sceneIDs.remove(sceneID)\n",
    "\n",
    "                print('\\tFinished download')\n",
    "                \n",
    "        if len(sceneIDs) == 0:\n",
    "            completeFlag = 1\n",
    "        else:\n",
    "            print('Waiting for activation of '+str(len(sceneIDs))+' planet images')\n",
    "            time.sleep(60)"
   ]
  },
  {
   "cell_type": "code",
   "execution_count": null,
   "metadata": {},
   "outputs": [],
   "source": [
    "csvPath = './Collocation_HLS_Planet_2021.csv'\n",
    "Collocation = pd.read_csv(csvPath, index_col=0)"
   ]
  },
  {
   "cell_type": "code",
   "execution_count": null,
   "metadata": {},
   "outputs": [],
   "source": [
    "chipIDs = Collocation.chip_ID\n",
    "Strata = []\n",
    "for ID in chipIDs:\n",
    "    s = int(ID[0])\n",
    "    Strata.append(s)\n",
    "\n",
    "Collocation['Strata'] = Strata"
   ]
  },
  {
   "cell_type": "code",
   "execution_count": null,
   "metadata": {},
   "outputs": [],
   "source": [
    "Ranked = pd.DataFrame()\n",
    "chipIDs_uniq = Collocation.chip_ID.unique()\n",
    "for ID in chipIDs_uniq:\n",
    "    search = Collocation[(Collocation.chip_ID == ID) & (Collocation.pl_Cloud_Cover == 0.0) & (Collocation.hls_Cloud_Cover <= 30.0)].sort_values(by=['hls_pl_AOI_intersect'],ascending=False)\n",
    "    if len(search) > 0:\n",
    "        top = search.iloc[0]\n",
    "        Ranked = Ranked.append(top, ignore_index=True)\n",
    "    else:\n",
    "        search = Collocation[(Collocation.chip_ID == ID) & (Collocation.pl_Cloud_Cover == 0.0) & (Collocation.hls_Cloud_Cover <= 60.0)].sort_values(by=['hls_pl_AOI_intersect'],ascending=False)\n",
    "        top = search.iloc[0]\n",
    "        Ranked = Ranked.append(top, ignore_index=True)\n",
    "Ranked.head()"
   ]
  },
  {
   "cell_type": "code",
   "execution_count": null,
   "metadata": {},
   "outputs": [],
   "source": [
    "IDs = Ranked.pl_ID.tolist()\n"
   ]
  },
  {
   "cell_type": "code",
   "execution_count": null,
   "metadata": {
    "scrolled": false
   },
   "outputs": [],
   "source": [
    "asset_types = {}\n",
    "for ID in IDs:\n",
    "    try:\n",
    "        aType = activatePlanet(ID,item_type,asset_type)\n",
    "        print('Activated ID:'+ID)\n",
    "    except:\n",
    "        try:\n",
    "            aType = activatePlanet(ID,item_type,backup_type)\n",
    "        except:\n",
    "            print('Failed to activate ID:'+ID)\n",
    "    asset_types[ID] = aType"
   ]
  },
  {
   "cell_type": "code",
   "execution_count": null,
   "metadata": {},
   "outputs": [],
   "source": [
    "copyIDs = IDs"
   ]
  },
  {
   "cell_type": "code",
   "execution_count": null,
   "metadata": {
    "scrolled": false
   },
   "outputs": [],
   "source": [
    "downloadPlanetBatch(IDs,item_type,asset_types,download_dir)"
   ]
  },
  {
   "cell_type": "code",
   "execution_count": null,
   "metadata": {},
   "outputs": [],
   "source": [
    "len(IDs)\n"
   ]
  },
  {
   "cell_type": "code",
   "execution_count": null,
   "metadata": {},
   "outputs": [],
   "source": []
  }
 ],
 "metadata": {
  "kernelspec": {
   "display_name": "Python 3",
   "language": "python",
   "name": "python3"
  },
  "language_info": {
   "codemirror_mode": {
    "name": "ipython",
    "version": 3
   },
   "file_extension": ".py",
   "mimetype": "text/x-python",
   "name": "python",
   "nbconvert_exporter": "python",
   "pygments_lexer": "ipython3",
   "version": "3.7.4"
  }
 },
 "nbformat": 4,
 "nbformat_minor": 2
}
