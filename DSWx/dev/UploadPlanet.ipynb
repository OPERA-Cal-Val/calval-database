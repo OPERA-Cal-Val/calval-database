{
 "cells": [
  {
   "cell_type": "code",
   "execution_count": 13,
   "metadata": {},
   "outputs": [],
   "source": [
    "import geopandas as gpd\n",
    "import pandas as pd\n",
    "import boto3\n",
    "import os"
   ]
  },
  {
   "cell_type": "code",
   "execution_count": 14,
   "metadata": {},
   "outputs": [],
   "source": [
    "bucket_name = 'opera-calval-database-dswx'\n",
    "private_bucket_name = 'opera-calval-database-dswx-private'"
   ]
  },
  {
   "cell_type": "code",
   "execution_count": 21,
   "metadata": {},
   "outputs": [],
   "source": [
    "local_planet_dir = './downloads/crop/'"
   ]
  },
  {
   "cell_type": "code",
   "execution_count": 27,
   "metadata": {},
   "outputs": [],
   "source": [
    "session = boto3.session.Session(profile_name='saml-pub')\n",
    "s3 = session.resource('s3')\n",
    "s3_client = session.client('s3')"
   ]
  },
  {
   "cell_type": "code",
   "execution_count": 23,
   "metadata": {},
   "outputs": [],
   "source": [
    "collocation = gpd.read_file('Collocation_HLS_Planet_2021.geojson')\n"
   ]
  },
  {
   "cell_type": "code",
   "execution_count": 24,
   "metadata": {},
   "outputs": [],
   "source": [
    "#test = collocation.head(100)\n",
    "#for row in test.iterrows():\n",
    "#    print(row[1].pl_ID)"
   ]
  },
  {
   "cell_type": "code",
   "execution_count": 25,
   "metadata": {},
   "outputs": [
    {
     "name": "stdout",
     "output_type": "stream",
     "text": [
      "['20210924_000522_94_2421_3B_AnalyticMS_SR_8b.tif']\n"
     ]
    }
   ],
   "source": [
    "fileList = os.listdir(local_planet_dir)\n",
    "print(fileList)"
   ]
  },
  {
   "cell_type": "code",
   "execution_count": 29,
   "metadata": {
    "scrolled": true
   },
   "outputs": [
    {
     "name": "stdout",
     "output_type": "stream",
     "text": [
      "Adding Image ID: 20210924_000522_94_2421\n",
      "\tBuilding Image Table Entry\n",
      "\timage_name: 20210924_000522_94_2421 is already in image table\n",
      "\tUploading File\n",
      "\tUpdating Image Table\n"
     ]
    },
    {
     "name": "stderr",
     "output_type": "stream",
     "text": [
      "/opt/anaconda3/lib/python3.7/site-packages/pandas/core/frame.py:7123: FutureWarning: Sorting because non-concatenation axis is not aligned. A future version\n",
      "of pandas will change to not sort by default.\n",
      "\n",
      "To accept the future behavior, pass 'sort=False'.\n",
      "\n",
      "To retain the current behavior and silence the warning, pass 'sort=True'.\n",
      "\n",
      "  sort=sort,\n"
     ]
    },
    {
     "name": "stdout",
     "output_type": "stream",
     "text": [
      "\tCompleted\n"
     ]
    }
   ],
   "source": [
    "#fileList = fileList[0:1]\n",
    "#print(fileList)\n",
    "for file in fileList:\n",
    "    if file[-3:] != 'tif':\n",
    "        continue\n",
    "    \n",
    "    ID = file.split('_3B_Analytic')[0]\n",
    "    print('Adding Image ID: '+ID)\n",
    "    print('\\tBuilding Image Table Entry')\n",
    "    search = collocation[(collocation.pl_ID == ID)].sort_values('hls_pl_AOI_intersect',ascending=False)\n",
    "    search = search.iloc[[0]]\n",
    "    site = search.chip_ID.iloc[0]\n",
    "    s3_key_image = 'data/'+site+'/'+ID+'/'+file\n",
    "    new_image = search.drop(columns=['hls_Date','hls_Cloud_Cover','hls_Footprint','hls_AOI_intersect','hls_pl_AOI_intersect','chip_rID'])\n",
    "    new_image = new_image.rename(columns = {'hls_ID':'collocated_dswx','pl_Date':'datetime','pl_ID':'image_name','pl_Cloud_Cover':'cloud_cover','pl_AOI_intersect':'site_coverage','chip_ID':'site_name'})\n",
    "    new_image['s3_bucket'] = private_bucket_name\n",
    "    new_image['s3_key_image'] = s3_key_image\n",
    "    #print(new_image.head())\n",
    "    obj = s3.Object(bucket_name,'image.geojson')\n",
    "    image_data = obj.get()['Body']\n",
    "    image_gdf = gpd.read_file(image_data)\n",
    "    #print(image_gdf)\n",
    "    if 'image_name' in image_gdf.columns:\n",
    "        if len(image_gdf[image_gdf.image_name==new_image.image_name.iloc[0]]) != 0:\n",
    "            print('\\timage_name: '+new_image.image_name.iloc[0]+' is already in image table')\n",
    "            #continue\n",
    "    \n",
    "    print('\\tUploading File')\n",
    "    result = s3_client.list_objects_v2(Bucket=private_bucket_name, Prefix=s3_key_image)\n",
    "    \n",
    "    if 'Contents' in result:\n",
    "        print(\"\\tImage file already exists in bucket\")\n",
    "    else:\n",
    "        response = s3_client.upload_file(local_planet_dir+file,private_bucket_name,s3_key_image)\n",
    "        #print('\\tUpload manually skipped')\n",
    "    \n",
    "    print('\\tUpdating Image Table')\n",
    "    \n",
    "    image_gdf_upd = image_gdf.append(new_image,ignore_index=True)\n",
    "    image_upd_bytes = bytes(image_gdf_upd.to_json(drop_id=True).encode('UTF-8'))\n",
    "    s3object = s3.Object(bucket_name,'image.geojson')\n",
    "    s3object.put(Body=image_upd_bytes)\n",
    "    print('\\tCompleted')"
   ]
  },
  {
   "cell_type": "code",
   "execution_count": 20,
   "metadata": {},
   "outputs": [
    {
     "name": "stdout",
     "output_type": "stream",
     "text": [
      "     cloud_cover                     collocated_dswx             datetime  \\\n",
      "0            0.0  HLS.S30.T10VEK.2021268T192141.v2.0  2021-09-25T19:17:08   \n",
      "1            0.0  HLS.L30.T18UXG.2021300T154817.v2.0  2021-10-27T15:14:45   \n",
      "2            0.0  HLS.S30.T18FYH.2021302T141741.v2.0  2021-10-30T14:26:13   \n",
      "3            0.0  HLS.S30.T36LWH.2021268T073641.v2.0  2021-09-26T07:24:14   \n",
      "4            0.0  HLS.S30.T15VUK.2021244T175911.v2.0  2021-09-01T17:52:05   \n",
      "..           ...                                 ...                  ...   \n",
      "125          0.0  HLS.S30.T35SMV.2021267T085709.v2.0  2021-09-24T08:12:39   \n",
      "126          0.0  HLS.S30.T37SBT.2021270T081721.v2.0  2021-09-28T07:28:02   \n",
      "127          0.0  HLS.S30.T20KMB.2021267T141739.v2.0  2021-09-24T13:34:00   \n",
      "128          0.0  HLS.L30.T33JYG.2021292T084713.v2.0  2021-10-18T08:55:12   \n",
      "129          0.0  HLS.S30.T50HNG.2021248T020439.v2.0  2021-09-06T01:23:32   \n",
      "\n",
      "                  image_name instrument     provider  resolution  \\\n",
      "0    20210925_191708_94_2408     PSB.SD  planetscope         3.0   \n",
      "1    20211027_151445_21_2231     PSB.SD  planetscope         3.0   \n",
      "2    20211030_142613_41_227b     PSB.SD  planetscope         3.0   \n",
      "3    20210926_072414_71_2233     PSB.SD  planetscope         3.0   \n",
      "4    20210901_175205_71_2426     PSB.SD  planetscope         3.0   \n",
      "..                       ...        ...          ...         ...   \n",
      "125  20210924_081239_92_222b     PSB.SD  planetscope         3.0   \n",
      "126  20210928_072802_36_2463     PSB.SD  planetscope         3.0   \n",
      "127  20210924_133400_47_2450     PSB.SD  planetscope         3.0   \n",
      "128  20211018_085512_78_2413     PSB.SD  planetscope         3.0   \n",
      "129  20210906_012332_35_2449     PSB.SD  planetscope         3.0   \n",
      "\n",
      "                              s3_bucket  \\\n",
      "0    opera-calval-database-dswx-private   \n",
      "1    opera-calval-database-dswx-private   \n",
      "2    opera-calval-database-dswx-private   \n",
      "3    opera-calval-database-dswx-private   \n",
      "4    opera-calval-database-dswx-private   \n",
      "..                                  ...   \n",
      "125  opera-calval-database-dswx-private   \n",
      "126  opera-calval-database-dswx-private   \n",
      "127  opera-calval-database-dswx-private   \n",
      "128  opera-calval-database-dswx-private   \n",
      "129  opera-calval-database-dswx-private   \n",
      "\n",
      "                                          s3_key_image  site_coverage  \\\n",
      "0    data/3_42/20210925_191708_94_2408/20210925_191...      84.975663   \n",
      "1    data/4_21/20211027_151445_21_2231/20211027_151...      52.216780   \n",
      "2    data/2_8/20211030_142613_41_227b/20211030_1426...      74.756870   \n",
      "3    data/4_3/20210926_072414_71_2233/20210926_0724...      97.600689   \n",
      "4    data/4_34/20210901_175205_71_2426/20210901_175...      96.416886   \n",
      "..                                                 ...            ...   \n",
      "125  data/4_16/20210924_081239_92_222b/20210924_081...      75.551600   \n",
      "126  data/1_6/20210928_072802_36_2463/20210928_0728...      97.858324   \n",
      "127  data/2_40/20210924_133400_47_2450/20210924_133...      70.310155   \n",
      "128  data/1_31/20211018_085512_78_2413/20211018_085...      84.026325   \n",
      "129  data/2_14/20210906_012332_35_2449/20210906_012...      87.111809   \n",
      "\n",
      "    site_name  timeDelta_days  \\\n",
      "0        3_42        0.007904   \n",
      "1        4_21        0.023288   \n",
      "2         2_8        0.992265   \n",
      "3         4_3        0.972010   \n",
      "4        4_34        0.009994   \n",
      "..        ...             ...   \n",
      "125      4_16        0.040137   \n",
      "126       1_6        0.956430   \n",
      "127      2_40        0.037941   \n",
      "128      1_31        0.994447   \n",
      "129      2_14        0.962670   \n",
      "\n",
      "                                              geometry  \n",
      "0    POLYGON ((-122.94132 57.97664, -123.03517 57.7...  \n",
      "1    POLYGON ((-71.93982 55.28796, -72.02213 55.104...  \n",
      "2    POLYGON ((-71.22036 -51.94097, -71.30174 -52.1...  \n",
      "3    POLYGON ((33.42779 -16.15910, 33.38993 -16.342...  \n",
      "4    POLYGON ((-96.94381 62.88876, -97.07609 62.707...  \n",
      "..                                                 ...  \n",
      "125  POLYGON ((26.36037 36.16163, 26.31108 35.98255...  \n",
      "126  POLYGON ((36.30435 33.69562, 36.25571 33.50691...  \n",
      "127  POLYGON ((-63.61196 -21.50239, -63.65416 -21.6...  \n",
      "128  POLYGON ((17.05178 -29.79518, 17.00543 -29.983...  \n",
      "129  POLYGON ((116.88210 -34.65796, 116.83105 -34.8...  \n",
      "\n",
      "[130 rows x 13 columns]\n"
     ]
    }
   ],
   "source": [
    "obj = s3.Object(bucket_name,'image.geojson')\n",
    "image_data = obj.get()['Body']\n",
    "image_gdf = gpd.read_file(image_data)\n",
    "print(image_gdf)"
   ]
  },
  {
   "cell_type": "code",
   "execution_count": 27,
   "metadata": {},
   "outputs": [
    {
     "name": "stdout",
     "output_type": "stream",
     "text": [
      "20210925_191708_94_2408\n",
      "\timage_name: 20210925_191708_94_2408 is already in image table\n"
     ]
    }
   ],
   "source": [
    "print(new_image.image_name.iloc[0])\n",
    "if len(image_gdf[image_gdf.image_name==new_image.image_name.iloc[0]]) != 0:\n",
    "    print('\\timage_name: '+new_image.image_name.iloc[0]+' is already in image table')\n"
   ]
  },
  {
   "cell_type": "code",
   "execution_count": null,
   "metadata": {},
   "outputs": [],
   "source": []
  }
 ],
 "metadata": {
  "kernelspec": {
   "display_name": "Python 3",
   "language": "python",
   "name": "python3"
  },
  "language_info": {
   "codemirror_mode": {
    "name": "ipython",
    "version": 3
   },
   "file_extension": ".py",
   "mimetype": "text/x-python",
   "name": "python",
   "nbconvert_exporter": "python",
   "pygments_lexer": "ipython3",
   "version": "3.7.4"
  }
 },
 "nbformat": 4,
 "nbformat_minor": 2
}
