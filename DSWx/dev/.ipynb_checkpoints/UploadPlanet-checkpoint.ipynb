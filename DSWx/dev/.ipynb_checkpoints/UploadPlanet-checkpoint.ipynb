{
 "cells": [
  {
   "cell_type": "code",
   "execution_count": 3,
   "metadata": {},
   "outputs": [],
   "source": [
    "import geopandas as gpd\n",
    "import pandas as pd\n",
    "import boto3\n",
    "import os"
   ]
  },
  {
   "cell_type": "code",
   "execution_count": 4,
   "metadata": {},
   "outputs": [],
   "source": [
    "bucket_name = 'opera-calval-database-dswx'\n",
    "private_bucket_name = 'opera-calval-database-dswx-private'"
   ]
  },
  {
   "cell_type": "code",
   "execution_count": 5,
   "metadata": {},
   "outputs": [],
   "source": [
    "local_planet_dir = './downloads/crop_ver2/'"
   ]
  },
  {
   "cell_type": "code",
   "execution_count": 6,
   "metadata": {},
   "outputs": [],
   "source": [
    "session = boto3.session.Session(profile_name='saml-pub')\n",
    "s3 = session.resource('s3')\n",
    "s3_client = session.client('s3')"
   ]
  },
  {
   "cell_type": "code",
   "execution_count": 7,
   "metadata": {},
   "outputs": [],
   "source": [
    "collocation = gpd.read_file('Collocation_HLS_Planet_2021.geojson')\n"
   ]
  },
  {
   "cell_type": "code",
   "execution_count": 8,
   "metadata": {},
   "outputs": [],
   "source": [
    "#test = collocation.head(100)\n",
    "#for row in test.iterrows():\n",
    "#    print(row[1].pl_ID)"
   ]
  },
  {
   "cell_type": "code",
   "execution_count": 9,
   "metadata": {},
   "outputs": [
    {
     "name": "stdout",
     "output_type": "stream",
     "text": [
      "['20210925_191708_94_2408_3B_AnalyticMS_SR_8b.tif', '20211027_151445_21_2231_3B_AnalyticMS_SR_8b.tif', '20211030_142613_41_227b_3B_AnalyticMS_SR_8b.tif', '20210926_072414_71_2233_3B_AnalyticMS_SR_8b.tif', '20210901_175205_71_2426_3B_AnalyticMS_SR_8b.tif', '20211014_152910_49_2459_3B_AnalyticMS_SR_8b.tif', '20211005_135201_42_227e_3B_AnalyticMS_SR_8b.tif', '20211028_045455_02_2459_3B_AnalyticMS_SR_8b.tif', '20210924_082025_48_2424_3B_AnalyticMS_SR_8b.tif', '20211011_155455_52_2262_3B_AnalyticMS_SR_8b.tif', '20211010_080351_47_2458_3B_AnalyticMS_SR_8b.tif', '20210906_183639_52_240c_3B_AnalyticMS_SR_8b.tif', '20210914_051809_10_2455_3B_AnalyticMS_SR_8b.tif', '20211023_034107_36_2223_3B_AnalyticMS_SR_8b.tif', '20211016_081255_90_2420_3B_AnalyticMS_SR_8b.tif', '20211008_054349_78_241d_3B_AnalyticMS_SR_8b.tif', '20211010_003854_61_241d_3B_AnalyticMS_SR_8b.tif', '20211008_073033_21_245c_3B_AnalyticMS_SR_8b.tif', '20210918_135626_99_245f_3B_AnalyticMS_SR_8b.tif', '20211025_085849_59_241b_3B_AnalyticMS_SR_8b.tif', '20210926_080715_73_2402_3B_AnalyticMS_SR_8b.tif', '20211003_093451_99_2408_3B_AnalyticMS_SR_8b.tif', '20211028_151242_66_2428_3B_AnalyticMS_SR_8b.tif', '20210929_212809_16_2442_3B_AnalyticMS_SR_8b.tif', '20210924_105156_25_2414_3B_AnalyticMS_SR_8b.tif', '20211014_135624_65_242b_3B_AnalyticMS_SR_8b.tif', '20210927_162037_23_2448_3B_AnalyticMS_SR_8b.tif', '20211025_075910_51_245a_3B_AnalyticMS_SR_8b.tif', '20210908_023153_94_2456_3B_AnalyticMS_SR_8b.tif', '20210921_182414_03_241d_3B_AnalyticMS_SR_8b.tif', '20210902_154155_56_2453_3B_AnalyticMS_SR_8b.tif', '20210922_005343_60_2274_3B_AnalyticMS_SR_8b.tif', '20211027_163658_88_2406_3B_AnalyticMS_SR_8b.tif', '20211013_073019_14_2414_3B_AnalyticMS_SR_8b.tif', '20210922_171337_39_2420_3B_AnalyticMS_SR_8b.tif', '20210926_105333_13_227a_3B_AnalyticMS_SR_8b.tif', '20210920_141914_72_2405_3B_AnalyticMS_SR_8b.tif', '20211007_032555_11_2440_3B_AnalyticMS_SR_8b.tif', '20211022_082842_35_2406_3B_AnalyticMS_SR_8b.tif', '20211022_175213_55_2440_3B_AnalyticMS_SR_8b.tif', '20211003_161639_91_241d_3B_AnalyticMS_SR_8b.tif', '20210910_021446_89_240f_3B_AnalyticMS_SR_8b.tif', '20211008_063123_28_245f_3B_AnalyticMS_SR_8b.tif', '20211007_081605_77_245f_3B_AnalyticMS_SR_8b.tif', '20211008_060306_49_2439_3B_AnalyticMS_SR_8b.tif', '20210901_131728_46_245d_3B_AnalyticMS_SR_8b.tif', '20210912_072200_51_2434_3B_AnalyticMS_SR_8b.tif', '20210902_181904_68_2457_3B_AnalyticMS_SR_8b.tif', '20211026_085444_49_241e_3B_AnalyticMS_SR_8b.tif', '20211001_103604_86_241e_3B_AnalyticMS_SR_8b.tif', '20210914_140531_51_2413_3B_AnalyticMS_SR_8b.tif', '20210924_133812_95_2420_3B_AnalyticMS_SR_8b.tif', '20210924_141609_24_2457_3B_AnalyticMS_SR_8b.tif', '20211009_123944_46_2212_3B_AnalyticMS_SR_8b.tif', '20210928_010612_93_2424_3B_AnalyticMS_SR_8b.tif', '20211028_055109_45_245f_3B_AnalyticMS_SR_8b.tif', '20211012_173555_20_2276_3B_AnalyticMS_SR_8b.tif', '20210918_042559_64_2419_3B_AnalyticMS_SR_8b.tif', '20211010_135831_84_227e_3B_AnalyticMS_SR_8b.tif', '20211025_124147_47_2414_3B_AnalyticMS_SR_8b.tif', '20210915_172340_12_245f_3B_AnalyticMS_SR_8b.tif', '20210928_011406_56_227a_3B_AnalyticMS_SR_8b.tif', '20211019_003754_48_240a_3B_AnalyticMS_SR_8b.tif', '20211030_014006_52_2431_3B_AnalyticMS_SR_8b.tif', '20210924_000522_94_2421_3B_AnalyticMS_SR_8b.tif', '20211004_072609_70_2276_3B_AnalyticMS_SR_8b.tif', '20211022_163856_44_2421_3B_AnalyticMS_SR_8b.tif', '20211027_084417_92_241b_3B_AnalyticMS_SR_8b.tif', '20210930_021156_60_2434_3B_AnalyticMS_SR_8b.tif', '20211019_161753_54_2413_3B_AnalyticMS_SR_8b.tif', '20211009_070145_70_2451_3B_AnalyticMS_SR_8b.tif', '20211002_044055_96_2457_3B_AnalyticMS_SR_8b.tif', '20210912_032412_11_2254_3B_AnalyticMS_SR_8b.tif', '20210906_030035_64_2440_3B_AnalyticMS_SR_8b.tif', '20211017_013641_43_2307_3B_AnalyticMS_SR_8b.tif', '20211011_005208_90_2274_3B_AnalyticMS_SR_8b.tif', '20211013_092504_08_2442_3B_AnalyticMS_SR_8b.tif', '20211006_152530_35_105c_3B_AnalyticMS.tif', '20210922_134008_15_2235_3B_AnalyticMS_SR_8b.tif', '20210928_065350_38_245f_3B_AnalyticMS_SR_8b.tif', '20211027_134449_30_2254_3B_AnalyticMS_SR_8b.tif', '20210910_002538_99_2206_3B_AnalyticMS_SR_8b.tif', '20211016_050513_74_2456_3B_AnalyticMS_SR_8b.tif', '20211001_071025_45_2435_3B_AnalyticMS_SR_8b.tif', '20210912_034049_22_2421_3B_AnalyticMS_SR_8b.tif', '20210926_072858_88_2416_3B_AnalyticMS_SR_8b.tif', '20211012_100321_71_220b_3B_AnalyticMS_SR_8b.tif', '20211012_184551_1040_3B_AnalyticMS.tif', '20210930_101559_07_2434_3B_AnalyticMS_SR_8b.tif', '20211027_061426_39_2235_3B_AnalyticMS_SR_8b.tif', '20210927_090055_73_2416_3B_AnalyticMS_SR_8b.tif', '20211005_012548_25_242b_3B_AnalyticMS_SR_8b.tif', '20211006_164259_80_2460_3B_AnalyticMS_SR_8b.tif', '20210922_030634_89_2406_3B_AnalyticMS_SR_8b.tif', '20211021_133031_75_245a_3B_AnalyticMS_SR_8b.tif', '20210902_000433_53_2403_3B_AnalyticMS_SR_8b.tif', '20210907_231157_98_2464_3B_AnalyticMS_SR_8b.tif', '20211016_174304_93_245f_3B_AnalyticMS_SR_8b.tif', '20210903_152641_60_105c_3B_AnalyticMS.tif', '20210922_024600_85_105c_3B_AnalyticMS.tif', '20210914_103644_25_2413_3B_AnalyticMS_SR_8b.tif', '20210928_215406_33_2419_3B_AnalyticMS_SR_8b.tif', '20210926_020646_15_2231_3B_AnalyticMS_SR_8b.tif', '20211018_071129_42_241d_3B_AnalyticMS_SR_8b.tif', '20211019_180019_07_2453_3B_AnalyticMS_SR_8b.tif', '20211026_025125_77_240c_3B_AnalyticMS_SR_8b.tif', '20210902_141047_20_2459_3B_AnalyticMS_SR_8b.tif', '20211015_114738_1105_3B_AnalyticMS.tif', '20210908_005316_44_2223_3B_AnalyticMS_SR_8b.tif', '20211011_165106_02_2449_3B_AnalyticMS_SR_8b.tif', '20211029_070331_23_2428_3B_AnalyticMS_SR_8b.tif', '20210918_025609_65_2458_3B_AnalyticMS_SR_8b.tif', '20210917_140704_93_2262_3B_AnalyticMS_SR_8b.tif', '20211002_084046_69_245c_3B_AnalyticMS_SR_8b.tif', '20211021_144440_49_2408_3B_AnalyticMS_SR_8b.tif', '20211022_031446_34_2431_3B_AnalyticMS_SR_8b.tif', '20210917_152712_47_2457_3B_AnalyticMS_SR_8b.tif', '20211014_083427_44_2408_3B_AnalyticMS_SR_8b.tif', '20211006_080646_19_2464_3B_AnalyticMS_SR_8b.tif', '20211012_083209_57_245c_3B_AnalyticMS_SR_8b.tif', '20211003_075037_07_2458_3B_AnalyticMS_SR_8b.tif', '20211024_075820_52_242d_3B_AnalyticMS_SR_8b.tif', '20210924_081239_92_222b_3B_AnalyticMS_SR_8b.tif', '20210928_072802_36_2463_3B_AnalyticMS_SR_8b.tif', '20210924_133400_47_2450_3B_AnalyticMS_SR_8b.tif', '20211018_085512_78_2413_3B_AnalyticMS_SR_8b.tif', '20210906_012332_35_2449_3B_AnalyticMS_SR_8b.tif']\n"
     ]
    }
   ],
   "source": [
    "fileList = os.listdir(local_planet_dir)\n",
    "print(fileList)"
   ]
  },
  {
   "cell_type": "code",
   "execution_count": 10,
   "metadata": {
    "scrolled": false
   },
   "outputs": [
    {
     "name": "stdout",
     "output_type": "stream",
     "text": [
      "Adding Image ID: 20211021_133031_75_245a\n",
      "\tBuilding Image Table Entry\n",
      "\tUploading File\n",
      "\tImage file already exists in bucket, overwriting existing file\n",
      "\tUpdating Image Table\n",
      "\timage_name: 20211021_133031_75_245a is already in image table\n"
     ]
    },
    {
     "ename": "NameError",
     "evalue": "name 'image_gdf_upd' is not defined",
     "output_type": "error",
     "traceback": [
      "\u001b[0;31m---------------------------------------------------------------------------\u001b[0m",
      "\u001b[0;31mNameError\u001b[0m                                 Traceback (most recent call last)",
      "\u001b[0;32m<ipython-input-10-e278bd485747>\u001b[0m in \u001b[0;36m<module>\u001b[0;34m\u001b[0m\n\u001b[1;32m     52\u001b[0m             \u001b[0mprint\u001b[0m\u001b[0;34m(\u001b[0m\u001b[0;34m'\\tAdding new row to table'\u001b[0m\u001b[0;34m)\u001b[0m\u001b[0;34m\u001b[0m\u001b[0;34m\u001b[0m\u001b[0m\n\u001b[1;32m     53\u001b[0m             \u001b[0mimage_gdf_upd\u001b[0m \u001b[0;34m=\u001b[0m \u001b[0mimage_gdf\u001b[0m\u001b[0;34m.\u001b[0m\u001b[0mappend\u001b[0m\u001b[0;34m(\u001b[0m\u001b[0mnew_image\u001b[0m\u001b[0;34m,\u001b[0m\u001b[0mignore_index\u001b[0m\u001b[0;34m=\u001b[0m\u001b[0;32mTrue\u001b[0m\u001b[0;34m)\u001b[0m\u001b[0;34m\u001b[0m\u001b[0;34m\u001b[0m\u001b[0m\n\u001b[0;32m---> 54\u001b[0;31m     \u001b[0mimage_upd_bytes\u001b[0m \u001b[0;34m=\u001b[0m \u001b[0mbytes\u001b[0m\u001b[0;34m(\u001b[0m\u001b[0mimage_gdf_upd\u001b[0m\u001b[0;34m.\u001b[0m\u001b[0mto_json\u001b[0m\u001b[0;34m(\u001b[0m\u001b[0mdrop_id\u001b[0m\u001b[0;34m=\u001b[0m\u001b[0;32mTrue\u001b[0m\u001b[0;34m)\u001b[0m\u001b[0;34m.\u001b[0m\u001b[0mencode\u001b[0m\u001b[0;34m(\u001b[0m\u001b[0;34m'UTF-8'\u001b[0m\u001b[0;34m)\u001b[0m\u001b[0;34m)\u001b[0m\u001b[0;34m\u001b[0m\u001b[0;34m\u001b[0m\u001b[0m\n\u001b[0m\u001b[1;32m     55\u001b[0m     \u001b[0ms3object\u001b[0m \u001b[0;34m=\u001b[0m \u001b[0ms3\u001b[0m\u001b[0;34m.\u001b[0m\u001b[0mObject\u001b[0m\u001b[0;34m(\u001b[0m\u001b[0mbucket_name\u001b[0m\u001b[0;34m,\u001b[0m\u001b[0;34m'image.geojson'\u001b[0m\u001b[0;34m)\u001b[0m\u001b[0;34m\u001b[0m\u001b[0;34m\u001b[0m\u001b[0m\n\u001b[1;32m     56\u001b[0m     \u001b[0ms3object\u001b[0m\u001b[0;34m.\u001b[0m\u001b[0mput\u001b[0m\u001b[0;34m(\u001b[0m\u001b[0mBody\u001b[0m\u001b[0;34m=\u001b[0m\u001b[0mimage_upd_bytes\u001b[0m\u001b[0;34m)\u001b[0m\u001b[0;34m\u001b[0m\u001b[0;34m\u001b[0m\u001b[0m\n",
      "\u001b[0;31mNameError\u001b[0m: name 'image_gdf_upd' is not defined"
     ]
    }
   ],
   "source": [
    "#fileList = fileList[0:1]\n",
    "#print(fileList)\n",
    "#restart_ID = '20210910_002538_99_2206'\n",
    "#run = False\n",
    "for file in fileList:\n",
    "    if file[-3:] != 'tif':\n",
    "        continue\n",
    "        \n",
    "    ID = file.split('_3B_Analytic')[0]\n",
    "    #if ID == restart_ID:\n",
    "    #    run = True\n",
    "    \n",
    "    #if run == False:\n",
    "    #    continue\n",
    "    if ID != '20211021_133031_75_245a':\n",
    "        continue\n",
    "    print('Adding Image ID: '+ID)\n",
    "    print('\\tBuilding Image Table Entry')\n",
    "    search = collocation[(collocation.pl_ID == ID)].sort_values('hls_pl_AOI_intersect',ascending=False)\n",
    "    search = search.iloc[[0]]\n",
    "    site = search.chip_ID.iloc[0]\n",
    "    s3_key_image = 'data/'+site+'/'+ID+'/'+file\n",
    "    new_image = search.drop(columns=['hls_Date','hls_Cloud_Cover','hls_Footprint','hls_AOI_intersect','hls_pl_AOI_intersect','chip_rID'])\n",
    "    new_image = new_image.rename(columns = {'hls_ID':'collocated_dswx','pl_Date':'datetime','pl_ID':'image_name','pl_Cloud_Cover':'cloud_cover','pl_AOI_intersect':'site_coverage','chip_ID':'site_name'})\n",
    "    new_image['s3_bucket'] = private_bucket_name\n",
    "    new_image['s3_key_image'] = s3_key_image\n",
    "    #print(new_image.head())\n",
    "    obj = s3.Object(bucket_name,'image.geojson')\n",
    "    image_data = obj.get()['Body']\n",
    "    image_gdf = gpd.read_file(image_data)\n",
    "    #print(image_gdf)\n",
    "    \n",
    "    \n",
    "    print('\\tUploading File')\n",
    "    result = s3_client.list_objects_v2(Bucket=private_bucket_name, Prefix=s3_key_image)\n",
    "    \n",
    "    if 'Contents' in result:\n",
    "        print(\"\\tImage file already exists in bucket, overwriting existing file\")\n",
    "        response = s3_client.upload_file(local_planet_dir+file,private_bucket_name,s3_key_image)\n",
    "    else:\n",
    "        response = s3_client.upload_file(local_planet_dir+file,private_bucket_name,s3_key_image)\n",
    "        #print('\\tUpload manually skipped')\n",
    "    \n",
    "    print('\\tUpdating Image Table')\n",
    "    if 'image_name' in image_gdf.columns:\n",
    "        if len(image_gdf[image_gdf.image_name==new_image.image_name.iloc[0]]) != 0:\n",
    "            print('\\timage_name: '+new_image.image_name.iloc[0]+' is already in image table')\n",
    "            image_gdf_upd = image_gdf\n",
    "            #cols = list(image_gdf_upd.columns) \n",
    "            #image_gdf_upd.loc[image_gdf_upd.image_name.isin(new_image.image_name), cols] = new_image[cols]\n",
    "        else:\n",
    "            print('\\tAdding new row to table')\n",
    "            image_gdf_upd = image_gdf.append(new_image,ignore_index=True)\n",
    "    image_upd_bytes = bytes(image_gdf_upd.to_json(drop_id=True).encode('UTF-8'))\n",
    "    s3object = s3.Object(bucket_name,'image.geojson')\n",
    "    s3object.put(Body=image_upd_bytes)\n",
    "    print('\\tCompleted')"
   ]
  },
  {
   "cell_type": "code",
   "execution_count": 16,
   "metadata": {},
   "outputs": [
    {
     "name": "stdout",
     "output_type": "stream",
     "text": [
      "     cloud_cover                     collocated_dswx             datetime  \\\n",
      "0            NaN                                None                 None   \n",
      "1            NaN                                None                 None   \n",
      "2            NaN                                None                 None   \n",
      "3            NaN                                None                 None   \n",
      "4            NaN                                None                 None   \n",
      "..           ...                                 ...                  ...   \n",
      "182          0.0  HLS.L30.T34NEJ.2021258T084951.v2.0  2021-09-15T09:01:44   \n",
      "183          0.0  HLS.S30.T28PFC.2021274T112121.v2.0  2021-10-01T10:36:04   \n",
      "184          0.0  HLS.S30.T21LWG.2021256T140021.v2.0  2021-09-14T14:05:31   \n",
      "185          0.0  HLS.L30.T21UYQ.2021266T142313.v2.0  2021-09-24T13:38:12   \n",
      "186          0.0  HLS.S30.T19PDN.2021267T150721.v2.0  2021-09-24T14:16:09   \n",
      "\n",
      "                  image_name instrument     provider  resolution  \\\n",
      "0                       None       None         None         NaN   \n",
      "1                       None       None         None         NaN   \n",
      "2                       None       None         None         NaN   \n",
      "3                       None       None         None         NaN   \n",
      "4                       None       None         None         NaN   \n",
      "..                       ...        ...          ...         ...   \n",
      "182  20210915_090144_84_2413     PSB.SD  planetscope         3.0   \n",
      "183  20211001_103604_86_241e     PSB.SD  planetscope         3.0   \n",
      "184  20210914_140531_51_2413     PSB.SD  planetscope         3.0   \n",
      "185  20210924_133812_95_2420     PSB.SD  planetscope         3.0   \n",
      "186  20210924_141609_24_2457     PSB.SD  planetscope         3.0   \n",
      "\n",
      "                              s3_bucket  \\\n",
      "0                                  None   \n",
      "1                                  None   \n",
      "2                                  None   \n",
      "3                                  None   \n",
      "4                                  None   \n",
      "..                                  ...   \n",
      "182  opera-calval-database-dswx-private   \n",
      "183  opera-calval-database-dswx-private   \n",
      "184  opera-calval-database-dswx-private   \n",
      "185  opera-calval-database-dswx-private   \n",
      "186  opera-calval-database-dswx-private   \n",
      "\n",
      "                                          s3_key_image  site_coverage  \\\n",
      "0                                                 None            NaN   \n",
      "1                                                 None            NaN   \n",
      "2                                                 None            NaN   \n",
      "3                                                 None            NaN   \n",
      "4                                                 None            NaN   \n",
      "..                                                 ...            ...   \n",
      "182  data/2_31/20210915_090144_84_2413/20210915_090...       5.066887   \n",
      "183  data/2_38/20211001_103604_86_241e/20211001_103...      94.678891   \n",
      "184  data/1_8/20210914_140531_51_2413/20210914_1405...      95.632987   \n",
      "185  data/4_6/20210924_133812_95_2420/20210924_1338...      63.825725   \n",
      "186  data/3_33/20210924_141609_24_2457/20210924_141...      82.802258   \n",
      "\n",
      "    site_name  timeDelta_days  \\\n",
      "0        None             NaN   \n",
      "1        None             NaN   \n",
      "2        None             NaN   \n",
      "3        None             NaN   \n",
      "4        None             NaN   \n",
      "..        ...             ...   \n",
      "182      2_31        0.008256   \n",
      "183      2_38        0.042395   \n",
      "184       1_8        0.999660   \n",
      "185       4_6        0.968745   \n",
      "186      3_33        0.037370   \n",
      "\n",
      "                                              geometry  \n",
      "0                                                 None  \n",
      "1                                                 None  \n",
      "2                                                 None  \n",
      "3                                                 None  \n",
      "4                                                 None  \n",
      "..                                                 ...  \n",
      "182  POLYGON ((21.26379 3.53681, 21.23614 3.34424, ...  \n",
      "183  POLYGON ((-13.22687 15.48999, -13.26626 15.300...  \n",
      "184  POLYGON ((-56.97947 -11.82369, -57.01737 -12.0...  \n",
      "185  POLYGON ((-53.28797 48.84452, -53.35625 48.656...  \n",
      "186  POLYGON ((-69.49615 11.35520, -69.53418 11.166...  \n",
      "\n",
      "[187 rows x 13 columns]\n"
     ]
    }
   ],
   "source": [
    "obj = s3.Object(bucket_name,'image.geojson')\n",
    "image_data = obj.get()['Body']\n",
    "image_gdf = gpd.read_file(image_data)\n",
    "print(image_gdf)\n",
    "#search = image_gdf[image_gdf.image_name == '20211021_133031_75_245a']\n",
    "#print(search)\n",
    "#result = s3_client.list_objects_v2(Bucket=private_bucket_name, Prefix=search.s3_key_image.iloc[0])\n",
    "#print(result)\n",
    "#if 'Contents' in result:\n",
    "#    print('Yes')"
   ]
  },
  {
   "cell_type": "code",
   "execution_count": 27,
   "metadata": {},
   "outputs": [
    {
     "name": "stdout",
     "output_type": "stream",
     "text": [
      "20210925_191708_94_2408\n",
      "\timage_name: 20210925_191708_94_2408 is already in image table\n"
     ]
    }
   ],
   "source": [
    "print(new_image.image_name.iloc[0])\n",
    "if len(image_gdf[image_gdf.image_name==new_image.image_name.iloc[0]]) != 0:\n",
    "    print('\\timage_name: '+new_image.image_name.iloc[0]+' is already in image table')\n"
   ]
  },
  {
   "cell_type": "code",
   "execution_count": null,
   "metadata": {},
   "outputs": [],
   "source": []
  }
 ],
 "metadata": {
  "kernelspec": {
   "display_name": "Python 3",
   "language": "python",
   "name": "python3"
  },
  "language_info": {
   "codemirror_mode": {
    "name": "ipython",
    "version": 3
   },
   "file_extension": ".py",
   "mimetype": "text/x-python",
   "name": "python",
   "nbconvert_exporter": "python",
   "pygments_lexer": "ipython3",
   "version": "3.7.4"
  }
 },
 "nbformat": 4,
 "nbformat_minor": 2
}
