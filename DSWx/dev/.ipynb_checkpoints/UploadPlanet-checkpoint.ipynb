{
 "cells": [
  {
   "cell_type": "code",
   "execution_count": 1,
   "metadata": {},
   "outputs": [],
   "source": [
    "import geopandas as gpd\n",
    "import pandas as pd\n",
    "import boto3\n",
    "import os"
   ]
  },
  {
   "cell_type": "code",
   "execution_count": 2,
   "metadata": {},
   "outputs": [],
   "source": [
    "bucket_name = 'opera-calval-database-dswx'\n",
    "private_bucket_name = 'opera-calval-database-dswx-private'"
   ]
  },
  {
   "cell_type": "code",
   "execution_count": 3,
   "metadata": {},
   "outputs": [],
   "source": [
    "local_planet_dir = './downloads/'"
   ]
  },
  {
   "cell_type": "code",
   "execution_count": 8,
   "metadata": {},
   "outputs": [],
   "source": [
    "session = boto3.session.Session(profile_name='saml-pub')\n",
    "s3 = session.resource('s3')\n",
    "s3_client = session.client('s3')"
   ]
  },
  {
   "cell_type": "code",
   "execution_count": 5,
   "metadata": {},
   "outputs": [],
   "source": [
    "collocation = gpd.read_file('Collocation_HLS_Planet_2021.geojson')\n"
   ]
  },
  {
   "cell_type": "code",
   "execution_count": 6,
   "metadata": {},
   "outputs": [],
   "source": [
    "#test = collocation.head(100)\n",
    "#for row in test.iterrows():\n",
    "#    print(row[1].pl_ID)"
   ]
  },
  {
   "cell_type": "code",
   "execution_count": 12,
   "metadata": {},
   "outputs": [
    {
     "name": "stdout",
     "output_type": "stream",
     "text": [
      "['20210925_191708_94_2408_3B_AnalyticMS_SR_8b.tif', '20211027_151445_21_2231_3B_AnalyticMS_SR_8b.tif', '20210901_175205_71_2426_3B_AnalyticMS_SR_8b.tif', '20211014_152910_49_2459_3B_AnalyticMS_SR_8b.tif', '20211028_045455_02_2459_3B_AnalyticMS_SR_8b.tif', '20210924_082025_48_2424_3B_AnalyticMS_SR_8b.tif', '20211010_080351_47_2458_3B_AnalyticMS_SR_8b.tif', '20210906_183639_52_240c_3B_AnalyticMS_SR_8b.tif', '20210914_051809_10_2455_3B_AnalyticMS_SR_8b.tif', '20211008_054349_78_241d_3B_AnalyticMS_SR_8b.tif', '.DS_Store', '20211010_003854_61_241d_3B_AnalyticMS_SR_8b.tif', '20211008_073033_21_245c_3B_AnalyticMS_SR_8b.tif', '20211025_085849_59_241b_3B_AnalyticMS_SR_8b.tif', '20211028_151242_66_2428_3B_AnalyticMS_SR_8b.tif', '20210929_212809_16_2442_3B_AnalyticMS_SR_8b.tif', '20211014_135624_65_242b_3B_AnalyticMS_SR_8b.tif', '20210927_162037_23_2448_3B_AnalyticMS_SR_8b.tif', '20210908_023153_94_2456_3B_AnalyticMS_SR_8b.tif', '20210921_182414_03_241d_3B_AnalyticMS_SR_8b.tif', '20210902_154155_56_2453_3B_AnalyticMS_SR_8b.tif', '20211027_163658_88_2406_3B_AnalyticMS_SR_8b.tif', '20211013_073019_14_2414_3B_AnalyticMS_SR_8b.tif', '20211003_161639_91_241d_3B_AnalyticMS_SR_8b.tif', '20211008_063123_28_245f_3B_AnalyticMS_SR_8b.tif', '20211007_081605_77_245f_3B_AnalyticMS_SR_8b.tif', '20210901_131728_46_245d_3B_AnalyticMS_SR_8b.tif', '20210902_181904_68_2457_3B_AnalyticMS_SR_8b.tif', '20210915_090144_84_2413_3B_AnalyticMS_SR_8b.tif', '20211001_103604_86_241e_3B_AnalyticMS_SR_8b.tif', '20210914_140531_51_2413_3B_AnalyticMS_SR_8b.tif', '20210924_141609_24_2457_3B_AnalyticMS_SR_8b.tif', '20210928_010612_93_2424_3B_AnalyticMS_SR_8b.tif', '20211028_055109_45_245f_3B_AnalyticMS_SR_8b.tif', '20211012_173555_20_2276_3B_AnalyticMS_SR_8b.tif', '20211006_103927_104e_3B_AnalyticMS.tif', '20210915_172340_12_245f_3B_AnalyticMS_SR_8b.tif', '20211030_014006_52_2431_3B_AnalyticMS_SR_8b.tif', '20211002_044055_96_2457_3B_AnalyticMS_SR_8b.tif', '20210912_032412_11_2254_3B_AnalyticMS_SR_8b.tif', '20210914_131134_1050_3B_AnalyticMS.tif', '20210906_030035_64_2440_3B_AnalyticMS_SR_8b.tif', '20211013_092504_08_2442_3B_AnalyticMS_SR_8b.tif', '20211006_152530_35_105c_3B_AnalyticMS.tif', '20210928_065350_38_245f_3B_AnalyticMS_SR_8b.tif', '20210910_002538_99_2206_3B_AnalyticMS_SR_8b.tif', '20210912_034049_22_2421_3B_AnalyticMS_SR_8b.tif', '20211012_100321_71_220b_3B_AnalyticMS_SR_8b.tif', '20211012_184551_1040_3B_AnalyticMS.tif', '20210930_101559_07_2434_3B_AnalyticMS_SR_8b.tif', '20211016_174304_93_245f_3B_AnalyticMS_SR_8b.tif', '20210903_152641_60_105c_3B_AnalyticMS.tif', '20210922_024600_85_105c_3B_AnalyticMS.tif', '20211018_071129_42_241d_3B_AnalyticMS_SR_8b.tif', '20211019_180019_07_2453_3B_AnalyticMS_SR_8b.tif', '20211026_025125_77_240c_3B_AnalyticMS_SR_8b.tif', '20210902_141047_20_2459_3B_AnalyticMS_SR_8b.tif', '20211015_114738_1105_3B_AnalyticMS.tif', '20211011_165106_02_2449_3B_AnalyticMS_SR_8b.tif', '20211029_070331_23_2428_3B_AnalyticMS_SR_8b.tif', '20210918_025609_65_2458_3B_AnalyticMS_SR_8b.tif', '20211027_061426_39_2235_3B_AnalyticMS_SR_8b.tifdserd6am.tmp', '20211002_084046_69_245c_3B_AnalyticMS_SR_8b.tif', '20211022_031446_34_2431_3B_AnalyticMS_SR_8b.tif', '20211006_080646_19_2464_3B_AnalyticMS_SR_8b.tif', '20211012_083209_57_245c_3B_AnalyticMS_SR_8b.tif', '20211024_075820_52_242d_3B_AnalyticMS_SR_8b.tif', '20210924_081239_92_222b_3B_AnalyticMS_SR_8b.tif', '20210928_072802_36_2463_3B_AnalyticMS_SR_8b.tif']\n"
     ]
    }
   ],
   "source": [
    "fileList = os.listdir(local_planet_dir)\n",
    "print(fileList)"
   ]
  },
  {
   "cell_type": "code",
   "execution_count": null,
   "metadata": {},
   "outputs": [
    {
     "name": "stdout",
     "output_type": "stream",
     "text": [
      "['20210925_191708_94_2408_3B_AnalyticMS_SR_8b.tif']\n",
      "Adding Image ID: 20210925_191708_94_2408\n",
      "\tBuilding Image Table Entry\n",
      "\tUploading File\n"
     ]
    }
   ],
   "source": [
    "fileList = fileList[0:1]\n",
    "print(fileList)\n",
    "for file in fileList:\n",
    "    if file[-3:] != 'tif':\n",
    "        continue\n",
    "    \n",
    "    ID = file.split('_3B_Analytic')[0]\n",
    "    print('Adding Image ID: '+ID)\n",
    "    print('\\tBuilding Image Table Entry')\n",
    "    search = collocation[(collocation.pl_ID == ID)].sort_values('hls_pl_AOI_intersect',ascending=False)\n",
    "    search = search.iloc[[0]]\n",
    "    site = search.chip_ID.iloc[0]\n",
    "    s3_key_image = 'data/'+site+'/'+ID+'/'+file\n",
    "    new_image = search.drop(columns=['hls_Date','hls_Cloud_Cover','hls_Footprint','hls_AOI_intersect','hls_pl_AOI_intersect','chip_rID'])\n",
    "    new_image = new_image.rename(columns = {'hls_ID':'collocated_dswx','pl_Date':'datetime','pl_ID':'image_name','pl_Cloud_Cover':'cloud_cover','pl_AOI_intersect':'site_coverage','chip_ID':'site_name'})\n",
    "    new_image['s3_bucket'] = bucket_name\n",
    "    new_image['s3_key_image'] = s3_key_image\n",
    "    \n",
    "    print('\\tUploading File')\n",
    "    response = s3_client.upload_file(local_planet_dir+file,private_bucket_name,s3_key_image)\n",
    "    \n",
    "    print('\\tUpdating Image Table')\n",
    "    obj = s3.Object(bucket_name,'image.geojson')\n",
    "    image_data = obj.get()['Body']\n",
    "    image_gdf = gpd.read_file(image_data)\n",
    "    image_gdf_upd = image_gdf.append(new_image,ignore_index=True)\n",
    "    image_upd_bytes = bytes(image_gdf_upd.to_json(drop_id=True).encode('UTF-8'))\n",
    "    s3object = s3.Object(bucket_name,'image.geojson')\n",
    "    s3object.put(Body=image_upd_bytes)\n",
    "    print('\\tCompleted')"
   ]
  },
  {
   "cell_type": "code",
   "execution_count": null,
   "metadata": {},
   "outputs": [],
   "source": []
  }
 ],
 "metadata": {
  "kernelspec": {
   "display_name": "Python 3",
   "language": "python",
   "name": "python3"
  },
  "language_info": {
   "codemirror_mode": {
    "name": "ipython",
    "version": 3
   },
   "file_extension": ".py",
   "mimetype": "text/x-python",
   "name": "python",
   "nbconvert_exporter": "python",
   "pygments_lexer": "ipython3",
   "version": "3.7.4"
  }
 },
 "nbformat": 4,
 "nbformat_minor": 2
}
