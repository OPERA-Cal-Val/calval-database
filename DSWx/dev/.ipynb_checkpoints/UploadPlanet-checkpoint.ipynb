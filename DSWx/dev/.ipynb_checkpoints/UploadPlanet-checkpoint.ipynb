{
 "cells": [
  {
   "cell_type": "code",
   "execution_count": 6,
   "metadata": {},
   "outputs": [],
   "source": [
    "import geopandas as gpd\n",
    "import pandas as pd\n",
    "import boto3\n",
    "import os"
   ]
  },
  {
   "cell_type": "code",
   "execution_count": 4,
   "metadata": {},
   "outputs": [],
   "source": [
    "bucket_name = 'opera-calval-database-dswx'\n",
    "private_bucket_name = 'opera-calval-database-dswx-private'\n",
    "root_folder_name = ''"
   ]
  },
  {
   "cell_type": "code",
   "execution_count": 7,
   "metadata": {},
   "outputs": [],
   "source": [
    "local_planet_dir = './downloads/'"
   ]
  },
  {
   "cell_type": "code",
   "execution_count": 5,
   "metadata": {},
   "outputs": [],
   "source": [
    "session = boto3.session.Session(profile_name='saml-pub')\n",
    "s3 = session.resource('s3')"
   ]
  },
  {
   "cell_type": "code",
   "execution_count": 9,
   "metadata": {},
   "outputs": [],
   "source": [
    "collocation = gpd.read_file('Collocation_HLS_Planet_2021.geojson')\n"
   ]
  },
  {
   "cell_type": "code",
   "execution_count": 30,
   "metadata": {},
   "outputs": [],
   "source": [
    "#test = collocation.head(100)\n",
    "#for row in test.iterrows():\n",
    "#    print(row[1].pl_ID)"
   ]
  },
  {
   "cell_type": "code",
   "execution_count": 8,
   "metadata": {},
   "outputs": [
    {
     "name": "stdout",
     "output_type": "stream",
     "text": [
      "['20210925_191708_94_2408_3B_AnalyticMS_SR_8b.tif', '20211027_151445_21_2231_3B_AnalyticMS_SR_8b.tif', '20210901_175205_71_2426_3B_AnalyticMS_SR_8b.tif', '20211014_152910_49_2459_3B_AnalyticMS_SR_8b.tif', '20210906_183639_52_240c_3B_AnalyticMS_SR_8b.tif', '20210914_051809_10_2455_3B_AnalyticMS_SR_8b.tif', '20211008_054349_78_241d_3B_AnalyticMS_SR_8b.tif', '.DS_Store', '20211010_003854_61_241d_3B_AnalyticMS_SR_8b.tif', '20211025_085849_59_241b_3B_AnalyticMS_SR_8b.tif', '20211028_151242_66_2428_3B_AnalyticMS_SR_8b.tif', '20210929_212809_16_2442_3B_AnalyticMS_SR_8b.tif', '20210927_162037_23_2448_3B_AnalyticMS_SR_8b.tif', '20210902_154155_56_2453_3B_AnalyticMS_SR_8b.tif', '20211027_163658_88_2406_3B_AnalyticMS_SR_8b.tif', '20211013_073019_14_2414_3B_AnalyticMS_SR_8b.tif', '20211003_161639_91_241d_3B_AnalyticMS_SR_8b.tif', '20211008_063123_28_245f_3B_AnalyticMS_SR_8b.tif', '20211007_081605_77_245f_3B_AnalyticMS_SR_8b.tif', '20210902_181904_68_2457_3B_AnalyticMS_SR_8b.tif', '20211001_103604_86_241e_3B_AnalyticMS_SR_8b.tif', '20210928_010612_93_2424_3B_AnalyticMS_SR_8b.tif', '20211028_055109_45_245f_3B_AnalyticMS_SR_8b.tif', '20211012_173555_20_2276_3B_AnalyticMS_SR_8b.tif', '20210915_172340_12_245f_3B_AnalyticMS_SR_8b.tif', '20210914_131134_1050_3B_AnalyticMS.tif', '20210906_030035_64_2440_3B_AnalyticMS_SR_8b.tif', '20211013_092504_08_2442_3B_AnalyticMS_SR_8b.tif', '20210912_034049_22_2421_3B_AnalyticMS_SR_8b.tif', '20210930_101559_07_2434_3B_AnalyticMS_SR_8b.tif', '20211016_174304_93_245f_3B_AnalyticMS_SR_8b.tif', '20210903_152641_60_105c_3B_AnalyticMS.tif', '20210922_024600_85_105c_3B_AnalyticMS.tif', '20211018_071129_42_241d_3B_AnalyticMS_SR_8b.tif8htanmfc.tmp', '20211015_114738_1105_3B_AnalyticMS.tif', '20211011_165106_02_2449_3B_AnalyticMS_SR_8b.tif', '20211002_084046_69_245c_3B_AnalyticMS_SR_8b.tif', '20211022_031446_34_2431_3B_AnalyticMS_SR_8b.tif']\n"
     ]
    }
   ],
   "source": [
    "fileList = os.listdir(local_planet_dir)\n",
    "print(fileList)"
   ]
  },
  {
   "cell_type": "code",
   "execution_count": 29,
   "metadata": {},
   "outputs": [
    {
     "name": "stdout",
     "output_type": "stream",
     "text": [
      "20210925_191708_94_2408\n",
      "20211027_151445_21_2231\n",
      "20210901_175205_71_2426\n",
      "20211014_152910_49_2459\n",
      "20210906_183639_52_240c\n",
      "20210914_051809_10_2455\n",
      "20211008_054349_78_241d\n",
      "20211010_003854_61_241d\n",
      "20211025_085849_59_241b\n",
      "20211028_151242_66_2428\n",
      "20210929_212809_16_2442\n",
      "20210927_162037_23_2448\n",
      "20210902_154155_56_2453\n",
      "20211027_163658_88_2406\n",
      "20211013_073019_14_2414\n",
      "20211003_161639_91_241d\n",
      "20211008_063123_28_245f\n",
      "20211007_081605_77_245f\n",
      "20210902_181904_68_2457\n",
      "20211001_103604_86_241e\n",
      "20210928_010612_93_2424\n",
      "20211028_055109_45_245f\n",
      "20211012_173555_20_2276\n",
      "20210915_172340_12_245f\n",
      "20210914_131134_1050\n",
      "20210906_030035_64_2440\n",
      "20211013_092504_08_2442\n",
      "20210912_034049_22_2421\n",
      "20210930_101559_07_2434\n",
      "20211016_174304_93_245f\n",
      "20210903_152641_60_105c\n",
      "20210922_024600_85_105c\n",
      "20211015_114738_1105\n",
      "20211011_165106_02_2449\n",
      "20211002_084046_69_245c\n",
      "20211022_031446_34_2431\n"
     ]
    }
   ],
   "source": [
    "for file in fileList:\n",
    "    if file[-3:] != 'tif':\n",
    "        continue\n",
    "    \n",
    "    ID = file.split('_3B_Analytic')[0]\n",
    "    print(ID)\n",
    "    "
   ]
  },
  {
   "cell_type": "code",
   "execution_count": null,
   "metadata": {},
   "outputs": [],
   "source": []
  }
 ],
 "metadata": {
  "kernelspec": {
   "display_name": "Python 3",
   "language": "python",
   "name": "python3"
  },
  "language_info": {
   "codemirror_mode": {
    "name": "ipython",
    "version": 3
   },
   "file_extension": ".py",
   "mimetype": "text/x-python",
   "name": "python",
   "nbconvert_exporter": "python",
   "pygments_lexer": "ipython3",
   "version": "3.7.4"
  }
 },
 "nbformat": 4,
 "nbformat_minor": 2
}
