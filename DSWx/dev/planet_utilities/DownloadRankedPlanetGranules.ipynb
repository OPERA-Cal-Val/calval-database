{
 "cells": [
  {
   "cell_type": "code",
   "execution_count": 1,
   "metadata": {},
   "outputs": [],
   "source": [
    "import geopandas as gpd\n",
    "import pandas as pd\n",
    "from planet import api\n",
    "from planet.api import downloader\n",
    "from planet.api.downloader import create\n",
    "import time\n",
    "import os"
   ]
  },
  {
   "cell_type": "code",
   "execution_count": 2,
   "metadata": {},
   "outputs": [],
   "source": [
    "item_type = 'PSScene'\n",
    "asset_type = 'ortho_analytic_8b_sr'\n",
    "backup_type = 'ortho_analytic_4b'\n",
    "download_dir = './downloads/'"
   ]
  },
  {
   "cell_type": "code",
   "execution_count": 3,
   "metadata": {},
   "outputs": [
    {
     "name": "stdout",
     "output_type": "stream",
     "text": [
      "PLANET API KEYPLAK72ac8990af84467483541a0e1fc60c61\n"
     ]
    }
   ],
   "source": [
    "planet_api_key = input('PLANET API KEY')"
   ]
  },
  {
   "cell_type": "code",
   "execution_count": 4,
   "metadata": {},
   "outputs": [],
   "source": [
    "downloaded_files = os.listdir(download_dir)\n",
    "downloaded_IDs = []\n",
    "for file in downloaded_files:\n",
    "    if file[-3:] != 'tif':\n",
    "        continue\n",
    "    \n",
    "    ID = file.split('_3B_Analytic')[0]\n",
    "    downloaded_IDs.append(ID)"
   ]
  },
  {
   "cell_type": "code",
   "execution_count": 5,
   "metadata": {},
   "outputs": [],
   "source": [
    "def activatePlanet(sceneID,item_type,asset_type):\n",
    "    client = api.ClientV1(api_key=planet_api_key)\n",
    "    assets = client.get_assets_by_id(item_type, sceneID).get()\n",
    "    activation = client.activate(assets[asset_type])\n",
    "    time.sleep(5)\n",
    "    return asset_type\n",
    "\n",
    "def downloadPlanetBatch(sceneIDs,item_type,asset_types,outDir):\n",
    "    client = api.ClientV1(api_key=planet_api_key)\n",
    "    completeFlag = 0\n",
    "\n",
    "    while completeFlag == 0:\n",
    "        sceneIDsPending = sceneIDs\n",
    "        for sceneID in sceneIDsPending:\n",
    "            asset_type = asset_types[sceneID]\n",
    "            activeCheck = client.get_assets_by_id(item_type, sceneID).get()[asset_type]['status']\n",
    "            if activeCheck == 'active':\n",
    "                print('Downloading: '+sceneID)\n",
    "                assets = client.get_assets_by_id(item_type, sceneID).get()\n",
    "                callback = api.write_to_file(directory=outDir, callback= None, overwrite= True)\n",
    "                body = client.download(assets[asset_type], callback=callback)\n",
    "                body.wait()\n",
    "                sceneIDs.remove(sceneID)\n",
    "\n",
    "                print('\\tFinished download')\n",
    "                \n",
    "        if len(sceneIDs) == 0:\n",
    "            completeFlag = 1\n",
    "        else:\n",
    "            print('Waiting for activation of '+str(len(sceneIDs))+' planet images')\n",
    "            time.sleep(60)"
   ]
  },
  {
   "cell_type": "code",
   "execution_count": 6,
   "metadata": {},
   "outputs": [],
   "source": [
    "csvPath = './Collocation_HLS_Planet_2021.csv'\n",
    "Collocation = pd.read_csv(csvPath, index_col=0)"
   ]
  },
  {
   "cell_type": "code",
   "execution_count": 7,
   "metadata": {},
   "outputs": [],
   "source": [
    "chipIDs = Collocation.chip_ID\n",
    "Strata = []\n",
    "for ID in chipIDs:\n",
    "    s = int(ID[0])\n",
    "    Strata.append(s)\n",
    "\n",
    "Collocation['Strata'] = Strata"
   ]
  },
  {
   "cell_type": "code",
   "execution_count": 8,
   "metadata": {},
   "outputs": [
    {
     "data": {
      "text/html": [
       "<div>\n",
       "<style scoped>\n",
       "    .dataframe tbody tr th:only-of-type {\n",
       "        vertical-align: middle;\n",
       "    }\n",
       "\n",
       "    .dataframe tbody tr th {\n",
       "        vertical-align: top;\n",
       "    }\n",
       "\n",
       "    .dataframe thead th {\n",
       "        text-align: right;\n",
       "    }\n",
       "</style>\n",
       "<table border=\"1\" class=\"dataframe\">\n",
       "  <thead>\n",
       "    <tr style=\"text-align: right;\">\n",
       "      <th></th>\n",
       "      <th>hls_Date</th>\n",
       "      <th>hls_ID</th>\n",
       "      <th>hls_Cloud_Cover</th>\n",
       "      <th>hls_Footprint</th>\n",
       "      <th>hls_AOI_intersect</th>\n",
       "      <th>hls_Link</th>\n",
       "      <th>hls_Thumbnail</th>\n",
       "      <th>pl_Date</th>\n",
       "      <th>pl_ID</th>\n",
       "      <th>pl_Cloud_Cover</th>\n",
       "      <th>pl_Footprint</th>\n",
       "      <th>pl_AOI_intersect</th>\n",
       "      <th>pl_Link</th>\n",
       "      <th>pl_Thumbnail</th>\n",
       "      <th>hls_pl_AOI_intersect</th>\n",
       "      <th>timeDelta_days</th>\n",
       "      <th>chip_ID</th>\n",
       "      <th>chip_rID</th>\n",
       "      <th>Strata</th>\n",
       "    </tr>\n",
       "  </thead>\n",
       "  <tbody>\n",
       "    <tr>\n",
       "      <th>0</th>\n",
       "      <td>2021-09-28 22:56:33.623000+00:00</td>\n",
       "      <td>HLS.S30.T04WDB.2021271T225541.v2.0</td>\n",
       "      <td>4.0</td>\n",
       "      <td>{'type': 'Polygon', 'coordinates': [[[-161.436...</td>\n",
       "      <td>100.00000</td>\n",
       "      <td>&lt;Link rel=self target=https://cmr.earthdata.na...</td>\n",
       "      <td>https://data.lpdaac.earthdatacloud.nasa.gov/lp...</td>\n",
       "      <td>2021-09-29 21:28:09.168336+00:00</td>\n",
       "      <td>20210929_212809_16_2442</td>\n",
       "      <td>0.0</td>\n",
       "      <td>{'coordinates': [[[-160.0089598452984, 69.3047...</td>\n",
       "      <td>73.655138</td>\n",
       "      <td>https://api.planet.com/data/v1/item-types/PSSc...</td>\n",
       "      <td>https://tiles.planet.com/data/v1/item-types/PS...</td>\n",
       "      <td>73.655138</td>\n",
       "      <td>0.938606</td>\n",
       "      <td>3_38</td>\n",
       "      <td>99.0</td>\n",
       "      <td>3.0</td>\n",
       "    </tr>\n",
       "    <tr>\n",
       "      <th>1</th>\n",
       "      <td>2021-10-12 19:15:49.569000+00:00</td>\n",
       "      <td>HLS.S30.T12WVV.2021285T191341.v2.0</td>\n",
       "      <td>41.0</td>\n",
       "      <td>{'type': 'Polygon', 'coordinates': [[[-113.259...</td>\n",
       "      <td>100.00000</td>\n",
       "      <td>&lt;Link rel=self target=https://cmr.earthdata.na...</td>\n",
       "      <td>https://data.lpdaac.earthdatacloud.nasa.gov/lp...</td>\n",
       "      <td>2021-10-12 18:45:51.578477+00:00</td>\n",
       "      <td>20211012_184551_1040</td>\n",
       "      <td>0.0</td>\n",
       "      <td>{'coordinates': [[[-112.88824769135005, 67.212...</td>\n",
       "      <td>2.911913</td>\n",
       "      <td>https://api.planet.com/data/v1/item-types/PSSc...</td>\n",
       "      <td>https://tiles.planet.com/data/v1/item-types/PS...</td>\n",
       "      <td>2.911913</td>\n",
       "      <td>0.020810</td>\n",
       "      <td>4_27</td>\n",
       "      <td>114.0</td>\n",
       "      <td>4.0</td>\n",
       "    </tr>\n",
       "    <tr>\n",
       "      <th>2</th>\n",
       "      <td>2021-10-12 10:52:20.245000+00:00</td>\n",
       "      <td>HLS.S30.T33WXP.2021285T105011.v2.0</td>\n",
       "      <td>16.0</td>\n",
       "      <td>{'type': 'Polygon', 'coordinates': [[[17.29852...</td>\n",
       "      <td>29.50247</td>\n",
       "      <td>&lt;Link rel=self target=https://cmr.earthdata.na...</td>\n",
       "      <td>https://data.lpdaac.earthdatacloud.nasa.gov/lp...</td>\n",
       "      <td>2021-10-13 09:25:04.083607+00:00</td>\n",
       "      <td>20211013_092504_08_2442</td>\n",
       "      <td>0.0</td>\n",
       "      <td>{'coordinates': [[[17.407137633889764, 66.1944...</td>\n",
       "      <td>63.344900</td>\n",
       "      <td>https://api.planet.com/data/v1/item-types/PSSc...</td>\n",
       "      <td>https://tiles.planet.com/data/v1/item-types/PS...</td>\n",
       "      <td>21.366709</td>\n",
       "      <td>0.939396</td>\n",
       "      <td>4_43</td>\n",
       "      <td>20.0</td>\n",
       "      <td>4.0</td>\n",
       "    </tr>\n",
       "    <tr>\n",
       "      <th>3</th>\n",
       "      <td>2021-09-25 07:41:15.483000+00:00</td>\n",
       "      <td>HLS.S30.T40WFU.2021268T073641.v2.0</td>\n",
       "      <td>1.0</td>\n",
       "      <td>{'type': 'Polygon', 'coordinates': [[[61.56600...</td>\n",
       "      <td>95.95395</td>\n",
       "      <td>&lt;Link rel=self target=https://cmr.earthdata.na...</td>\n",
       "      <td>https://data.lpdaac.earthdatacloud.nasa.gov/lp...</td>\n",
       "      <td>2021-09-26 07:28:58.882736+00:00</td>\n",
       "      <td>20210926_072858_88_2416</td>\n",
       "      <td>0.0</td>\n",
       "      <td>{'coordinates': [[[59.01856566651295, 65.96493...</td>\n",
       "      <td>57.756871</td>\n",
       "      <td>https://api.planet.com/data/v1/item-types/PSSc...</td>\n",
       "      <td>https://tiles.planet.com/data/v1/item-types/PS...</td>\n",
       "      <td>55.331216</td>\n",
       "      <td>0.991475</td>\n",
       "      <td>3_1</td>\n",
       "      <td>112.0</td>\n",
       "      <td>3.0</td>\n",
       "    </tr>\n",
       "    <tr>\n",
       "      <th>4</th>\n",
       "      <td>2021-09-01 18:06:29.196000+00:00</td>\n",
       "      <td>HLS.S30.T15VUK.2021244T175911.v2.0</td>\n",
       "      <td>1.0</td>\n",
       "      <td>{'type': 'Polygon', 'coordinates': [[[-96.8314...</td>\n",
       "      <td>100.00000</td>\n",
       "      <td>&lt;Link rel=self target=https://cmr.earthdata.na...</td>\n",
       "      <td>https://data.lpdaac.earthdatacloud.nasa.gov/lp...</td>\n",
       "      <td>2021-09-01 17:52:05.711814+00:00</td>\n",
       "      <td>20210901_175205_71_2426</td>\n",
       "      <td>0.0</td>\n",
       "      <td>{'coordinates': [[[-96.94381411041722, 62.8887...</td>\n",
       "      <td>96.416886</td>\n",
       "      <td>https://api.planet.com/data/v1/item-types/PSSc...</td>\n",
       "      <td>https://tiles.planet.com/data/v1/item-types/PS...</td>\n",
       "      <td>96.416886</td>\n",
       "      <td>0.009994</td>\n",
       "      <td>4_34</td>\n",
       "      <td>115.0</td>\n",
       "      <td>4.0</td>\n",
       "    </tr>\n",
       "  </tbody>\n",
       "</table>\n",
       "</div>"
      ],
      "text/plain": [
       "                           hls_Date                              hls_ID  \\\n",
       "0  2021-09-28 22:56:33.623000+00:00  HLS.S30.T04WDB.2021271T225541.v2.0   \n",
       "1  2021-10-12 19:15:49.569000+00:00  HLS.S30.T12WVV.2021285T191341.v2.0   \n",
       "2  2021-10-12 10:52:20.245000+00:00  HLS.S30.T33WXP.2021285T105011.v2.0   \n",
       "3  2021-09-25 07:41:15.483000+00:00  HLS.S30.T40WFU.2021268T073641.v2.0   \n",
       "4  2021-09-01 18:06:29.196000+00:00  HLS.S30.T15VUK.2021244T175911.v2.0   \n",
       "\n",
       "   hls_Cloud_Cover                                      hls_Footprint  \\\n",
       "0              4.0  {'type': 'Polygon', 'coordinates': [[[-161.436...   \n",
       "1             41.0  {'type': 'Polygon', 'coordinates': [[[-113.259...   \n",
       "2             16.0  {'type': 'Polygon', 'coordinates': [[[17.29852...   \n",
       "3              1.0  {'type': 'Polygon', 'coordinates': [[[61.56600...   \n",
       "4              1.0  {'type': 'Polygon', 'coordinates': [[[-96.8314...   \n",
       "\n",
       "   hls_AOI_intersect                                           hls_Link  \\\n",
       "0          100.00000  <Link rel=self target=https://cmr.earthdata.na...   \n",
       "1          100.00000  <Link rel=self target=https://cmr.earthdata.na...   \n",
       "2           29.50247  <Link rel=self target=https://cmr.earthdata.na...   \n",
       "3           95.95395  <Link rel=self target=https://cmr.earthdata.na...   \n",
       "4          100.00000  <Link rel=self target=https://cmr.earthdata.na...   \n",
       "\n",
       "                                       hls_Thumbnail  \\\n",
       "0  https://data.lpdaac.earthdatacloud.nasa.gov/lp...   \n",
       "1  https://data.lpdaac.earthdatacloud.nasa.gov/lp...   \n",
       "2  https://data.lpdaac.earthdatacloud.nasa.gov/lp...   \n",
       "3  https://data.lpdaac.earthdatacloud.nasa.gov/lp...   \n",
       "4  https://data.lpdaac.earthdatacloud.nasa.gov/lp...   \n",
       "\n",
       "                            pl_Date                    pl_ID  pl_Cloud_Cover  \\\n",
       "0  2021-09-29 21:28:09.168336+00:00  20210929_212809_16_2442             0.0   \n",
       "1  2021-10-12 18:45:51.578477+00:00     20211012_184551_1040             0.0   \n",
       "2  2021-10-13 09:25:04.083607+00:00  20211013_092504_08_2442             0.0   \n",
       "3  2021-09-26 07:28:58.882736+00:00  20210926_072858_88_2416             0.0   \n",
       "4  2021-09-01 17:52:05.711814+00:00  20210901_175205_71_2426             0.0   \n",
       "\n",
       "                                        pl_Footprint  pl_AOI_intersect  \\\n",
       "0  {'coordinates': [[[-160.0089598452984, 69.3047...         73.655138   \n",
       "1  {'coordinates': [[[-112.88824769135005, 67.212...          2.911913   \n",
       "2  {'coordinates': [[[17.407137633889764, 66.1944...         63.344900   \n",
       "3  {'coordinates': [[[59.01856566651295, 65.96493...         57.756871   \n",
       "4  {'coordinates': [[[-96.94381411041722, 62.8887...         96.416886   \n",
       "\n",
       "                                             pl_Link  \\\n",
       "0  https://api.planet.com/data/v1/item-types/PSSc...   \n",
       "1  https://api.planet.com/data/v1/item-types/PSSc...   \n",
       "2  https://api.planet.com/data/v1/item-types/PSSc...   \n",
       "3  https://api.planet.com/data/v1/item-types/PSSc...   \n",
       "4  https://api.planet.com/data/v1/item-types/PSSc...   \n",
       "\n",
       "                                        pl_Thumbnail  hls_pl_AOI_intersect  \\\n",
       "0  https://tiles.planet.com/data/v1/item-types/PS...             73.655138   \n",
       "1  https://tiles.planet.com/data/v1/item-types/PS...              2.911913   \n",
       "2  https://tiles.planet.com/data/v1/item-types/PS...             21.366709   \n",
       "3  https://tiles.planet.com/data/v1/item-types/PS...             55.331216   \n",
       "4  https://tiles.planet.com/data/v1/item-types/PS...             96.416886   \n",
       "\n",
       "   timeDelta_days chip_ID  chip_rID  Strata  \n",
       "0        0.938606    3_38      99.0     3.0  \n",
       "1        0.020810    4_27     114.0     4.0  \n",
       "2        0.939396    4_43      20.0     4.0  \n",
       "3        0.991475     3_1     112.0     3.0  \n",
       "4        0.009994    4_34     115.0     4.0  "
      ]
     },
     "execution_count": 8,
     "metadata": {},
     "output_type": "execute_result"
    }
   ],
   "source": [
    "Ranked = pd.DataFrame()\n",
    "chipIDs_uniq = Collocation.chip_ID.unique()\n",
    "for ID in chipIDs_uniq:\n",
    "    search = Collocation[(Collocation.chip_ID == ID) & (Collocation.pl_Cloud_Cover == 0.0) & (Collocation.hls_Cloud_Cover <= 30.0)].sort_values(by=['hls_pl_AOI_intersect'],ascending=False)\n",
    "    if len(search) > 0:\n",
    "        top = search.iloc[0]\n",
    "        Ranked = Ranked.append(top, ignore_index=True)\n",
    "    else:\n",
    "        search = Collocation[(Collocation.chip_ID == ID) & (Collocation.pl_Cloud_Cover == 0.0) & (Collocation.hls_Cloud_Cover <= 60.0)].sort_values(by=['hls_pl_AOI_intersect'],ascending=False)\n",
    "        top = search.iloc[0]\n",
    "        Ranked = Ranked.append(top, ignore_index=True)\n",
    "Ranked.head()"
   ]
  },
  {
   "cell_type": "code",
   "execution_count": 9,
   "metadata": {},
   "outputs": [
    {
     "name": "stdout",
     "output_type": "stream",
     "text": [
      "['20210929_212809_16_2442', '20211012_184551_1040', '20211013_092504_08_2442', '20210926_072858_88_2416', '20210901_175205_71_2426', '20211030_014006_52_2431', '20211014_152910_49_2459', '20210918_042559_64_2419', '20211007_081605_77_245f', '20210921_182414_03_241d', '20211012_173555_20_2276', '20210914_103644_25_2413', '20210925_191708_94_2408', '20211008_073033_21_245c', '20211022_031446_34_2431', '20211006_164259_80_2460', '20211002_084046_69_245c', '20211029_070331_23_2428', '20211027_151445_21_2231', '20211009_070145_70_2451', '20211013_073019_14_2414', '20211010_080351_47_2458', '20210903_152641_60_105c', '20211008_060306_49_2439', '20211015_114738_1105', '20211028_045455_02_2459', '20211008_063123_28_245f', '20210917_140704_93_2262', '20211028_151242_66_2428', '20211026_025125_77_240c', '20211008_054349_78_241d', '20211003_075037_07_2458', '20210912_034049_22_2421', '20211019_180019_07_2453', '20210906_030035_64_2440', '20211001_071025_45_2435', '20211028_055109_45_245f', '20211024_075820_52_242d', '20210902_181904_68_2457', '20210917_152712_47_2457', '20211025_085849_59_241b', '20210928_065350_38_245f', '20210928_010612_93_2424', '20211022_163856_44_2421', '20210902_154155_56_2453', '20211012_100321_71_220b', '20211016_174304_93_245f', '20210930_021156_60_2434', '20210906_183639_52_240c', '20210908_023153_94_2456', '20210927_162037_23_2448', '20210922_171337_39_2420', '20211010_003854_61_241d', '20211002_044055_96_2457', '20211027_163658_88_2406', '20211007_032555_11_2440', '20210914_051809_10_2455', '20210924_081239_92_222b', '20211011_165106_02_2449', '20211019_161753_54_2413', '20210922_024600_85_105c', '20210928_072802_36_2463', '20211003_161639_91_241d', '20210926_020646_15_2231', '20210915_172340_12_245f', '20210912_032412_11_2254', '20210914_131134_1050', '20211011_155455_52_2262', '20211001_103604_86_241e', '20210918_025609_65_2458', '20210930_101559_07_2434', '20210924_105156_25_2414', '20211018_071129_42_241d', '20210924_141609_24_2457', '20211006_080646_19_2464', '20211022_082842_35_2406', '20211012_083209_57_245c', '20210915_090144_84_2413', '20211006_103927_104e', '20210912_072200_51_2434', '20211006_152530_35_105c', '20211016_081255_90_2420', '20210924_082025_48_2424', '20211025_124147_47_2414', '20210901_131728_46_245d', '20211010_135831_84_227e', '20210914_140531_51_2413', '20211004_072609_70_2276', '20210902_141047_20_2459', '20210920_141914_72_2405', '20211014_135624_65_242b', '20210924_000522_94_2421', '20210910_002538_99_2206', '20211009_123944_46_2212', '20211027_061426_39_2235', '20211017_013641_43_2307', '20210924_133400_47_2450', '20210910_021446_89_240f', '20211014_083427_44_2408', '20211005_012548_25_242b', '20211021_144440_49_2408', '20210907_231157_98_2464', '20211019_003754_48_240a', '20210908_005316_44_2223', '20211011_005208_90_2274', '20210922_005343_60_2274', '20210928_011406_56_227a', '20211027_134449_30_2254', '20211025_075910_51_245a', '20211021_133031_75_245a', '20211005_135201_42_227e', '20210906_012332_35_2449', '20210902_000433_53_2403', '20210918_135626_99_245f', '20210922_134008_15_2235', '20211030_142613_41_227b', '20211022_175213_55_2440', '20210928_215406_33_2419', '20210924_133812_95_2420', '20210927_090055_73_2416', '20211016_050513_74_2456', '20210922_030634_89_2406', '20211023_034107_36_2223', '20210926_105333_13_227a', '20211026_085444_49_241e', '20211027_084417_92_241b', '20211003_093451_99_2408', '20210926_072414_71_2233', '20210926_080715_73_2402', '20211018_085512_78_2413']\n"
     ]
    }
   ],
   "source": [
    "IDs = Ranked.pl_ID.tolist()\n",
    "print(IDs)"
   ]
  },
  {
   "cell_type": "code",
   "execution_count": 10,
   "metadata": {},
   "outputs": [
    {
     "name": "stdout",
     "output_type": "stream",
     "text": [
      "130\n"
     ]
    }
   ],
   "source": [
    "for ID in downloaded_IDs:\n",
    "    if ID in IDs:\n",
    "        IDs.remove(ID)\n",
    "print(len(IDs))"
   ]
  },
  {
   "cell_type": "code",
   "execution_count": 11,
   "metadata": {},
   "outputs": [],
   "source": [
    "IDs = ['20211012_184551_1040']"
   ]
  },
  {
   "cell_type": "code",
   "execution_count": 13,
   "metadata": {
    "scrolled": false
   },
   "outputs": [
    {
     "name": "stdout",
     "output_type": "stream",
     "text": [
      "Activated ID (backup type):20211012_184551_1040\n"
     ]
    }
   ],
   "source": [
    "asset_types = {}\n",
    "for ID in IDs:\n",
    "    try:\n",
    "        aType = activatePlanet(ID,item_type,asset_type)\n",
    "        print('Activated ID:'+ID)\n",
    "    except:\n",
    "        try:\n",
    "            aType = activatePlanet(ID,item_type,backup_type)\n",
    "            print('Activated ID (backup type):'+ID)\n",
    "        except:\n",
    "            print('Failed to activate ID:'+ID)\n",
    "    asset_types[ID] = aType"
   ]
  },
  {
   "cell_type": "code",
   "execution_count": null,
   "metadata": {},
   "outputs": [],
   "source": [
    "copyIDs = IDs"
   ]
  },
  {
   "cell_type": "code",
   "execution_count": null,
   "metadata": {
    "scrolled": false
   },
   "outputs": [],
   "source": [
    "downloadPlanetBatch(IDs,item_type,asset_types,download_dir)"
   ]
  },
  {
   "cell_type": "code",
   "execution_count": null,
   "metadata": {},
   "outputs": [],
   "source": [
    "\n"
   ]
  },
  {
   "cell_type": "code",
   "execution_count": null,
   "metadata": {},
   "outputs": [],
   "source": []
  }
 ],
 "metadata": {
  "kernelspec": {
   "display_name": "Python 3",
   "language": "python",
   "name": "python3"
  },
  "language_info": {
   "codemirror_mode": {
    "name": "ipython",
    "version": 3
   },
   "file_extension": ".py",
   "mimetype": "text/x-python",
   "name": "python",
   "nbconvert_exporter": "python",
   "pygments_lexer": "ipython3",
   "version": "3.7.4"
  }
 },
 "nbformat": 4,
 "nbformat_minor": 2
}
