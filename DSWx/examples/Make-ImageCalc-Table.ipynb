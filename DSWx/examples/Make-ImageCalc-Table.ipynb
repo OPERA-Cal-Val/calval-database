{
 "cells": [
  {
   "cell_type": "code",
   "execution_count": 1,
   "metadata": {},
   "outputs": [],
   "source": [
    "import geopandas as gpd\n",
    "import pandas as pd\n",
    "import boto3"
   ]
  },
  {
   "cell_type": "code",
   "execution_count": 2,
   "metadata": {},
   "outputs": [],
   "source": [
    "bucket_name = 'opera-validation-datasets'\n",
    "root_folder_name = 'calval-database-dev/'\n",
    "upload_files_path = './upload/'"
   ]
  },
  {
   "cell_type": "code",
   "execution_count": 3,
   "metadata": {},
   "outputs": [],
   "source": [
    "filename = '20211011_155455_52_2262_3B_AnalyticMS_SR_8b_clip_Supervised_MD.tif'\n",
    "logfile = 'logfile.txt'\n",
    "training_data = 'trainingInput1.scp'\n",
    "source_image_name = '20211011_155455_52_2262'\n",
    "calc_type = 'Classification'\n",
    "final = False\n",
    "fitness = 0\n",
    "public = True"
   ]
  },
  {
   "cell_type": "code",
   "execution_count": 4,
   "metadata": {},
   "outputs": [],
   "source": [
    "session = boto3.session.Session(profile_name='saml-pub')\n",
    "s3 = session.resource('s3')\n",
    "s3_client = session.client('s3')"
   ]
  },
  {
   "cell_type": "code",
   "execution_count": 5,
   "metadata": {},
   "outputs": [],
   "source": [
    "collocation = gpd.read_file('Collocation_HLS_Planet_2021.geojson')"
   ]
  },
  {
   "cell_type": "code",
   "execution_count": 6,
   "metadata": {},
   "outputs": [],
   "source": [
    "search = collocation[(collocation.pl_ID == source_image_name)].sort_values('hls_pl_AOI_intersect',ascending=False)\n",
    "search = search.iloc[[0]]\n",
    "site = search.chip_ID.iloc[0]"
   ]
  },
  {
   "cell_type": "code",
   "execution_count": null,
   "metadata": {},
   "outputs": [],
   "source": []
  },
  {
   "cell_type": "code",
   "execution_count": 7,
   "metadata": {},
   "outputs": [
    {
     "data": {
      "text/html": [
       "<div>\n",
       "<style scoped>\n",
       "    .dataframe tbody tr th:only-of-type {\n",
       "        vertical-align: middle;\n",
       "    }\n",
       "\n",
       "    .dataframe tbody tr th {\n",
       "        vertical-align: top;\n",
       "    }\n",
       "\n",
       "    .dataframe thead th {\n",
       "        text-align: right;\n",
       "    }\n",
       "</style>\n",
       "<table border=\"1\" class=\"dataframe\">\n",
       "  <thead>\n",
       "    <tr style=\"text-align: right;\">\n",
       "      <th></th>\n",
       "      <th>image_name</th>\n",
       "      <th>geometry</th>\n",
       "    </tr>\n",
       "  </thead>\n",
       "  <tbody>\n",
       "    <tr>\n",
       "      <td>39186</td>\n",
       "      <td>20211011_155455_52_2262</td>\n",
       "      <td>POLYGON ((-90.50851 16.35841, -90.54697 16.176...</td>\n",
       "    </tr>\n",
       "  </tbody>\n",
       "</table>\n",
       "</div>"
      ],
      "text/plain": [
       "                    image_name  \\\n",
       "39186  20211011_155455_52_2262   \n",
       "\n",
       "                                                geometry  \n",
       "39186  POLYGON ((-90.50851 16.35841, -90.54697 16.176...  "
      ]
     },
     "execution_count": 7,
     "metadata": {},
     "output_type": "execute_result"
    }
   ],
   "source": [
    "image_calc = search[['pl_ID','geometry']].rename(columns={'pl_ID':'image_name'})\n",
    "image_calc.head()"
   ]
  },
  {
   "cell_type": "code",
   "execution_count": 8,
   "metadata": {},
   "outputs": [
    {
     "data": {
      "text/html": [
       "<div>\n",
       "<style scoped>\n",
       "    .dataframe tbody tr th:only-of-type {\n",
       "        vertical-align: middle;\n",
       "    }\n",
       "\n",
       "    .dataframe tbody tr th {\n",
       "        vertical-align: top;\n",
       "    }\n",
       "\n",
       "    .dataframe thead th {\n",
       "        text-align: right;\n",
       "    }\n",
       "</style>\n",
       "<table border=\"1\" class=\"dataframe\">\n",
       "  <thead>\n",
       "    <tr style=\"text-align: right;\">\n",
       "      <th></th>\n",
       "      <th>image_name</th>\n",
       "      <th>geometry</th>\n",
       "      <th>image_calc_name</th>\n",
       "      <th>calc_type</th>\n",
       "      <th>final</th>\n",
       "      <th>fitness</th>\n",
       "      <th>public</th>\n",
       "    </tr>\n",
       "  </thead>\n",
       "  <tbody>\n",
       "    <tr>\n",
       "      <td>39186</td>\n",
       "      <td>20211011_155455_52_2262</td>\n",
       "      <td>POLYGON ((-90.50851 16.35841, -90.54697 16.176...</td>\n",
       "      <td>20211011_155455_52_2262_3B_AnalyticMS_SR_8b_cl...</td>\n",
       "      <td>Classification</td>\n",
       "      <td>False</td>\n",
       "      <td>0</td>\n",
       "      <td>True</td>\n",
       "    </tr>\n",
       "  </tbody>\n",
       "</table>\n",
       "</div>"
      ],
      "text/plain": [
       "                    image_name  \\\n",
       "39186  20211011_155455_52_2262   \n",
       "\n",
       "                                                geometry  \\\n",
       "39186  POLYGON ((-90.50851 16.35841, -90.54697 16.176...   \n",
       "\n",
       "                                         image_calc_name       calc_type  \\\n",
       "39186  20211011_155455_52_2262_3B_AnalyticMS_SR_8b_cl...  Classification   \n",
       "\n",
       "       final  fitness  public  \n",
       "39186  False        0    True  "
      ]
     },
     "execution_count": 8,
     "metadata": {},
     "output_type": "execute_result"
    }
   ],
   "source": [
    "image_calc['image_calc_name'] = filename[:-4]\n",
    "image_calc['calc_type'] = calc_type\n",
    "image_calc['final'] = final\n",
    "image_calc['fitness'] = fitness\n",
    "image_calc['public'] = public\n",
    "image_calc.head()"
   ]
  },
  {
   "cell_type": "code",
   "execution_count": 9,
   "metadata": {},
   "outputs": [],
   "source": [
    "s3_folder_path = root_folder_name+'data/'+site+'/'+source_image_name+'/'+filename[:-4]+'/'\n",
    "s3_link_image = s3_folder_path+filename\n",
    "s3_link_logfile = s3_folder_path+logfile\n",
    "s3_link_training = s3_folder_path+training_data"
   ]
  },
  {
   "cell_type": "code",
   "execution_count": 10,
   "metadata": {},
   "outputs": [],
   "source": [
    "image_calc['s3_link_image_calc'] = s3_link_image\n",
    "image_calc['s3_link_logfile'] = s3_link_logfile\n",
    "image_calc['s3_link_training'] = s3_link_training"
   ]
  },
  {
   "cell_type": "code",
   "execution_count": 11,
   "metadata": {},
   "outputs": [],
   "source": [
    "response = s3_client.upload_file(upload_files_path+filename,bucket_name,s3_link_image)\n",
    "response = s3_client.upload_file(upload_files_path+logfile,bucket_name,s3_link_logfile)\n",
    "response = s3_client.upload_file(upload_files_path+training_data,bucket_name,s3_link_training)"
   ]
  },
  {
   "cell_type": "code",
   "execution_count": null,
   "metadata": {},
   "outputs": [],
   "source": []
  },
  {
   "cell_type": "code",
   "execution_count": 12,
   "metadata": {},
   "outputs": [
    {
     "data": {
      "text/plain": [
       "{'ResponseMetadata': {'RequestId': 'RX2A0HK3HRK8XNPK',\n",
       "  'HostId': '3F/J3mlI5+ZIf0rtODoa+O4lrWn3wEjD94mtuPbjkBXhsamQU2hGmn/MP14oFx8NOqT79EhRgQE=',\n",
       "  'HTTPStatusCode': 200,\n",
       "  'HTTPHeaders': {'x-amz-id-2': '3F/J3mlI5+ZIf0rtODoa+O4lrWn3wEjD94mtuPbjkBXhsamQU2hGmn/MP14oFx8NOqT79EhRgQE=',\n",
       "   'x-amz-request-id': 'RX2A0HK3HRK8XNPK',\n",
       "   'date': 'Tue, 21 Jun 2022 16:52:25 GMT',\n",
       "   'etag': '\"f7af1ab300cb453cdfc3fe53ff130805\"',\n",
       "   'server': 'AmazonS3',\n",
       "   'content-length': '0'},\n",
       "  'RetryAttempts': 0},\n",
       " 'ETag': '\"f7af1ab300cb453cdfc3fe53ff130805\"'}"
      ]
     },
     "execution_count": 12,
     "metadata": {},
     "output_type": "execute_result"
    }
   ],
   "source": [
    "image_calc_bytes = bytes(image_calc.to_json(drop_id=True).encode('UTF-8'))\n",
    "s3object = s3.Object(bucket_name,root_folder_name+'image_calc.geojson')\n",
    "s3object.put(Body=image_calc_bytes)"
   ]
  },
  {
   "cell_type": "code",
   "execution_count": null,
   "metadata": {},
   "outputs": [],
   "source": []
  }
 ],
 "metadata": {
  "kernelspec": {
   "display_name": "Python 3",
   "language": "python",
   "name": "python3"
  },
  "language_info": {
   "codemirror_mode": {
    "name": "ipython",
    "version": 3
   },
   "file_extension": ".py",
   "mimetype": "text/x-python",
   "name": "python",
   "nbconvert_exporter": "python",
   "pygments_lexer": "ipython3",
   "version": "3.7.4"
  }
 },
 "nbformat": 4,
 "nbformat_minor": 2
}
