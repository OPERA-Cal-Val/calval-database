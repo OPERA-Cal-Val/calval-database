{
 "cells": [
  {
   "cell_type": "code",
   "execution_count": 39,
   "metadata": {},
   "outputs": [],
   "source": [
    "import geopandas as gpd\n",
    "import boto3"
   ]
  },
  {
   "cell_type": "code",
   "execution_count": 48,
   "metadata": {},
   "outputs": [],
   "source": [
    "bucket_name = 'opera-validation-datasets'\n",
    "root_folder_name = 'calval-database-dev/'"
   ]
  },
  {
   "cell_type": "code",
   "execution_count": 41,
   "metadata": {},
   "outputs": [],
   "source": [
    "session = boto3.session.Session(profile_name='saml-pub')\n",
    "#s3 = session.resource('s3')\n",
    "s3 = session.client('s3')"
   ]
  },
  {
   "cell_type": "code",
   "execution_count": 42,
   "metadata": {},
   "outputs": [
    {
     "name": "stdout",
     "output_type": "stream",
     "text": [
      "        CENTERX  CENTERY  STRATA SAMPLE_ID        date  LS_Validat  random_id  \\\n",
      "0   -159.648125    69.21       3      3_38  2011-07-17           1         99   \n",
      "1   -112.983750    67.05       4      4_27  2012-07-23           1        114   \n",
      "2     17.698500    65.97       4      4_43  2010-07-24           1         20   \n",
      "3     59.675000    65.79       3       3_1  2011-07-13           1        112   \n",
      "4    -96.604375    62.73       4      4_34  2012-08-27           1        115   \n",
      "..          ...      ...     ...       ...         ...         ...        ...   \n",
      "126   13.120250    11.43       1      1_25  2011-10-26           0         49   \n",
      "127  114.166250    -4.23       4      4_23  2011-08-18           0        103   \n",
      "128   33.611375   -16.29       4       4_3  2010-11-09           0         28   \n",
      "129   30.690625   -26.91       2       2_5  2011-01-31           0         37   \n",
      "130   17.284500   -29.97       1      1_31  2011-01-05           0        108   \n",
      "\n",
      "                                              geometry  \n",
      "0    MULTIPOLYGON (((-159.89875 69.30000, -159.6590...  \n",
      "1    MULTIPOLYGON (((-113.21200 67.14000, -113.0985...  \n",
      "2    MULTIPOLYGON (((17.61000 66.06000, 17.91700 66...  \n",
      "3    MULTIPOLYGON (((59.86900 65.88000, 59.89200 65...  \n",
      "4    MULTIPOLYGON (((-96.79875 62.82000, -96.57700 ...  \n",
      "..                                                 ...  \n",
      "126  MULTIPOLYGON (((13.04625 11.52000, 13.21200 11...  \n",
      "127  MULTIPOLYGON (((114.25650 -4.14000, 114.25650 ...  \n",
      "128  MULTIPOLYGON (((33.70500 -16.20000, 33.70500 -...  \n",
      "129  MULTIPOLYGON (((30.75300 -26.82000, 30.79125 -...  \n",
      "130  MULTIPOLYGON (((17.36700 -29.88000, 17.38800 -...  \n",
      "\n",
      "[131 rows x 8 columns]\n"
     ]
    }
   ],
   "source": [
    "gdf = gpd.read_file('REsampleblocksUpd.geojson')\n",
    "print(gdf)"
   ]
  },
  {
   "cell_type": "code",
   "execution_count": 43,
   "metadata": {},
   "outputs": [
    {
     "name": "stdout",
     "output_type": "stream",
     "text": [
      "        CENTERX  CENTERY  STRATA site_name        date  LS_Validat  random_id  \\\n",
      "0   -159.648125    69.21       3      3_38  2011-07-17           1         99   \n",
      "1   -112.983750    67.05       4      4_27  2012-07-23           1        114   \n",
      "2     17.698500    65.97       4      4_43  2010-07-24           1         20   \n",
      "3     59.675000    65.79       3       3_1  2011-07-13           1        112   \n",
      "4    -96.604375    62.73       4      4_34  2012-08-27           1        115   \n",
      "..          ...      ...     ...       ...         ...         ...        ...   \n",
      "126   13.120250    11.43       1      1_25  2011-10-26           0         49   \n",
      "127  114.166250    -4.23       4      4_23  2011-08-18           0        103   \n",
      "128   33.611375   -16.29       4       4_3  2010-11-09           0         28   \n",
      "129   30.690625   -26.91       2       2_5  2011-01-31           0         37   \n",
      "130   17.284500   -29.97       1      1_31  2011-01-05           0        108   \n",
      "\n",
      "                                              geometry  \n",
      "0    MULTIPOLYGON (((-159.89875 69.30000, -159.6590...  \n",
      "1    MULTIPOLYGON (((-113.21200 67.14000, -113.0985...  \n",
      "2    MULTIPOLYGON (((17.61000 66.06000, 17.91700 66...  \n",
      "3    MULTIPOLYGON (((59.86900 65.88000, 59.89200 65...  \n",
      "4    MULTIPOLYGON (((-96.79875 62.82000, -96.57700 ...  \n",
      "..                                                 ...  \n",
      "126  MULTIPOLYGON (((13.04625 11.52000, 13.21200 11...  \n",
      "127  MULTIPOLYGON (((114.25650 -4.14000, 114.25650 ...  \n",
      "128  MULTIPOLYGON (((33.70500 -16.20000, 33.70500 -...  \n",
      "129  MULTIPOLYGON (((30.75300 -26.82000, 30.79125 -...  \n",
      "130  MULTIPOLYGON (((17.36700 -29.88000, 17.38800 -...  \n",
      "\n",
      "[131 rows x 8 columns]\n"
     ]
    }
   ],
   "source": [
    "gdf = gdf.rename(columns = {'SAMPLE_ID':'site_name'})\n",
    "print(gdf)"
   ]
  },
  {
   "cell_type": "code",
   "execution_count": 44,
   "metadata": {},
   "outputs": [
    {
     "name": "stdout",
     "output_type": "stream",
     "text": [
      "        CENTERX  CENTERY  water_content site_name        date  LS_Validat  \\\n",
      "0   -159.648125    69.21              3      3_38  2011-07-17           1   \n",
      "1   -112.983750    67.05              4      4_27  2012-07-23           1   \n",
      "2     17.698500    65.97              4      4_43  2010-07-24           1   \n",
      "3     59.675000    65.79              3       3_1  2011-07-13           1   \n",
      "4    -96.604375    62.73              4      4_34  2012-08-27           1   \n",
      "..          ...      ...            ...       ...         ...         ...   \n",
      "126   13.120250    11.43              1      1_25  2011-10-26           0   \n",
      "127  114.166250    -4.23              4      4_23  2011-08-18           0   \n",
      "128   33.611375   -16.29              4       4_3  2010-11-09           0   \n",
      "129   30.690625   -26.91              2       2_5  2011-01-31           0   \n",
      "130   17.284500   -29.97              1      1_31  2011-01-05           0   \n",
      "\n",
      "     random_id                                           geometry  \n",
      "0           99  MULTIPOLYGON (((-159.89875 69.30000, -159.6590...  \n",
      "1          114  MULTIPOLYGON (((-113.21200 67.14000, -113.0985...  \n",
      "2           20  MULTIPOLYGON (((17.61000 66.06000, 17.91700 66...  \n",
      "3          112  MULTIPOLYGON (((59.86900 65.88000, 59.89200 65...  \n",
      "4          115  MULTIPOLYGON (((-96.79875 62.82000, -96.57700 ...  \n",
      "..         ...                                                ...  \n",
      "126         49  MULTIPOLYGON (((13.04625 11.52000, 13.21200 11...  \n",
      "127        103  MULTIPOLYGON (((114.25650 -4.14000, 114.25650 ...  \n",
      "128         28  MULTIPOLYGON (((33.70500 -16.20000, 33.70500 -...  \n",
      "129         37  MULTIPOLYGON (((30.75300 -26.82000, 30.79125 -...  \n",
      "130        108  MULTIPOLYGON (((17.36700 -29.88000, 17.38800 -...  \n",
      "\n",
      "[131 rows x 8 columns]\n"
     ]
    }
   ],
   "source": [
    "gdf = gdf.rename(columns = {'STRATA':'water_content'})\n",
    "print(gdf)"
   ]
  },
  {
   "cell_type": "code",
   "execution_count": 45,
   "metadata": {},
   "outputs": [
    {
     "name": "stdout",
     "output_type": "stream",
     "text": [
      "     water_content site_name  \\\n",
      "0                3      3_38   \n",
      "1                4      4_27   \n",
      "2                4      4_43   \n",
      "3                3       3_1   \n",
      "4                4      4_34   \n",
      "..             ...       ...   \n",
      "126              1      1_25   \n",
      "127              4      4_23   \n",
      "128              4       4_3   \n",
      "129              2       2_5   \n",
      "130              1      1_31   \n",
      "\n",
      "                                              geometry  \n",
      "0    MULTIPOLYGON (((-159.89875 69.30000, -159.6590...  \n",
      "1    MULTIPOLYGON (((-113.21200 67.14000, -113.0985...  \n",
      "2    MULTIPOLYGON (((17.61000 66.06000, 17.91700 66...  \n",
      "3    MULTIPOLYGON (((59.86900 65.88000, 59.89200 65...  \n",
      "4    MULTIPOLYGON (((-96.79875 62.82000, -96.57700 ...  \n",
      "..                                                 ...  \n",
      "126  MULTIPOLYGON (((13.04625 11.52000, 13.21200 11...  \n",
      "127  MULTIPOLYGON (((114.25650 -4.14000, 114.25650 ...  \n",
      "128  MULTIPOLYGON (((33.70500 -16.20000, 33.70500 -...  \n",
      "129  MULTIPOLYGON (((30.75300 -26.82000, 30.79125 -...  \n",
      "130  MULTIPOLYGON (((17.36700 -29.88000, 17.38800 -...  \n",
      "\n",
      "[131 rows x 3 columns]\n"
     ]
    }
   ],
   "source": [
    "gdf = gdf.drop(columns=['CENTERX','CENTERY','date','LS_Validat','random_id'])\n",
    "print(gdf)"
   ]
  },
  {
   "cell_type": "code",
   "execution_count": 46,
   "metadata": {},
   "outputs": [],
   "source": [
    "gdf.to_file('site.geojson', driver='GeoJSON')"
   ]
  },
  {
   "cell_type": "code",
   "execution_count": null,
   "metadata": {},
   "outputs": [],
   "source": []
  },
  {
   "cell_type": "code",
   "execution_count": 49,
   "metadata": {},
   "outputs": [],
   "source": [
    "response = s3.upload_file('site.geojson',bucket_name,root_folder_name+'site.geojson')\n"
   ]
  },
  {
   "cell_type": "code",
   "execution_count": 30,
   "metadata": {},
   "outputs": [
    {
     "name": "stdout",
     "output_type": "stream",
     "text": [
      "None\n"
     ]
    }
   ],
   "source": [
    "print(response)"
   ]
  },
  {
   "cell_type": "code",
   "execution_count": null,
   "metadata": {},
   "outputs": [],
   "source": []
  }
 ],
 "metadata": {
  "kernelspec": {
   "display_name": "Python 3",
   "language": "python",
   "name": "python3"
  },
  "language_info": {
   "codemirror_mode": {
    "name": "ipython",
    "version": 3
   },
   "file_extension": ".py",
   "mimetype": "text/x-python",
   "name": "python",
   "nbconvert_exporter": "python",
   "pygments_lexer": "ipython3",
   "version": "3.7.4"
  }
 },
 "nbformat": 4,
 "nbformat_minor": 2
}
