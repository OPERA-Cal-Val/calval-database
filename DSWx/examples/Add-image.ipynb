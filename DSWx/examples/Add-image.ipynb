{
 "cells": [
  {
   "cell_type": "code",
   "execution_count": 1,
   "metadata": {},
   "outputs": [],
   "source": [
    "import geopandas as gpd\n",
    "import pandas as pd\n",
    "import boto3"
   ]
  },
  {
   "cell_type": "code",
   "execution_count": 2,
   "metadata": {},
   "outputs": [],
   "source": [
    "bucket_name = 'opera-validation-datasets'\n",
    "root_folder_name = 'calval-database-dev/'"
   ]
  },
  {
   "cell_type": "code",
   "execution_count": 3,
   "metadata": {},
   "outputs": [],
   "source": [
    "image_name = '20210912_034049_22_2421'"
   ]
  },
  {
   "cell_type": "code",
   "execution_count": 4,
   "metadata": {},
   "outputs": [],
   "source": [
    "session = boto3.session.Session(profile_name='saml-pub')\n",
    "s3 = session.resource('s3')"
   ]
  },
  {
   "cell_type": "code",
   "execution_count": 5,
   "metadata": {},
   "outputs": [],
   "source": [
    "collocation = gpd.read_file('Collocation_HLS_Planet_2021.geojson')"
   ]
  },
  {
   "cell_type": "code",
   "execution_count": 6,
   "metadata": {},
   "outputs": [],
   "source": [
    "search = collocation[(collocation.pl_ID == image_name)].sort_values('hls_pl_AOI_intersect',ascending=False)\n",
    "search = search.iloc[[0]]\n"
   ]
  },
  {
   "cell_type": "code",
   "execution_count": 7,
   "metadata": {},
   "outputs": [
    {
     "data": {
      "text/html": [
       "<div>\n",
       "<style scoped>\n",
       "    .dataframe tbody tr th:only-of-type {\n",
       "        vertical-align: middle;\n",
       "    }\n",
       "\n",
       "    .dataframe tbody tr th {\n",
       "        vertical-align: top;\n",
       "    }\n",
       "\n",
       "    .dataframe thead th {\n",
       "        text-align: right;\n",
       "    }\n",
       "</style>\n",
       "<table border=\"1\" class=\"dataframe\">\n",
       "  <thead>\n",
       "    <tr style=\"text-align: right;\">\n",
       "      <th></th>\n",
       "      <th>collocated_dswx</th>\n",
       "      <th>datetime</th>\n",
       "      <th>image_name</th>\n",
       "      <th>cloud_cover</th>\n",
       "      <th>site_coverage</th>\n",
       "      <th>instrument</th>\n",
       "      <th>provider</th>\n",
       "      <th>resolution</th>\n",
       "      <th>timeDelta_days</th>\n",
       "      <th>site_name</th>\n",
       "      <th>geometry</th>\n",
       "    </tr>\n",
       "  </thead>\n",
       "  <tbody>\n",
       "    <tr>\n",
       "      <td>20467</td>\n",
       "      <td>HLS.S30.T47ULQ.2021254T043701.v2.0</td>\n",
       "      <td>2021-09-12T03:40:49</td>\n",
       "      <td>20210912_034049_22_2421</td>\n",
       "      <td>0.0</td>\n",
       "      <td>97.608045</td>\n",
       "      <td>PSB.SD</td>\n",
       "      <td>planetscope</td>\n",
       "      <td>3.0</td>\n",
       "      <td>0.955574</td>\n",
       "      <td>4_8</td>\n",
       "      <td>POLYGON ((97.44674 49.52974, 97.37427 49.34386...</td>\n",
       "    </tr>\n",
       "  </tbody>\n",
       "</table>\n",
       "</div>"
      ],
      "text/plain": [
       "                          collocated_dswx             datetime  \\\n",
       "20467  HLS.S30.T47ULQ.2021254T043701.v2.0  2021-09-12T03:40:49   \n",
       "\n",
       "                    image_name  cloud_cover  site_coverage instrument  \\\n",
       "20467  20210912_034049_22_2421          0.0      97.608045     PSB.SD   \n",
       "\n",
       "          provider  resolution  timeDelta_days site_name  \\\n",
       "20467  planetscope         3.0        0.955574       4_8   \n",
       "\n",
       "                                                geometry  \n",
       "20467  POLYGON ((97.44674 49.52974, 97.37427 49.34386...  "
      ]
     },
     "execution_count": 7,
     "metadata": {},
     "output_type": "execute_result"
    }
   ],
   "source": [
    "new_image = search.drop(columns=['hls_Date','hls_Cloud_Cover','hls_Footprint','hls_AOI_intersect','hls_pl_AOI_intersect','chip_rID'])\n",
    "new_image = new_image.rename(columns = {'hls_ID':'collocated_dswx','pl_Date':'datetime','pl_ID':'image_name','pl_Cloud_Cover':'cloud_cover','pl_AOI_intersect':'site_coverage','chip_ID':'site_name'})\n",
    "new_image.head()"
   ]
  },
  {
   "cell_type": "code",
   "execution_count": 8,
   "metadata": {},
   "outputs": [
    {
     "data": {
      "text/plain": [
       "{'ResponseMetadata': {'RequestId': '5C0RR00YWQ9D1CAM',\n",
       "  'HostId': 'ZcHv/W5PeXb11Lr6xwolpMJqFQLujnCPhClSuXxNQE+zl+2ZFWv5/i9AtYTwcXWYsS6MZDfo3/I=',\n",
       "  'HTTPStatusCode': 200,\n",
       "  'HTTPHeaders': {'x-amz-id-2': 'ZcHv/W5PeXb11Lr6xwolpMJqFQLujnCPhClSuXxNQE+zl+2ZFWv5/i9AtYTwcXWYsS6MZDfo3/I=',\n",
       "   'x-amz-request-id': '5C0RR00YWQ9D1CAM',\n",
       "   'date': 'Tue, 21 Jun 2022 17:15:07 GMT',\n",
       "   'last-modified': 'Tue, 21 Jun 2022 16:53:21 GMT',\n",
       "   'etag': '\"2ea1b5b577635adba680e769e5b4597f\"',\n",
       "   'accept-ranges': 'bytes',\n",
       "   'content-type': 'binary/octet-stream',\n",
       "   'server': 'AmazonS3',\n",
       "   'content-length': '661'},\n",
       "  'RetryAttempts': 0},\n",
       " 'AcceptRanges': 'bytes',\n",
       " 'LastModified': datetime.datetime(2022, 6, 21, 16, 53, 21, tzinfo=tzutc()),\n",
       " 'ContentLength': 661,\n",
       " 'ETag': '\"2ea1b5b577635adba680e769e5b4597f\"',\n",
       " 'ContentType': 'binary/octet-stream',\n",
       " 'Metadata': {},\n",
       " 'Body': <botocore.response.StreamingBody at 0x7f8a30eae310>}"
      ]
     },
     "execution_count": 8,
     "metadata": {},
     "output_type": "execute_result"
    }
   ],
   "source": [
    "obj = s3.Object(bucket_name,root_folder_name+'image.geojson')\n",
    "obj.get()"
   ]
  },
  {
   "cell_type": "code",
   "execution_count": 9,
   "metadata": {},
   "outputs": [
    {
     "data": {
      "text/html": [
       "<div>\n",
       "<style scoped>\n",
       "    .dataframe tbody tr th:only-of-type {\n",
       "        vertical-align: middle;\n",
       "    }\n",
       "\n",
       "    .dataframe tbody tr th {\n",
       "        vertical-align: top;\n",
       "    }\n",
       "\n",
       "    .dataframe thead th {\n",
       "        text-align: right;\n",
       "    }\n",
       "</style>\n",
       "<table border=\"1\" class=\"dataframe\">\n",
       "  <thead>\n",
       "    <tr style=\"text-align: right;\">\n",
       "      <th></th>\n",
       "      <th>cloud_cover</th>\n",
       "      <th>collocated_dswx</th>\n",
       "      <th>datetime</th>\n",
       "      <th>image_name</th>\n",
       "      <th>instrument</th>\n",
       "      <th>provider</th>\n",
       "      <th>resolution</th>\n",
       "      <th>site_coverage</th>\n",
       "      <th>site_name</th>\n",
       "      <th>timeDelta_days</th>\n",
       "      <th>geometry</th>\n",
       "    </tr>\n",
       "  </thead>\n",
       "  <tbody>\n",
       "    <tr>\n",
       "      <td>0</td>\n",
       "      <td>0.0</td>\n",
       "      <td>HLS.S30.T15QYU.2021284T162221.v2.0</td>\n",
       "      <td>2021-10-11T15:54:55</td>\n",
       "      <td>20211011_155455_52_2262</td>\n",
       "      <td>PSB.SD</td>\n",
       "      <td>planetscope</td>\n",
       "      <td>3.0</td>\n",
       "      <td>70.640659</td>\n",
       "      <td>3_10</td>\n",
       "      <td>0.030674</td>\n",
       "      <td>POLYGON ((-90.50851 16.35841, -90.54697 16.176...</td>\n",
       "    </tr>\n",
       "  </tbody>\n",
       "</table>\n",
       "</div>"
      ],
      "text/plain": [
       "   cloud_cover                     collocated_dswx             datetime  \\\n",
       "0          0.0  HLS.S30.T15QYU.2021284T162221.v2.0  2021-10-11T15:54:55   \n",
       "\n",
       "                image_name instrument     provider  resolution  site_coverage  \\\n",
       "0  20211011_155455_52_2262     PSB.SD  planetscope         3.0      70.640659   \n",
       "\n",
       "  site_name  timeDelta_days                                           geometry  \n",
       "0      3_10        0.030674  POLYGON ((-90.50851 16.35841, -90.54697 16.176...  "
      ]
     },
     "execution_count": 9,
     "metadata": {},
     "output_type": "execute_result"
    }
   ],
   "source": [
    "image_data = obj.get()['Body']\n",
    "image_gdf = gpd.read_file(image_data)\n",
    "image_gdf.head()"
   ]
  },
  {
   "cell_type": "code",
   "execution_count": 10,
   "metadata": {},
   "outputs": [
    {
     "name": "stderr",
     "output_type": "stream",
     "text": [
      "/opt/anaconda3/lib/python3.7/site-packages/pandas/core/frame.py:7123: FutureWarning: Sorting because non-concatenation axis is not aligned. A future version\n",
      "of pandas will change to not sort by default.\n",
      "\n",
      "To accept the future behavior, pass 'sort=False'.\n",
      "\n",
      "To retain the current behavior and silence the warning, pass 'sort=True'.\n",
      "\n",
      "  sort=sort,\n"
     ]
    },
    {
     "data": {
      "text/html": [
       "<div>\n",
       "<style scoped>\n",
       "    .dataframe tbody tr th:only-of-type {\n",
       "        vertical-align: middle;\n",
       "    }\n",
       "\n",
       "    .dataframe tbody tr th {\n",
       "        vertical-align: top;\n",
       "    }\n",
       "\n",
       "    .dataframe thead th {\n",
       "        text-align: right;\n",
       "    }\n",
       "</style>\n",
       "<table border=\"1\" class=\"dataframe\">\n",
       "  <thead>\n",
       "    <tr style=\"text-align: right;\">\n",
       "      <th></th>\n",
       "      <th>cloud_cover</th>\n",
       "      <th>collocated_dswx</th>\n",
       "      <th>datetime</th>\n",
       "      <th>geometry</th>\n",
       "      <th>image_name</th>\n",
       "      <th>instrument</th>\n",
       "      <th>provider</th>\n",
       "      <th>resolution</th>\n",
       "      <th>site_coverage</th>\n",
       "      <th>site_name</th>\n",
       "      <th>timeDelta_days</th>\n",
       "    </tr>\n",
       "  </thead>\n",
       "  <tbody>\n",
       "    <tr>\n",
       "      <td>0</td>\n",
       "      <td>0.0</td>\n",
       "      <td>HLS.S30.T15QYU.2021284T162221.v2.0</td>\n",
       "      <td>2021-10-11T15:54:55</td>\n",
       "      <td>POLYGON ((-90.50851 16.35841, -90.54697 16.176...</td>\n",
       "      <td>20211011_155455_52_2262</td>\n",
       "      <td>PSB.SD</td>\n",
       "      <td>planetscope</td>\n",
       "      <td>3.0</td>\n",
       "      <td>70.640659</td>\n",
       "      <td>3_10</td>\n",
       "      <td>0.030674</td>\n",
       "    </tr>\n",
       "    <tr>\n",
       "      <td>1</td>\n",
       "      <td>0.0</td>\n",
       "      <td>HLS.S30.T47ULQ.2021254T043701.v2.0</td>\n",
       "      <td>2021-09-12T03:40:49</td>\n",
       "      <td>POLYGON ((97.44674 49.52974, 97.37427 49.34386...</td>\n",
       "      <td>20210912_034049_22_2421</td>\n",
       "      <td>PSB.SD</td>\n",
       "      <td>planetscope</td>\n",
       "      <td>3.0</td>\n",
       "      <td>97.608045</td>\n",
       "      <td>4_8</td>\n",
       "      <td>0.955574</td>\n",
       "    </tr>\n",
       "  </tbody>\n",
       "</table>\n",
       "</div>"
      ],
      "text/plain": [
       "   cloud_cover                     collocated_dswx             datetime  \\\n",
       "0          0.0  HLS.S30.T15QYU.2021284T162221.v2.0  2021-10-11T15:54:55   \n",
       "1          0.0  HLS.S30.T47ULQ.2021254T043701.v2.0  2021-09-12T03:40:49   \n",
       "\n",
       "                                            geometry               image_name  \\\n",
       "0  POLYGON ((-90.50851 16.35841, -90.54697 16.176...  20211011_155455_52_2262   \n",
       "1  POLYGON ((97.44674 49.52974, 97.37427 49.34386...  20210912_034049_22_2421   \n",
       "\n",
       "  instrument     provider  resolution  site_coverage site_name  timeDelta_days  \n",
       "0     PSB.SD  planetscope         3.0      70.640659      3_10        0.030674  \n",
       "1     PSB.SD  planetscope         3.0      97.608045       4_8        0.955574  "
      ]
     },
     "execution_count": 10,
     "metadata": {},
     "output_type": "execute_result"
    }
   ],
   "source": [
    "image_gdf_upd = image_gdf.append(new_image,ignore_index=True)\n",
    "image_gdf_upd.head()"
   ]
  },
  {
   "cell_type": "code",
   "execution_count": 11,
   "metadata": {},
   "outputs": [
    {
     "data": {
      "text/plain": [
       "{'ResponseMetadata': {'RequestId': '82HJPQBCNKAG67RX',\n",
       "  'HostId': 'NrvJNiZ6BeXO+k9p7eabRtjC4tdA7WaHDhs2eK0pXn787b7vVAywDhsGbrDaZi6E+NBLZ9VpZjs=',\n",
       "  'HTTPStatusCode': 200,\n",
       "  'HTTPHeaders': {'x-amz-id-2': 'NrvJNiZ6BeXO+k9p7eabRtjC4tdA7WaHDhs2eK0pXn787b7vVAywDhsGbrDaZi6E+NBLZ9VpZjs=',\n",
       "   'x-amz-request-id': '82HJPQBCNKAG67RX',\n",
       "   'date': 'Tue, 21 Jun 2022 17:15:42 GMT',\n",
       "   'etag': '\"4dde04f02a08554d35a07200496162db\"',\n",
       "   'server': 'AmazonS3',\n",
       "   'content-length': '0'},\n",
       "  'RetryAttempts': 0},\n",
       " 'ETag': '\"4dde04f02a08554d35a07200496162db\"'}"
      ]
     },
     "execution_count": 11,
     "metadata": {},
     "output_type": "execute_result"
    }
   ],
   "source": [
    "image_upd_bytes = bytes(image_gdf_upd.to_json(drop_id=True).encode('UTF-8'))\n",
    "s3object = s3.Object(bucket_name,root_folder_name+'image.geojson')\n",
    "s3object.put(Body=image_upd_bytes)"
   ]
  },
  {
   "cell_type": "code",
   "execution_count": 12,
   "metadata": {},
   "outputs": [
    {
     "data": {
      "text/html": [
       "<div>\n",
       "<style scoped>\n",
       "    .dataframe tbody tr th:only-of-type {\n",
       "        vertical-align: middle;\n",
       "    }\n",
       "\n",
       "    .dataframe tbody tr th {\n",
       "        vertical-align: top;\n",
       "    }\n",
       "\n",
       "    .dataframe thead th {\n",
       "        text-align: right;\n",
       "    }\n",
       "</style>\n",
       "<table border=\"1\" class=\"dataframe\">\n",
       "  <thead>\n",
       "    <tr style=\"text-align: right;\">\n",
       "      <th></th>\n",
       "      <th>cloud_cover</th>\n",
       "      <th>collocated_dswx</th>\n",
       "      <th>datetime</th>\n",
       "      <th>image_name</th>\n",
       "      <th>instrument</th>\n",
       "      <th>provider</th>\n",
       "      <th>resolution</th>\n",
       "      <th>site_coverage</th>\n",
       "      <th>site_name</th>\n",
       "      <th>timeDelta_days</th>\n",
       "      <th>geometry</th>\n",
       "    </tr>\n",
       "  </thead>\n",
       "  <tbody>\n",
       "    <tr>\n",
       "      <td>0</td>\n",
       "      <td>0.0</td>\n",
       "      <td>HLS.S30.T15QYU.2021284T162221.v2.0</td>\n",
       "      <td>2021-10-11T15:54:55</td>\n",
       "      <td>20211011_155455_52_2262</td>\n",
       "      <td>PSB.SD</td>\n",
       "      <td>planetscope</td>\n",
       "      <td>3.0</td>\n",
       "      <td>70.640659</td>\n",
       "      <td>3_10</td>\n",
       "      <td>0.030674</td>\n",
       "      <td>POLYGON ((-90.50851 16.35841, -90.54697 16.176...</td>\n",
       "    </tr>\n",
       "    <tr>\n",
       "      <td>1</td>\n",
       "      <td>0.0</td>\n",
       "      <td>HLS.S30.T47ULQ.2021254T043701.v2.0</td>\n",
       "      <td>2021-09-12T03:40:49</td>\n",
       "      <td>20210912_034049_22_2421</td>\n",
       "      <td>PSB.SD</td>\n",
       "      <td>planetscope</td>\n",
       "      <td>3.0</td>\n",
       "      <td>97.608045</td>\n",
       "      <td>4_8</td>\n",
       "      <td>0.955574</td>\n",
       "      <td>POLYGON ((97.44674 49.52974, 97.37427 49.34386...</td>\n",
       "    </tr>\n",
       "  </tbody>\n",
       "</table>\n",
       "</div>"
      ],
      "text/plain": [
       "   cloud_cover                     collocated_dswx             datetime  \\\n",
       "0          0.0  HLS.S30.T15QYU.2021284T162221.v2.0  2021-10-11T15:54:55   \n",
       "1          0.0  HLS.S30.T47ULQ.2021254T043701.v2.0  2021-09-12T03:40:49   \n",
       "\n",
       "                image_name instrument     provider  resolution  site_coverage  \\\n",
       "0  20211011_155455_52_2262     PSB.SD  planetscope         3.0      70.640659   \n",
       "1  20210912_034049_22_2421     PSB.SD  planetscope         3.0      97.608045   \n",
       "\n",
       "  site_name  timeDelta_days                                           geometry  \n",
       "0      3_10        0.030674  POLYGON ((-90.50851 16.35841, -90.54697 16.176...  \n",
       "1       4_8        0.955574  POLYGON ((97.44674 49.52974, 97.37427 49.34386...  "
      ]
     },
     "execution_count": 12,
     "metadata": {},
     "output_type": "execute_result"
    }
   ],
   "source": [
    "image_data = obj.get()['Body']\n",
    "image_gdf = gpd.read_file(image_data)\n",
    "image_gdf.head()"
   ]
  },
  {
   "cell_type": "code",
   "execution_count": null,
   "metadata": {},
   "outputs": [],
   "source": []
  },
  {
   "cell_type": "code",
   "execution_count": null,
   "metadata": {},
   "outputs": [],
   "source": []
  }
 ],
 "metadata": {
  "kernelspec": {
   "display_name": "Python 3",
   "language": "python",
   "name": "python3"
  },
  "language_info": {
   "codemirror_mode": {
    "name": "ipython",
    "version": 3
   },
   "file_extension": ".py",
   "mimetype": "text/x-python",
   "name": "python",
   "nbconvert_exporter": "python",
   "pygments_lexer": "ipython3",
   "version": "3.7.4"
  }
 },
 "nbformat": 4,
 "nbformat_minor": 2
}
