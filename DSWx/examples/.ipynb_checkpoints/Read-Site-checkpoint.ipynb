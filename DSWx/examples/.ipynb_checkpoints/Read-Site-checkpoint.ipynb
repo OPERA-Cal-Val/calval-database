{
 "cells": [
  {
   "cell_type": "code",
   "execution_count": 10,
   "metadata": {},
   "outputs": [],
   "source": [
    "import geopandas as gpd\n",
    "import boto3"
   ]
  },
  {
   "cell_type": "code",
   "execution_count": 11,
   "metadata": {},
   "outputs": [],
   "source": [
    "session = boto3.session.Session(profile_name='saml-pub')\n",
    "s3 = session.client('s3')"
   ]
  },
  {
   "cell_type": "code",
   "execution_count": 12,
   "metadata": {},
   "outputs": [],
   "source": [
    "bucket_name = 'opera-validation-datasets'\n",
    "root_folder_name = 'calval-database-dev/'"
   ]
  },
  {
   "cell_type": "code",
   "execution_count": 13,
   "metadata": {},
   "outputs": [],
   "source": [
    "response = s3.download_file(bucket_name,root_folder_name+'site.geojson','LOCAL_site.geojson')"
   ]
  },
  {
   "cell_type": "code",
   "execution_count": 14,
   "metadata": {},
   "outputs": [
    {
     "data": {
      "text/html": [
       "<div>\n",
       "<style scoped>\n",
       "    .dataframe tbody tr th:only-of-type {\n",
       "        vertical-align: middle;\n",
       "    }\n",
       "\n",
       "    .dataframe tbody tr th {\n",
       "        vertical-align: top;\n",
       "    }\n",
       "\n",
       "    .dataframe thead th {\n",
       "        text-align: right;\n",
       "    }\n",
       "</style>\n",
       "<table border=\"1\" class=\"dataframe\">\n",
       "  <thead>\n",
       "    <tr style=\"text-align: right;\">\n",
       "      <th></th>\n",
       "      <th>water_content</th>\n",
       "      <th>site_name</th>\n",
       "      <th>geometry</th>\n",
       "    </tr>\n",
       "  </thead>\n",
       "  <tbody>\n",
       "    <tr>\n",
       "      <td>0</td>\n",
       "      <td>3</td>\n",
       "      <td>3_38</td>\n",
       "      <td>MULTIPOLYGON (((-159.89875 69.30000, -159.6590...</td>\n",
       "    </tr>\n",
       "    <tr>\n",
       "      <td>1</td>\n",
       "      <td>4</td>\n",
       "      <td>4_27</td>\n",
       "      <td>MULTIPOLYGON (((-113.21200 67.14000, -113.0985...</td>\n",
       "    </tr>\n",
       "    <tr>\n",
       "      <td>2</td>\n",
       "      <td>4</td>\n",
       "      <td>4_43</td>\n",
       "      <td>MULTIPOLYGON (((17.61000 66.06000, 17.91700 66...</td>\n",
       "    </tr>\n",
       "    <tr>\n",
       "      <td>3</td>\n",
       "      <td>3</td>\n",
       "      <td>3_1</td>\n",
       "      <td>MULTIPOLYGON (((59.86900 65.88000, 59.89200 65...</td>\n",
       "    </tr>\n",
       "    <tr>\n",
       "      <td>4</td>\n",
       "      <td>4</td>\n",
       "      <td>4_34</td>\n",
       "      <td>MULTIPOLYGON (((-96.79875 62.82000, -96.57700 ...</td>\n",
       "    </tr>\n",
       "    <tr>\n",
       "      <td>5</td>\n",
       "      <td>3</td>\n",
       "      <td>3_30</td>\n",
       "      <td>MULTIPOLYGON (((130.96225 61.56000, 131.29600 ...</td>\n",
       "    </tr>\n",
       "    <tr>\n",
       "      <td>6</td>\n",
       "      <td>4</td>\n",
       "      <td>4_26</td>\n",
       "      <td>MULTIPOLYGON (((-76.23275 60.84000, -75.91725 ...</td>\n",
       "    </tr>\n",
       "    <tr>\n",
       "      <td>7</td>\n",
       "      <td>2</td>\n",
       "      <td>2_24</td>\n",
       "      <td>MULTIPOLYGON (((102.03050 59.94000, 102.16800 ...</td>\n",
       "    </tr>\n",
       "    <tr>\n",
       "      <td>8</td>\n",
       "      <td>3</td>\n",
       "      <td>3_25</td>\n",
       "      <td>MULTIPOLYGON (((31.92750 59.76000, 32.12300 59...</td>\n",
       "    </tr>\n",
       "    <tr>\n",
       "      <td>9</td>\n",
       "      <td>3</td>\n",
       "      <td>3_5</td>\n",
       "      <td>MULTIPOLYGON (((-119.69100 59.58000, -119.6670...</td>\n",
       "    </tr>\n",
       "    <tr>\n",
       "      <td>10</td>\n",
       "      <td>4</td>\n",
       "      <td>4_20</td>\n",
       "      <td>MULTIPOLYGON (((-105.82275 59.40000, -105.6510...</td>\n",
       "    </tr>\n",
       "    <tr>\n",
       "      <td>11</td>\n",
       "      <td>4</td>\n",
       "      <td>4_9</td>\n",
       "      <td>MULTIPOLYGON (((8.25000 58.68000, 8.55000 58.6...</td>\n",
       "    </tr>\n",
       "    <tr>\n",
       "      <td>12</td>\n",
       "      <td>3</td>\n",
       "      <td>3_42</td>\n",
       "      <td>MULTIPOLYGON (((-123.03675 57.96000, -123.0050...</td>\n",
       "    </tr>\n",
       "    <tr>\n",
       "      <td>13</td>\n",
       "      <td>3</td>\n",
       "      <td>3_19</td>\n",
       "      <td>MULTIPOLYGON (((43.58250 57.78000, 43.68850 57...</td>\n",
       "    </tr>\n",
       "    <tr>\n",
       "      <td>14</td>\n",
       "      <td>3</td>\n",
       "      <td>3_2</td>\n",
       "      <td>MULTIPOLYGON (((107.00100 57.24000, 107.17250 ...</td>\n",
       "    </tr>\n",
       "  </tbody>\n",
       "</table>\n",
       "</div>"
      ],
      "text/plain": [
       "    water_content site_name                                           geometry\n",
       "0               3      3_38  MULTIPOLYGON (((-159.89875 69.30000, -159.6590...\n",
       "1               4      4_27  MULTIPOLYGON (((-113.21200 67.14000, -113.0985...\n",
       "2               4      4_43  MULTIPOLYGON (((17.61000 66.06000, 17.91700 66...\n",
       "3               3       3_1  MULTIPOLYGON (((59.86900 65.88000, 59.89200 65...\n",
       "4               4      4_34  MULTIPOLYGON (((-96.79875 62.82000, -96.57700 ...\n",
       "5               3      3_30  MULTIPOLYGON (((130.96225 61.56000, 131.29600 ...\n",
       "6               4      4_26  MULTIPOLYGON (((-76.23275 60.84000, -75.91725 ...\n",
       "7               2      2_24  MULTIPOLYGON (((102.03050 59.94000, 102.16800 ...\n",
       "8               3      3_25  MULTIPOLYGON (((31.92750 59.76000, 32.12300 59...\n",
       "9               3       3_5  MULTIPOLYGON (((-119.69100 59.58000, -119.6670...\n",
       "10              4      4_20  MULTIPOLYGON (((-105.82275 59.40000, -105.6510...\n",
       "11              4       4_9  MULTIPOLYGON (((8.25000 58.68000, 8.55000 58.6...\n",
       "12              3      3_42  MULTIPOLYGON (((-123.03675 57.96000, -123.0050...\n",
       "13              3      3_19  MULTIPOLYGON (((43.58250 57.78000, 43.68850 57...\n",
       "14              3       3_2  MULTIPOLYGON (((107.00100 57.24000, 107.17250 ..."
      ]
     },
     "execution_count": 14,
     "metadata": {},
     "output_type": "execute_result"
    }
   ],
   "source": [
    "site = gpd.read_file('LOCAL_site.geojson')\n",
    "site.head(15)"
   ]
  },
  {
   "cell_type": "code",
   "execution_count": null,
   "metadata": {},
   "outputs": [],
   "source": []
  },
  {
   "cell_type": "code",
   "execution_count": null,
   "metadata": {},
   "outputs": [],
   "source": []
  }
 ],
 "metadata": {
  "kernelspec": {
   "display_name": "Python 3",
   "language": "python",
   "name": "python3"
  },
  "language_info": {
   "codemirror_mode": {
    "name": "ipython",
    "version": 3
   },
   "file_extension": ".py",
   "mimetype": "text/x-python",
   "name": "python",
   "nbconvert_exporter": "python",
   "pygments_lexer": "ipython3",
   "version": "3.7.4"
  }
 },
 "nbformat": 4,
 "nbformat_minor": 2
}
