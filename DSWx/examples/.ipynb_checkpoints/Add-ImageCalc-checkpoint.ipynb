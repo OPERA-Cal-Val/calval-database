{
 "cells": [
  {
   "cell_type": "code",
   "execution_count": 1,
   "metadata": {},
   "outputs": [],
   "source": [
    "import geopandas as gpd\n",
    "import pandas as pd\n",
    "import boto3"
   ]
  },
  {
   "cell_type": "code",
   "execution_count": 2,
   "metadata": {},
   "outputs": [],
   "source": [
    "bucket_name = 'opera-validation-datasets'\n",
    "root_folder_name = 'calval-database-dev/'\n",
    "upload_files_path = './upload/'"
   ]
  },
  {
   "cell_type": "code",
   "execution_count": 3,
   "metadata": {},
   "outputs": [],
   "source": [
    "filename = '20211011_155455_52_2262_3B_AnalyticMS_SR_8b_clip_Supervised_MD_reclass.tif'\n",
    "logfile = None\n",
    "training_data = None\n",
    "source_image_name = '20211011_155455_52_2262'\n",
    "calc_type = 'Reclassification'\n",
    "final = True\n",
    "fitness = 0\n",
    "public = True"
   ]
  },
  {
   "cell_type": "code",
   "execution_count": 4,
   "metadata": {},
   "outputs": [],
   "source": [
    "session = boto3.session.Session(profile_name='saml-pub')\n",
    "s3 = session.resource('s3')\n",
    "s3_client = session.client('s3')"
   ]
  },
  {
   "cell_type": "code",
   "execution_count": 5,
   "metadata": {},
   "outputs": [],
   "source": [
    "collocation = gpd.read_file('Collocation_HLS_Planet_2021.geojson')\n",
    "search = collocation[(collocation.pl_ID == source_image_name)].sort_values('hls_pl_AOI_intersect',ascending=False)\n",
    "search = search.iloc[[0]]\n",
    "site = search.chip_ID.iloc[0]\n",
    "new_image_calc = search[['pl_ID','geometry']].rename(columns={'pl_ID':'image_name'})\n"
   ]
  },
  {
   "cell_type": "code",
   "execution_count": 6,
   "metadata": {},
   "outputs": [],
   "source": [
    "new_image_calc['image_calc_name'] = filename[:-4]\n",
    "new_image_calc['calc_type'] = calc_type\n",
    "new_image_calc['final'] = final\n",
    "new_image_calc['fitness'] = fitness\n",
    "new_image_calc['public'] = public\n"
   ]
  },
  {
   "cell_type": "code",
   "execution_count": 7,
   "metadata": {},
   "outputs": [],
   "source": [
    "s3_folder_path = root_folder_name+'data/'+site+'/'+source_image_name+'/'+filename[:-4]+'/'\n",
    "s3_link_image = s3_folder_path+filename\n",
    "response = s3_client.upload_file(upload_files_path+filename,bucket_name,s3_link_image)\n",
    "if logfile != None:\n",
    "    s3_link_logfile = s3_folder_path+logfile\n",
    "    response = s3_client.upload_file(upload_files_path+logfile,bucket_name,s3_link_logfile)\n",
    "else:\n",
    "    s3_link_logfile = None\n",
    "if training_data != None:\n",
    "    s3_link_training = s3_folder_path+training_data\n",
    "    response = s3_client.upload_file(upload_files_path+training_data,bucket_name,s3_link_training)\n",
    "else:\n",
    "    s3_link_training = None"
   ]
  },
  {
   "cell_type": "code",
   "execution_count": 8,
   "metadata": {},
   "outputs": [],
   "source": [
    "new_image_calc['s3_link_image_calc'] = s3_link_image\n",
    "new_image_calc['s3_link_logfile'] = s3_link_logfile\n",
    "new_image_calc['s3_link_training'] = s3_link_training"
   ]
  },
  {
   "cell_type": "code",
   "execution_count": 9,
   "metadata": {},
   "outputs": [
    {
     "data": {
      "text/html": [
       "<div>\n",
       "<style scoped>\n",
       "    .dataframe tbody tr th:only-of-type {\n",
       "        vertical-align: middle;\n",
       "    }\n",
       "\n",
       "    .dataframe tbody tr th {\n",
       "        vertical-align: top;\n",
       "    }\n",
       "\n",
       "    .dataframe thead th {\n",
       "        text-align: right;\n",
       "    }\n",
       "</style>\n",
       "<table border=\"1\" class=\"dataframe\">\n",
       "  <thead>\n",
       "    <tr style=\"text-align: right;\">\n",
       "      <th></th>\n",
       "      <th>calc_type</th>\n",
       "      <th>final</th>\n",
       "      <th>fitness</th>\n",
       "      <th>image_calc_name</th>\n",
       "      <th>image_name</th>\n",
       "      <th>public</th>\n",
       "      <th>s3_link_image_calc</th>\n",
       "      <th>s3_link_logfile</th>\n",
       "      <th>s3_link_training</th>\n",
       "      <th>geometry</th>\n",
       "    </tr>\n",
       "  </thead>\n",
       "  <tbody>\n",
       "    <tr>\n",
       "      <td>0</td>\n",
       "      <td>Classification</td>\n",
       "      <td>False</td>\n",
       "      <td>0</td>\n",
       "      <td>20211011_155455_52_2262_3B_AnalyticMS_SR_8b_cl...</td>\n",
       "      <td>20211011_155455_52_2262</td>\n",
       "      <td>True</td>\n",
       "      <td>calval-database-dev/data/3_10/20211011_155455_...</td>\n",
       "      <td>calval-database-dev/data/3_10/20211011_155455_...</td>\n",
       "      <td>calval-database-dev/data/3_10/20211011_155455_...</td>\n",
       "      <td>POLYGON ((-90.50851 16.35841, -90.54697 16.176...</td>\n",
       "    </tr>\n",
       "  </tbody>\n",
       "</table>\n",
       "</div>"
      ],
      "text/plain": [
       "        calc_type  final  fitness  \\\n",
       "0  Classification  False        0   \n",
       "\n",
       "                                     image_calc_name               image_name  \\\n",
       "0  20211011_155455_52_2262_3B_AnalyticMS_SR_8b_cl...  20211011_155455_52_2262   \n",
       "\n",
       "   public                                 s3_link_image_calc  \\\n",
       "0    True  calval-database-dev/data/3_10/20211011_155455_...   \n",
       "\n",
       "                                     s3_link_logfile  \\\n",
       "0  calval-database-dev/data/3_10/20211011_155455_...   \n",
       "\n",
       "                                    s3_link_training  \\\n",
       "0  calval-database-dev/data/3_10/20211011_155455_...   \n",
       "\n",
       "                                            geometry  \n",
       "0  POLYGON ((-90.50851 16.35841, -90.54697 16.176...  "
      ]
     },
     "execution_count": 9,
     "metadata": {},
     "output_type": "execute_result"
    }
   ],
   "source": [
    "obj = s3.Object(bucket_name,root_folder_name+'image_calc.geojson')\n",
    "image_calc_data = obj.get()['Body']\n",
    "image_calc_gdf = gpd.read_file(image_calc_data)\n",
    "image_calc_gdf.head()"
   ]
  },
  {
   "cell_type": "code",
   "execution_count": 10,
   "metadata": {},
   "outputs": [
    {
     "name": "stderr",
     "output_type": "stream",
     "text": [
      "/opt/anaconda3/lib/python3.7/site-packages/pandas/core/frame.py:7123: FutureWarning: Sorting because non-concatenation axis is not aligned. A future version\n",
      "of pandas will change to not sort by default.\n",
      "\n",
      "To accept the future behavior, pass 'sort=False'.\n",
      "\n",
      "To retain the current behavior and silence the warning, pass 'sort=True'.\n",
      "\n",
      "  sort=sort,\n"
     ]
    },
    {
     "data": {
      "text/html": [
       "<div>\n",
       "<style scoped>\n",
       "    .dataframe tbody tr th:only-of-type {\n",
       "        vertical-align: middle;\n",
       "    }\n",
       "\n",
       "    .dataframe tbody tr th {\n",
       "        vertical-align: top;\n",
       "    }\n",
       "\n",
       "    .dataframe thead th {\n",
       "        text-align: right;\n",
       "    }\n",
       "</style>\n",
       "<table border=\"1\" class=\"dataframe\">\n",
       "  <thead>\n",
       "    <tr style=\"text-align: right;\">\n",
       "      <th></th>\n",
       "      <th>calc_type</th>\n",
       "      <th>final</th>\n",
       "      <th>fitness</th>\n",
       "      <th>geometry</th>\n",
       "      <th>image_calc_name</th>\n",
       "      <th>image_name</th>\n",
       "      <th>public</th>\n",
       "      <th>s3_link_image_calc</th>\n",
       "      <th>s3_link_logfile</th>\n",
       "      <th>s3_link_training</th>\n",
       "    </tr>\n",
       "  </thead>\n",
       "  <tbody>\n",
       "    <tr>\n",
       "      <td>0</td>\n",
       "      <td>Classification</td>\n",
       "      <td>False</td>\n",
       "      <td>0</td>\n",
       "      <td>POLYGON ((-90.50851 16.35841, -90.54697 16.176...</td>\n",
       "      <td>20211011_155455_52_2262_3B_AnalyticMS_SR_8b_cl...</td>\n",
       "      <td>20211011_155455_52_2262</td>\n",
       "      <td>True</td>\n",
       "      <td>calval-database-dev/data/3_10/20211011_155455_...</td>\n",
       "      <td>calval-database-dev/data/3_10/20211011_155455_...</td>\n",
       "      <td>calval-database-dev/data/3_10/20211011_155455_...</td>\n",
       "    </tr>\n",
       "    <tr>\n",
       "      <td>1</td>\n",
       "      <td>Reclassification</td>\n",
       "      <td>True</td>\n",
       "      <td>0</td>\n",
       "      <td>POLYGON ((-90.50851 16.35841, -90.54697 16.176...</td>\n",
       "      <td>20211011_155455_52_2262_3B_AnalyticMS_SR_8b_cl...</td>\n",
       "      <td>20211011_155455_52_2262</td>\n",
       "      <td>True</td>\n",
       "      <td>calval-database-dev/data/3_10/20211011_155455_...</td>\n",
       "      <td>None</td>\n",
       "      <td>None</td>\n",
       "    </tr>\n",
       "  </tbody>\n",
       "</table>\n",
       "</div>"
      ],
      "text/plain": [
       "          calc_type  final  fitness  \\\n",
       "0    Classification  False        0   \n",
       "1  Reclassification   True        0   \n",
       "\n",
       "                                            geometry  \\\n",
       "0  POLYGON ((-90.50851 16.35841, -90.54697 16.176...   \n",
       "1  POLYGON ((-90.50851 16.35841, -90.54697 16.176...   \n",
       "\n",
       "                                     image_calc_name               image_name  \\\n",
       "0  20211011_155455_52_2262_3B_AnalyticMS_SR_8b_cl...  20211011_155455_52_2262   \n",
       "1  20211011_155455_52_2262_3B_AnalyticMS_SR_8b_cl...  20211011_155455_52_2262   \n",
       "\n",
       "   public                                 s3_link_image_calc  \\\n",
       "0    True  calval-database-dev/data/3_10/20211011_155455_...   \n",
       "1    True  calval-database-dev/data/3_10/20211011_155455_...   \n",
       "\n",
       "                                     s3_link_logfile  \\\n",
       "0  calval-database-dev/data/3_10/20211011_155455_...   \n",
       "1                                               None   \n",
       "\n",
       "                                    s3_link_training  \n",
       "0  calval-database-dev/data/3_10/20211011_155455_...  \n",
       "1                                               None  "
      ]
     },
     "execution_count": 10,
     "metadata": {},
     "output_type": "execute_result"
    }
   ],
   "source": [
    "image_calc_upd_gdf = image_calc_gdf.append(new_image_calc,ignore_index=True)\n",
    "image_calc_upd_gdf.head()"
   ]
  },
  {
   "cell_type": "code",
   "execution_count": 11,
   "metadata": {},
   "outputs": [
    {
     "data": {
      "text/plain": [
       "{'ResponseMetadata': {'RequestId': 'VXETV2V0H4X5596R',\n",
       "  'HostId': 'vqQqLTRGImP/L+GlfgfxhDH5gDxa4H+XFTpDZX1xEO6uYBYYBg3wpgrpmE+4iC2Z4ZC6bpPZ/NY=',\n",
       "  'HTTPStatusCode': 200,\n",
       "  'HTTPHeaders': {'x-amz-id-2': 'vqQqLTRGImP/L+GlfgfxhDH5gDxa4H+XFTpDZX1xEO6uYBYYBg3wpgrpmE+4iC2Z4ZC6bpPZ/NY=',\n",
       "   'x-amz-request-id': 'VXETV2V0H4X5596R',\n",
       "   'date': 'Tue, 21 Jun 2022 17:21:31 GMT',\n",
       "   'etag': '\"50e9b1c0255494bca300b671cb69963b\"',\n",
       "   'server': 'AmazonS3',\n",
       "   'content-length': '0'},\n",
       "  'RetryAttempts': 0},\n",
       " 'ETag': '\"50e9b1c0255494bca300b671cb69963b\"'}"
      ]
     },
     "execution_count": 11,
     "metadata": {},
     "output_type": "execute_result"
    }
   ],
   "source": [
    "image_calc_upd_bytes = bytes(image_calc_upd_gdf.to_json(drop_id=True).encode('UTF-8'))\n",
    "s3object = s3.Object(bucket_name,root_folder_name+'image_calc.geojson')\n",
    "s3object.put(Body=image_calc_upd_bytes)"
   ]
  },
  {
   "cell_type": "code",
   "execution_count": 12,
   "metadata": {},
   "outputs": [
    {
     "data": {
      "text/html": [
       "<div>\n",
       "<style scoped>\n",
       "    .dataframe tbody tr th:only-of-type {\n",
       "        vertical-align: middle;\n",
       "    }\n",
       "\n",
       "    .dataframe tbody tr th {\n",
       "        vertical-align: top;\n",
       "    }\n",
       "\n",
       "    .dataframe thead th {\n",
       "        text-align: right;\n",
       "    }\n",
       "</style>\n",
       "<table border=\"1\" class=\"dataframe\">\n",
       "  <thead>\n",
       "    <tr style=\"text-align: right;\">\n",
       "      <th></th>\n",
       "      <th>calc_type</th>\n",
       "      <th>final</th>\n",
       "      <th>fitness</th>\n",
       "      <th>image_calc_name</th>\n",
       "      <th>image_name</th>\n",
       "      <th>public</th>\n",
       "      <th>s3_link_image_calc</th>\n",
       "      <th>s3_link_logfile</th>\n",
       "      <th>s3_link_training</th>\n",
       "      <th>geometry</th>\n",
       "    </tr>\n",
       "  </thead>\n",
       "  <tbody>\n",
       "    <tr>\n",
       "      <td>0</td>\n",
       "      <td>Classification</td>\n",
       "      <td>False</td>\n",
       "      <td>0</td>\n",
       "      <td>20211011_155455_52_2262_3B_AnalyticMS_SR_8b_cl...</td>\n",
       "      <td>20211011_155455_52_2262</td>\n",
       "      <td>True</td>\n",
       "      <td>calval-database-dev/data/3_10/20211011_155455_...</td>\n",
       "      <td>calval-database-dev/data/3_10/20211011_155455_...</td>\n",
       "      <td>calval-database-dev/data/3_10/20211011_155455_...</td>\n",
       "      <td>POLYGON ((-90.50851 16.35841, -90.54697 16.176...</td>\n",
       "    </tr>\n",
       "    <tr>\n",
       "      <td>1</td>\n",
       "      <td>Reclassification</td>\n",
       "      <td>True</td>\n",
       "      <td>0</td>\n",
       "      <td>20211011_155455_52_2262_3B_AnalyticMS_SR_8b_cl...</td>\n",
       "      <td>20211011_155455_52_2262</td>\n",
       "      <td>True</td>\n",
       "      <td>calval-database-dev/data/3_10/20211011_155455_...</td>\n",
       "      <td>None</td>\n",
       "      <td>None</td>\n",
       "      <td>POLYGON ((-90.50851 16.35841, -90.54697 16.176...</td>\n",
       "    </tr>\n",
       "  </tbody>\n",
       "</table>\n",
       "</div>"
      ],
      "text/plain": [
       "          calc_type  final  fitness  \\\n",
       "0    Classification  False        0   \n",
       "1  Reclassification   True        0   \n",
       "\n",
       "                                     image_calc_name               image_name  \\\n",
       "0  20211011_155455_52_2262_3B_AnalyticMS_SR_8b_cl...  20211011_155455_52_2262   \n",
       "1  20211011_155455_52_2262_3B_AnalyticMS_SR_8b_cl...  20211011_155455_52_2262   \n",
       "\n",
       "   public                                 s3_link_image_calc  \\\n",
       "0    True  calval-database-dev/data/3_10/20211011_155455_...   \n",
       "1    True  calval-database-dev/data/3_10/20211011_155455_...   \n",
       "\n",
       "                                     s3_link_logfile  \\\n",
       "0  calval-database-dev/data/3_10/20211011_155455_...   \n",
       "1                                               None   \n",
       "\n",
       "                                    s3_link_training  \\\n",
       "0  calval-database-dev/data/3_10/20211011_155455_...   \n",
       "1                                               None   \n",
       "\n",
       "                                            geometry  \n",
       "0  POLYGON ((-90.50851 16.35841, -90.54697 16.176...  \n",
       "1  POLYGON ((-90.50851 16.35841, -90.54697 16.176...  "
      ]
     },
     "execution_count": 12,
     "metadata": {},
     "output_type": "execute_result"
    }
   ],
   "source": [
    "image_calc_data = obj.get()['Body']\n",
    "image_calc_gdf = gpd.read_file(image_calc_data)\n",
    "image_calc_gdf.head()"
   ]
  },
  {
   "cell_type": "code",
   "execution_count": null,
   "metadata": {},
   "outputs": [],
   "source": []
  }
 ],
 "metadata": {
  "kernelspec": {
   "display_name": "Python 3",
   "language": "python",
   "name": "python3"
  },
  "language_info": {
   "codemirror_mode": {
    "name": "ipython",
    "version": 3
   },
   "file_extension": ".py",
   "mimetype": "text/x-python",
   "name": "python",
   "nbconvert_exporter": "python",
   "pygments_lexer": "ipython3",
   "version": "3.7.4"
  }
 },
 "nbformat": 4,
 "nbformat_minor": 2
}
