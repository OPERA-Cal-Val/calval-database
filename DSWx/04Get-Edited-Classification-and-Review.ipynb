{
 "cells": [
  {
   "cell_type": "markdown",
   "metadata": {},
   "source": [
    "# Download Classification and Review"
   ]
  },
  {
   "cell_type": "markdown",
   "metadata": {},
   "source": [
    "This notebook is to aid in review of classified planet imagery. The general process is:\n",
    "    1. Search for and download the classification to be reviewed and the raw planet image\n",
    "    2. Review the classification, make any necessary edits, and save it along with a logfile\n",
    "    3. Upload the reviewed classifcation, logfile, and any number of auxilary files to the database staging bucket\n",
    "\n",
    "Note that if no edits were made by the reviewer and the classification passes review, it is set as \"Final\" in the database and is ready for the DSWx validation process. If edits were made or the classification failed review, then it is still an \"Intermediate\" level classification and returns to the original classifier to either review the edits made by the reviewer or for further edits. (which would then need to be re-reviewed)."
   ]
  },
  {
   "cell_type": "code",
   "execution_count": 17,
   "metadata": {},
   "outputs": [],
   "source": [
    "import geopandas as gpd\n",
    "import boto3\n",
    "import os\n",
    "import sys\n",
    "sys.path.insert(0, './tools/')\n",
    "from addImageCalc import addImageCalc"
   ]
  },
  {
   "cell_type": "markdown",
   "metadata": {},
   "source": [
    "### User defines the validation site and the directory where files will be downloaded"
   ]
  },
  {
   "cell_type": "code",
   "execution_count": 37,
   "metadata": {},
   "outputs": [],
   "source": [
    "reviewer_name = 'Matthew Bonnema' \n",
    "downloadDir = '/Users/mbonnema/Documents/OPERA_calval/DSWx/Chip_3_4/edits/review/'\n",
    "site_name = '3_4'"
   ]
  },
  {
   "cell_type": "markdown",
   "metadata": {},
   "source": [
    "### Open AWS session and read image and image_calc tables"
   ]
  },
  {
   "cell_type": "code",
   "execution_count": 38,
   "metadata": {},
   "outputs": [],
   "source": [
    "session = boto3.session.Session(profile_name='saml-pub')\n",
    "s3 = session.resource('s3')\n",
    "s3_client = session.client('s3')"
   ]
  },
  {
   "cell_type": "code",
   "execution_count": 20,
   "metadata": {},
   "outputs": [],
   "source": [
    "bucket_name = 'opera-calval-database-dswx'"
   ]
  },
  {
   "cell_type": "code",
   "execution_count": 21,
   "metadata": {},
   "outputs": [],
   "source": [
    "obj = s3.Object(bucket_name,'image.geojson')\n",
    "image_table_data = obj.get()['Body']\n",
    "images = gpd.read_file(image_table_data)"
   ]
  },
  {
   "cell_type": "code",
   "execution_count": 22,
   "metadata": {},
   "outputs": [],
   "source": [
    "obj = s3.Object(bucket_name,'image_calc.geojson')\n",
    "image_table_data = obj.get()['Body']\n",
    "image_calcs = gpd.read_file(image_table_data)"
   ]
  },
  {
   "cell_type": "code",
   "execution_count": 23,
   "metadata": {},
   "outputs": [],
   "source": [
    "def downloadImage(row,downloadDir):\n",
    "    bucket = row.s3_bucket.iloc[0]\n",
    "    key = row.s3_key_image.iloc[0]\n",
    "    filename = key.split('/')[-1]\n",
    "    response = s3_client.download_file(bucket,key,downloadDir+filename)"
   ]
  },
  {
   "cell_type": "code",
   "execution_count": 24,
   "metadata": {},
   "outputs": [],
   "source": [
    "def downloadImage_calc(row,downloadDir):\n",
    "    bucket = row.bucket.iloc[0]\n",
    "    keys = row.s3_keys.iloc[0]\n",
    "    keys = keys.split(',')\n",
    "    for key in keys:\n",
    "        filename = key.split('/')[-1]\n",
    "        response = s3_client.download_file(bucket,key,downloadDir+filename)"
   ]
  },
  {
   "cell_type": "markdown",
   "metadata": {},
   "source": [
    "### Search for specific image and classified image for the defined validation site"
   ]
  },
  {
   "cell_type": "code",
   "execution_count": 25,
   "metadata": {},
   "outputs": [
    {
     "data": {
      "text/html": [
       "<div>\n",
       "<style scoped>\n",
       "    .dataframe tbody tr th:only-of-type {\n",
       "        vertical-align: middle;\n",
       "    }\n",
       "\n",
       "    .dataframe tbody tr th {\n",
       "        vertical-align: top;\n",
       "    }\n",
       "\n",
       "    .dataframe thead th {\n",
       "        text-align: right;\n",
       "    }\n",
       "</style>\n",
       "<table border=\"1\" class=\"dataframe\">\n",
       "  <thead>\n",
       "    <tr style=\"text-align: right;\">\n",
       "      <th></th>\n",
       "      <th>cloud_cover</th>\n",
       "      <th>collocated_dswx</th>\n",
       "      <th>datetime</th>\n",
       "      <th>image_name</th>\n",
       "      <th>instrument</th>\n",
       "      <th>provider</th>\n",
       "      <th>resolution</th>\n",
       "      <th>s3_bucket</th>\n",
       "      <th>s3_key_image</th>\n",
       "      <th>site_coverage</th>\n",
       "      <th>site_name</th>\n",
       "      <th>timeDelta_days</th>\n",
       "      <th>geometry</th>\n",
       "    </tr>\n",
       "  </thead>\n",
       "  <tbody>\n",
       "    <tr>\n",
       "      <th>132</th>\n",
       "      <td>0.0</td>\n",
       "      <td>HLS.S30.T20HLJ.2021294T141049.v2.0</td>\n",
       "      <td>2021-10-21T13:30:31</td>\n",
       "      <td>20211021_133031_75_245a</td>\n",
       "      <td>PSB.SD</td>\n",
       "      <td>planetscope</td>\n",
       "      <td>3.0</td>\n",
       "      <td>opera-calval-database-dswx-private</td>\n",
       "      <td>data/3_4/20211021_133031_75_245a/20211021_1330...</td>\n",
       "      <td>97.954495</td>\n",
       "      <td>3_4</td>\n",
       "      <td>0.035727</td>\n",
       "      <td>POLYGON ((-64.30053 -33.07480, -64.34944 -33.2...</td>\n",
       "    </tr>\n",
       "  </tbody>\n",
       "</table>\n",
       "</div>"
      ],
      "text/plain": [
       "     cloud_cover                     collocated_dswx             datetime  \\\n",
       "132          0.0  HLS.S30.T20HLJ.2021294T141049.v2.0  2021-10-21T13:30:31   \n",
       "\n",
       "                  image_name instrument     provider  resolution  \\\n",
       "132  20211021_133031_75_245a     PSB.SD  planetscope         3.0   \n",
       "\n",
       "                              s3_bucket  \\\n",
       "132  opera-calval-database-dswx-private   \n",
       "\n",
       "                                          s3_key_image  site_coverage  \\\n",
       "132  data/3_4/20211021_133031_75_245a/20211021_1330...      97.954495   \n",
       "\n",
       "    site_name  timeDelta_days  \\\n",
       "132       3_4        0.035727   \n",
       "\n",
       "                                              geometry  \n",
       "132  POLYGON ((-64.30053 -33.07480, -64.34944 -33.2...  "
      ]
     },
     "execution_count": 25,
     "metadata": {},
     "output_type": "execute_result"
    }
   ],
   "source": [
    "image_search = images[images.site_name == site_name]\n",
    "image_search.head()"
   ]
  },
  {
   "cell_type": "markdown",
   "metadata": {},
   "source": [
    "Ensure the query above returns only one row. If not, revise the search above or edit the cell below to select the desired image."
   ]
  },
  {
   "cell_type": "code",
   "execution_count": 26,
   "metadata": {},
   "outputs": [],
   "source": [
    "image_row = image_search.iloc[[0]]"
   ]
  },
  {
   "cell_type": "code",
   "execution_count": 27,
   "metadata": {},
   "outputs": [
    {
     "data": {
      "text/html": [
       "<div>\n",
       "<style scoped>\n",
       "    .dataframe tbody tr th:only-of-type {\n",
       "        vertical-align: middle;\n",
       "    }\n",
       "\n",
       "    .dataframe tbody tr th {\n",
       "        vertical-align: top;\n",
       "    }\n",
       "\n",
       "    .dataframe thead th {\n",
       "        text-align: right;\n",
       "    }\n",
       "</style>\n",
       "<table border=\"1\" class=\"dataframe\">\n",
       "  <thead>\n",
       "    <tr style=\"text-align: right;\">\n",
       "      <th></th>\n",
       "      <th>bucket</th>\n",
       "      <th>calc_type</th>\n",
       "      <th>calculated_by</th>\n",
       "      <th>image_calc_name</th>\n",
       "      <th>image_name</th>\n",
       "      <th>oversight_level</th>\n",
       "      <th>previous_name</th>\n",
       "      <th>processing_level</th>\n",
       "      <th>public</th>\n",
       "      <th>reviewed_by</th>\n",
       "      <th>s3_keys</th>\n",
       "      <th>upload_date</th>\n",
       "      <th>geometry</th>\n",
       "    </tr>\n",
       "  </thead>\n",
       "  <tbody>\n",
       "    <tr>\n",
       "      <th>2</th>\n",
       "      <td>opera-calval-database-dswx</td>\n",
       "      <td>Manual Edit of Classification</td>\n",
       "      <td>Alexander Handwerger</td>\n",
       "      <td>20211021_133031_75_245a_class_edit</td>\n",
       "      <td>20211021_133031_75_245a</td>\n",
       "      <td>None</td>\n",
       "      <td>20211021_133031_75_245a_class</td>\n",
       "      <td>Intermediate</td>\n",
       "      <td>True</td>\n",
       "      <td>None</td>\n",
       "      <td>data/site/3_4/image/20211021_133031_75_245a/im...</td>\n",
       "      <td>20220802_161902</td>\n",
       "      <td>POLYGON ((-64.30053 -33.07480, -64.34944 -33.2...</td>\n",
       "    </tr>\n",
       "  </tbody>\n",
       "</table>\n",
       "</div>"
      ],
      "text/plain": [
       "                       bucket                      calc_type  \\\n",
       "2  opera-calval-database-dswx  Manual Edit of Classification   \n",
       "\n",
       "          calculated_by                     image_calc_name  \\\n",
       "2  Alexander Handwerger  20211021_133031_75_245a_class_edit   \n",
       "\n",
       "                image_name oversight_level                  previous_name  \\\n",
       "2  20211021_133031_75_245a            None  20211021_133031_75_245a_class   \n",
       "\n",
       "  processing_level public reviewed_by  \\\n",
       "2     Intermediate   True        None   \n",
       "\n",
       "                                             s3_keys      upload_date  \\\n",
       "2  data/site/3_4/image/20211021_133031_75_245a/im...  20220802_161902   \n",
       "\n",
       "                                            geometry  \n",
       "2  POLYGON ((-64.30053 -33.07480, -64.34944 -33.2...  "
      ]
     },
     "execution_count": 27,
     "metadata": {},
     "output_type": "execute_result"
    }
   ],
   "source": [
    "# This line filters the imagecalc geojson for manually editted computed images derived from the raw planet image identified above\n",
    "imagecalc_search = image_calcs[(image_calcs.image_name == image_row.image_name.iloc[0]) & (image_calcs.calc_type == 'Manual Edit of Classification')]\n",
    "imagecalc_search.head()"
   ]
  },
  {
   "cell_type": "markdown",
   "metadata": {},
   "source": [
    "Ensure the query above returns only one row. revise the search above or edit the cell below to select the desired classified image."
   ]
  },
  {
   "cell_type": "code",
   "execution_count": 28,
   "metadata": {},
   "outputs": [],
   "source": [
    "imagecalc_row = imagecalc_search.iloc[[0]]"
   ]
  },
  {
   "cell_type": "markdown",
   "metadata": {},
   "source": [
    "### Download raw image and classified image to the specified directory"
   ]
  },
  {
   "cell_type": "code",
   "execution_count": 29,
   "metadata": {},
   "outputs": [],
   "source": [
    "downloadImage(image_row,downloadDir)\n",
    "downloadImage_calc(imagecalc_row,downloadDir)"
   ]
  },
  {
   "cell_type": "markdown",
   "metadata": {},
   "source": [
    "## STOP HERE AND Review CLASSIFIED IMAGE IN QGIS\n",
    "Save reviewed/edited image and logfile in the same directory specified at the begining of this notebook. Append reviewer log notes to end of existing logfile. "
   ]
  },
  {
   "cell_type": "code",
   "execution_count": 30,
   "metadata": {},
   "outputs": [],
   "source": [
    "image_calc_filename = '3_4_classified_2class_edited_ALH_Reviewed_MB.tif'\n",
    "log_filename = 'Log notes.docx'\n",
    "#diff_filename = '3_4_classified_2class_diff_ALH.tif'\n",
    "#additional_file_name = 'extra_file.txt'\n",
    "filePaths = {\n",
    "    'image_calc' : downloadDir+image_calc_filename,\n",
    "    'logfile' : downloadDir+log_filename,\n",
    "    #'difference_file' : downloadDir+diff_filename,\n",
    "    #'additional_file' : downloadDir+additional_file_name, \n",
    "}"
   ]
  },
  {
   "cell_type": "code",
   "execution_count": 34,
   "metadata": {},
   "outputs": [],
   "source": [
    "image_name = image_row.image_name.iloc[0]\n",
    "previous_name = imagecalc_row.image_calc_name.iloc[0]\n",
    "image_calc_name = previous_name+'_review'\n",
    "geometry = imagecalc_row.geometry.iloc[0]\n",
    "calculated_by = imagecalc_row.calculated_by.iloc[0]\n",
    "reviewed_by = reviewer_name\n",
    "oversight_level = 'Reviewed-Complete' #If edits made by reviewer, oversight level would be \"Reviewed-Incomplete\"\n",
    "processing_level = 'Final' #If edits made by reviewer, level would be \"Intermediate\"\n",
    "calc_type = 'Review' #If reviewed: \"Reconciliation\""
   ]
  },
  {
   "cell_type": "code",
   "execution_count": 36,
   "metadata": {},
   "outputs": [
    {
     "data": {
      "text/plain": [
       "{'image_name': '20211021_133031_75_245a',\n",
       " 'image_calc_name': '20211021_133031_75_245a_class_edit_review',\n",
       " 'previous_name': '20211021_133031_75_245a_class_edit',\n",
       " 'calc_type': 'Review',\n",
       " 'processing_level': 'Final',\n",
       " 'oversight_level': 'Reviewed-Complete',\n",
       " 'calculated_by': 'Alexander Handwerger',\n",
       " 'reviewed_by': 'Matthew Bonnema',\n",
       " 'public': True,\n",
       " 'geometry': <shapely.geometry.polygon.Polygon at 0x7fd90a2a8e90>}"
      ]
     },
     "execution_count": 36,
     "metadata": {},
     "output_type": "execute_result"
    }
   ],
   "source": [
    "metaData = {\n",
    "    'image_name':image_name, #str\n",
    "    'image_calc_name':image_calc_name, #str\n",
    "    'previous_name':previous_name, #str\n",
    "    'calc_type':calc_type, #str\n",
    "    'processing_level':processing_level, #str\n",
    "    'oversight_level':oversight_level, #str,\n",
    "    'calculated_by': calculated_by, #str\n",
    "    'reviewed_by': reviewed_by, #str\n",
    "    'public':True, #bool\n",
    "    'geometry':geometry, #shapely geometry\n",
    "}\n",
    "metaData"
   ]
  },
  {
   "cell_type": "code",
   "execution_count": 39,
   "metadata": {},
   "outputs": [
    {
     "name": "stdout",
     "output_type": "stream",
     "text": [
      "Creating geojson table\n",
      "Uploading geojson table\n",
      "Uploading files\n",
      "staging complete\n"
     ]
    }
   ],
   "source": [
    "addImageCalc(filePaths,metaData,session)"
   ]
  },
  {
   "cell_type": "code",
   "execution_count": null,
   "metadata": {},
   "outputs": [],
   "source": []
  }
 ],
 "metadata": {
  "kernelspec": {
   "display_name": "Python 3",
   "language": "python",
   "name": "python3"
  },
  "language_info": {
   "codemirror_mode": {
    "name": "ipython",
    "version": 3
   },
   "file_extension": ".py",
   "mimetype": "text/x-python",
   "name": "python",
   "nbconvert_exporter": "python",
   "pygments_lexer": "ipython3",
   "version": "3.7.4"
  }
 },
 "nbformat": 4,
 "nbformat_minor": 2
}
