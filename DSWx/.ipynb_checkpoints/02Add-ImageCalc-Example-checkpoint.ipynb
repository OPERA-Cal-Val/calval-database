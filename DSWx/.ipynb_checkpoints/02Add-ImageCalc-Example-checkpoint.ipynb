{
 "cells": [
  {
   "cell_type": "code",
   "execution_count": 19,
   "metadata": {},
   "outputs": [],
   "source": [
    "import geopandas as gpd\n",
    "import pandas as pd\n",
    "import boto3\n",
    "import os\n",
    "from datetime import datetime\n"
   ]
  },
  {
   "cell_type": "code",
   "execution_count": 45,
   "metadata": {},
   "outputs": [],
   "source": [
    "bucket_name = 'opera-calval-database-dswx'\n",
    "bucket_name_staging = 'opera-calval-database-dswx-staging'"
   ]
  },
  {
   "cell_type": "code",
   "execution_count": 3,
   "metadata": {},
   "outputs": [],
   "source": [
    "session = boto3.session.Session(profile_name='saml-pub')\n",
    "s3 = session.resource('s3')\n",
    "s3_client = session.client('s3')"
   ]
  },
  {
   "cell_type": "code",
   "execution_count": 13,
   "metadata": {},
   "outputs": [
    {
     "data": {
      "text/html": [
       "<div>\n",
       "<style scoped>\n",
       "    .dataframe tbody tr th:only-of-type {\n",
       "        vertical-align: middle;\n",
       "    }\n",
       "\n",
       "    .dataframe tbody tr th {\n",
       "        vertical-align: top;\n",
       "    }\n",
       "\n",
       "    .dataframe thead th {\n",
       "        text-align: right;\n",
       "    }\n",
       "</style>\n",
       "<table border=\"1\" class=\"dataframe\">\n",
       "  <thead>\n",
       "    <tr style=\"text-align: right;\">\n",
       "      <th></th>\n",
       "      <th>cloud_cover</th>\n",
       "      <th>collocated_dswx</th>\n",
       "      <th>datetime</th>\n",
       "      <th>image_name</th>\n",
       "      <th>instrument</th>\n",
       "      <th>provider</th>\n",
       "      <th>resolution</th>\n",
       "      <th>s3_bucket</th>\n",
       "      <th>s3_key_image</th>\n",
       "      <th>site_coverage</th>\n",
       "      <th>site_name</th>\n",
       "      <th>timeDelta_days</th>\n",
       "      <th>geometry</th>\n",
       "    </tr>\n",
       "  </thead>\n",
       "  <tbody>\n",
       "    <tr>\n",
       "      <td>0</td>\n",
       "      <td>0.0</td>\n",
       "      <td>HLS.S30.T10VEK.2021268T192141.v2.0</td>\n",
       "      <td>2021-09-25T19:17:08</td>\n",
       "      <td>20210925_191708_94_2408</td>\n",
       "      <td>PSB.SD</td>\n",
       "      <td>planetscope</td>\n",
       "      <td>3.0</td>\n",
       "      <td>opera-calval-database-dswx-private</td>\n",
       "      <td>data/3_42/20210925_191708_94_2408/20210925_191...</td>\n",
       "      <td>84.975663</td>\n",
       "      <td>3_42</td>\n",
       "      <td>0.007904</td>\n",
       "      <td>POLYGON ((-122.94132 57.97664, -123.03517 57.7...</td>\n",
       "    </tr>\n",
       "    <tr>\n",
       "      <td>1</td>\n",
       "      <td>0.0</td>\n",
       "      <td>HLS.L30.T18UXG.2021300T154817.v2.0</td>\n",
       "      <td>2021-10-27T15:14:45</td>\n",
       "      <td>20211027_151445_21_2231</td>\n",
       "      <td>PSB.SD</td>\n",
       "      <td>planetscope</td>\n",
       "      <td>3.0</td>\n",
       "      <td>opera-calval-database-dswx-private</td>\n",
       "      <td>data/4_21/20211027_151445_21_2231/20211027_151...</td>\n",
       "      <td>52.216780</td>\n",
       "      <td>4_21</td>\n",
       "      <td>0.023288</td>\n",
       "      <td>POLYGON ((-71.93982 55.28796, -72.02213 55.104...</td>\n",
       "    </tr>\n",
       "    <tr>\n",
       "      <td>2</td>\n",
       "      <td>0.0</td>\n",
       "      <td>HLS.S30.T18FYH.2021302T141741.v2.0</td>\n",
       "      <td>2021-10-30T14:26:13</td>\n",
       "      <td>20211030_142613_41_227b</td>\n",
       "      <td>PSB.SD</td>\n",
       "      <td>planetscope</td>\n",
       "      <td>3.0</td>\n",
       "      <td>opera-calval-database-dswx-private</td>\n",
       "      <td>data/2_8/20211030_142613_41_227b/20211030_1426...</td>\n",
       "      <td>74.756870</td>\n",
       "      <td>2_8</td>\n",
       "      <td>0.992265</td>\n",
       "      <td>POLYGON ((-71.22036 -51.94097, -71.30174 -52.1...</td>\n",
       "    </tr>\n",
       "    <tr>\n",
       "      <td>3</td>\n",
       "      <td>0.0</td>\n",
       "      <td>HLS.S30.T36LWH.2021268T073641.v2.0</td>\n",
       "      <td>2021-09-26T07:24:14</td>\n",
       "      <td>20210926_072414_71_2233</td>\n",
       "      <td>PSB.SD</td>\n",
       "      <td>planetscope</td>\n",
       "      <td>3.0</td>\n",
       "      <td>opera-calval-database-dswx-private</td>\n",
       "      <td>data/4_3/20210926_072414_71_2233/20210926_0724...</td>\n",
       "      <td>97.600689</td>\n",
       "      <td>4_3</td>\n",
       "      <td>0.972010</td>\n",
       "      <td>POLYGON ((33.42779 -16.15910, 33.38993 -16.342...</td>\n",
       "    </tr>\n",
       "    <tr>\n",
       "      <td>4</td>\n",
       "      <td>0.0</td>\n",
       "      <td>HLS.S30.T15VUK.2021244T175911.v2.0</td>\n",
       "      <td>2021-09-01T17:52:05</td>\n",
       "      <td>20210901_175205_71_2426</td>\n",
       "      <td>PSB.SD</td>\n",
       "      <td>planetscope</td>\n",
       "      <td>3.0</td>\n",
       "      <td>opera-calval-database-dswx-private</td>\n",
       "      <td>data/4_34/20210901_175205_71_2426/20210901_175...</td>\n",
       "      <td>96.416886</td>\n",
       "      <td>4_34</td>\n",
       "      <td>0.009994</td>\n",
       "      <td>POLYGON ((-96.94381 62.88876, -97.07609 62.707...</td>\n",
       "    </tr>\n",
       "  </tbody>\n",
       "</table>\n",
       "</div>"
      ],
      "text/plain": [
       "   cloud_cover                     collocated_dswx             datetime  \\\n",
       "0          0.0  HLS.S30.T10VEK.2021268T192141.v2.0  2021-09-25T19:17:08   \n",
       "1          0.0  HLS.L30.T18UXG.2021300T154817.v2.0  2021-10-27T15:14:45   \n",
       "2          0.0  HLS.S30.T18FYH.2021302T141741.v2.0  2021-10-30T14:26:13   \n",
       "3          0.0  HLS.S30.T36LWH.2021268T073641.v2.0  2021-09-26T07:24:14   \n",
       "4          0.0  HLS.S30.T15VUK.2021244T175911.v2.0  2021-09-01T17:52:05   \n",
       "\n",
       "                image_name instrument     provider  resolution  \\\n",
       "0  20210925_191708_94_2408     PSB.SD  planetscope         3.0   \n",
       "1  20211027_151445_21_2231     PSB.SD  planetscope         3.0   \n",
       "2  20211030_142613_41_227b     PSB.SD  planetscope         3.0   \n",
       "3  20210926_072414_71_2233     PSB.SD  planetscope         3.0   \n",
       "4  20210901_175205_71_2426     PSB.SD  planetscope         3.0   \n",
       "\n",
       "                            s3_bucket  \\\n",
       "0  opera-calval-database-dswx-private   \n",
       "1  opera-calval-database-dswx-private   \n",
       "2  opera-calval-database-dswx-private   \n",
       "3  opera-calval-database-dswx-private   \n",
       "4  opera-calval-database-dswx-private   \n",
       "\n",
       "                                        s3_key_image  site_coverage site_name  \\\n",
       "0  data/3_42/20210925_191708_94_2408/20210925_191...      84.975663      3_42   \n",
       "1  data/4_21/20211027_151445_21_2231/20211027_151...      52.216780      4_21   \n",
       "2  data/2_8/20211030_142613_41_227b/20211030_1426...      74.756870       2_8   \n",
       "3  data/4_3/20210926_072414_71_2233/20210926_0724...      97.600689       4_3   \n",
       "4  data/4_34/20210901_175205_71_2426/20210901_175...      96.416886      4_34   \n",
       "\n",
       "   timeDelta_days                                           geometry  \n",
       "0        0.007904  POLYGON ((-122.94132 57.97664, -123.03517 57.7...  \n",
       "1        0.023288  POLYGON ((-71.93982 55.28796, -72.02213 55.104...  \n",
       "2        0.992265  POLYGON ((-71.22036 -51.94097, -71.30174 -52.1...  \n",
       "3        0.972010  POLYGON ((33.42779 -16.15910, 33.38993 -16.342...  \n",
       "4        0.009994  POLYGON ((-96.94381 62.88876, -97.07609 62.707...  "
      ]
     },
     "execution_count": 13,
     "metadata": {},
     "output_type": "execute_result"
    }
   ],
   "source": [
    "imageTable = gpd.read_file(s3.Object(bucket_name,'image.geojson').get()['Body'])\n",
    "imagecalcTable = gpd.read_file(s3.Object(bucket_name,'image_calc.geojson').get()['Body'])\n",
    "imageTable.head()"
   ]
  },
  {
   "cell_type": "code",
   "execution_count": 22,
   "metadata": {},
   "outputs": [],
   "source": [
    "geometry = imageTable[imageTable.image_name == '20210912_034049_22_2421'].geometry.iloc[0]\n",
    "now = datetime.now().strftime(\"%Y%m%d_%H%M%S\")\n"
   ]
  },
  {
   "cell_type": "code",
   "execution_count": 11,
   "metadata": {},
   "outputs": [],
   "source": [
    "filePaths = {\n",
    "    'image_calc' : '/Users/mbonnema/Documents/OPERA_calval/DSWx/Chip_4_8_QGIS/files/20210912_034049_22_2421_3B_AnalyticMS_SR_8b_clip_supMD_Alg.tif',\n",
    "    'logfile' : '/Users/mbonnema/Documents/OPERA_calval/DSWx/Chip_4_8_QGIS/files/0210912_034049_22_2421_logfile.docx',\n",
    "    'training' : '/Users/mbonnema/Documents/OPERA_calval/DSWx/Chip_4_8_QGIS/files/training.scp'\n",
    "}\n"
   ]
  },
  {
   "cell_type": "code",
   "execution_count": 25,
   "metadata": {},
   "outputs": [
    {
     "data": {
      "text/plain": [
       "{'image_name': '20210912_034049_22_2421',\n",
       " 'image_calc_name': '20210912_034049_22_2421_supMD',\n",
       " 'previous_name': None,\n",
       " 'calc_type': 'Supervised Classification',\n",
       " 'processing_level': 'Intermediate',\n",
       " 'oversight_level': None,\n",
       " 'fitness': None,\n",
       " 'public': True,\n",
       " 'geometry': <shapely.geometry.polygon.Polygon at 0x7fe552e82250>}"
      ]
     },
     "execution_count": 25,
     "metadata": {},
     "output_type": "execute_result"
    }
   ],
   "source": [
    "metaData = {\n",
    "    'image_name':'20210912_034049_22_2421',\n",
    "    'image_calc_name':'20210912_034049_22_2421_supMD',\n",
    "    'previous_name':None,\n",
    "    'calc_type':'Supervised Classification',\n",
    "    'processing_level':'Intermediate',\n",
    "    'oversight_level':None,\n",
    "    'fitness':None,\n",
    "    'public':True,\n",
    "    'geometry':geometry,\n",
    "}\n",
    "metaData"
   ]
  },
  {
   "cell_type": "code",
   "execution_count": 12,
   "metadata": {},
   "outputs": [],
   "source": []
  },
  {
   "cell_type": "code",
   "execution_count": 56,
   "metadata": {},
   "outputs": [],
   "source": [
    "def addImageCalc(filePaths,metaData,awsSession):\n",
    "    now = datetime.now().strftime(\"%Y%m%d_%H%M%S\")\n",
    "    s3 = awsSession.resource('s3')\n",
    "    s3_client = awsSession.client('s3')\n",
    "    \n",
    "    print('Creating geojson table')\n",
    "    s3_key_imagecalc = 'pending/uploads/'+metaData['image_calc_name']+filePaths['image_calc'].split('/')[-1]\n",
    "    if filePaths['logfile'] != None:\n",
    "        s3_key_logfile = 'pending/uploads/'+metaData['image_calc_name']+filePaths['logfile'].split('/')[-1]\n",
    "    else:\n",
    "        s3_key_logfile = None\n",
    "    if filePaths['training'] != None:\n",
    "        s3_key_training = 'pending/uploads/'+metaData['image_calc_name']+filePaths['training'].split('/')[-1]\n",
    "    else:\n",
    "        s3_key_training = None\n",
    "    \n",
    "    metaData['bucket'] = bucket_name_staging\n",
    "    metaData['s3_key_imagecalc'] = s3_key_imagecalc\n",
    "    metaData['s3_key_logfile'] = s3_key_logfile\n",
    "    metaData['s3_key_training'] = s3_key_training\n",
    "    metaData['upload_date'] = now\n",
    "    \n",
    "    newRow = pd.DataFrame(metaData,index=[0])\n",
    "    newRow = gpd.GeoDataFrame(newRow,geometry='geometry')\n",
    "    \n",
    "    print('Uploading geojson table')\n",
    "    newRow_bytes = bytes(newRow.to_json(drop_id=True).encode('UTF-8'))\n",
    "    s3object = s3.Object(bucket_name_staging,'pending/'+now+'_imagecalc.geojson')\n",
    "    s3object.put(Body=newRow_bytes)\n",
    "    \n",
    "    print('Uploading imagecalc')\n",
    "    response = s3_client.upload_file(filePaths['image_calc'],bucket_name_staging,s3_key_imagecalc)\n",
    "    if s3_key_logfile != None:\n",
    "        print('Uploading logfile')\n",
    "        response = s3_client.upload_file(filePaths['logfile'],bucket_name_staging,s3_key_logfile)\n",
    "    if s3_key_training != None:\n",
    "        print('Uploading trainging data')\n",
    "        response = s3_client.upload_file(filePaths['training'],bucket_name_staging,s3_key_training)\n",
    "    \n",
    "    "
   ]
  },
  {
   "cell_type": "code",
   "execution_count": 57,
   "metadata": {},
   "outputs": [
    {
     "name": "stdout",
     "output_type": "stream",
     "text": [
      "Creating geojson table\n",
      "Uploading geojson table\n",
      "Uploading imagecalc\n",
      "Uploading logfile\n",
      "Uploading trainging data\n"
     ]
    }
   ],
   "source": [
    "addImageCalc(filePaths,metaData,session)"
   ]
  },
  {
   "cell_type": "code",
   "execution_count": null,
   "metadata": {},
   "outputs": [],
   "source": []
  }
 ],
 "metadata": {
  "kernelspec": {
   "display_name": "Python 3",
   "language": "python",
   "name": "python3"
  },
  "language_info": {
   "codemirror_mode": {
    "name": "ipython",
    "version": 3
   },
   "file_extension": ".py",
   "mimetype": "text/x-python",
   "name": "python",
   "nbconvert_exporter": "python",
   "pygments_lexer": "ipython3",
   "version": "3.7.4"
  }
 },
 "nbformat": 4,
 "nbformat_minor": 2
}
