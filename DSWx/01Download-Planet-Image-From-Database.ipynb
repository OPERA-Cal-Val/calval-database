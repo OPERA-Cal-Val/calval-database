{
 "cells": [
  {
   "cell_type": "markdown",
   "metadata": {},
   "source": [
    "# Planet Download Example\n",
    "This notebook shows how to download planet imagery uploaded to a private s3 bucket for OPERA DSWx validation"
   ]
  },
  {
   "cell_type": "code",
   "execution_count": null,
   "metadata": {},
   "outputs": [],
   "source": [
    "import geopandas as gpd\n",
    "import boto3\n",
    "import os"
   ]
  },
  {
   "cell_type": "markdown",
   "metadata": {},
   "source": [
    "### AWS Credentials\n",
    "In order to download imagery from the private bucket, JPL RSA access and OPERA Calval AWS credentials are needed"
   ]
  },
  {
   "cell_type": "code",
   "execution_count": null,
   "metadata": {},
   "outputs": [],
   "source": [
    "session = boto3.session.Session(profile_name='saml-pub')\n",
    "s3 = session.resource('s3')\n",
    "s3_client = session.client('s3')"
   ]
  },
  {
   "cell_type": "markdown",
   "metadata": {},
   "source": [
    "### S3 Buckets\n",
    "A table containing image metadata is located on a public s3 bucket, but the commercial image files can't be openly shared and are stored in a seperate private bucket. S3 keys (path within a bucket) that point to the image file locations are stored in the metadata table in the public bucket"
   ]
  },
  {
   "cell_type": "code",
   "execution_count": null,
   "metadata": {},
   "outputs": [],
   "source": [
    "bucket_name = 'opera-calval-database-dswx'\n",
    "private_bucket_name = 'opera-calval-database-dswx-private'"
   ]
  },
  {
   "cell_type": "markdown",
   "metadata": {},
   "source": [
    "### Read Image metadata table\n",
    "Image metadata is stored in a geojson table, which can be read as a geodataframe using geopandas. This dataframe can be spatial searched or searched by metadata fields"
   ]
  },
  {
   "cell_type": "code",
   "execution_count": null,
   "metadata": {},
   "outputs": [],
   "source": [
    "obj = s3.Object(bucket_name,'image.geojson')\n",
    "image_table_data = obj.get()['Body']\n",
    "images = gpd.read_file(image_table_data)\n",
    "images.head()"
   ]
  },
  {
   "cell_type": "markdown",
   "metadata": {},
   "source": [
    "### Download Function\n",
    "This function takes a single row of the image geodataframe and a download location (folder path on local computer) and downloads the image file associated with the provided row"
   ]
  },
  {
   "cell_type": "code",
   "execution_count": null,
   "metadata": {},
   "outputs": [],
   "source": [
    "def downloadImage(row,downloadDir):\n",
    "    bucket = row.s3_bucket.iloc[0]\n",
    "    key = row.s3_key_image.iloc[0]\n",
    "    image_name = row.image_name.iloc[0]\n",
    "    response = s3_client.download_file(bucket,key,downloadDir+image_name)"
   ]
  },
  {
   "cell_type": "markdown",
   "metadata": {},
   "source": [
    "### Basic Usage Example\n",
    "This example extracts the first image from the image table and downloads it to a sub directory within the current working directory called \"downloads\"."
   ]
  },
  {
   "cell_type": "code",
   "execution_count": null,
   "metadata": {},
   "outputs": [],
   "source": [
    "downloadDir = os.path.expanduser('./downloads/')\n",
    "os.makedirs(downloadDir, exist_ok=True) "
   ]
  },
  {
   "cell_type": "code",
   "execution_count": null,
   "metadata": {},
   "outputs": [],
   "source": [
    "site_name_4download='4_37' #Select Planet image by UMD GLAD chip number\n",
    "search = images[images.site_name == site_name_4download] \n",
    "search.head()"
   ]
  },
  {
   "cell_type": "code",
   "execution_count": null,
   "metadata": {},
   "outputs": [],
   "source": [
    "row_indx=search[search['site_name'] == site_name_4download].index[0]\n",
    "row = images.iloc[[row_indx]] "
   ]
  },
  {
   "cell_type": "code",
   "execution_count": null,
   "metadata": {},
   "outputs": [],
   "source": [
    "downloadImage(row,downloadDir)"
   ]
  },
  {
   "cell_type": "code",
   "execution_count": null,
   "metadata": {},
   "outputs": [],
   "source": []
  }
 ],
 "metadata": {
  "kernelspec": {
   "display_name": "Python 3 (ipykernel)",
   "language": "python",
   "name": "python3"
  },
  "language_info": {
   "codemirror_mode": {
    "name": "ipython",
    "version": 3
   },
   "file_extension": ".py",
   "mimetype": "text/x-python",
   "name": "python",
   "nbconvert_exporter": "python",
   "pygments_lexer": "ipython3",
   "version": "3.10.5"
  }
 },
 "nbformat": 4,
 "nbformat_minor": 2
}
