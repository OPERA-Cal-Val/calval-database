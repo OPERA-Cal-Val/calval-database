{
 "cells": [
  {
   "cell_type": "markdown",
   "metadata": {},
   "source": [
    "# Planet Download Example\n",
    "This notebook shows how to download planet imagery uploaded to a private s3 bucket for OPERA DSWx validation"
   ]
  },
  {
   "cell_type": "code",
   "execution_count": 1,
   "metadata": {},
   "outputs": [],
   "source": [
    "import geopandas as gpd\n",
    "import boto3\n",
    "import os"
   ]
  },
  {
   "cell_type": "markdown",
   "metadata": {},
   "source": [
    "### AWS Credentials\n",
    "In order to download imagery from the private bucket, JPL RSA access and OPERA Calval AWS credentials are needed"
   ]
  },
  {
   "cell_type": "code",
   "execution_count": 2,
   "metadata": {},
   "outputs": [],
   "source": [
    "session = boto3.session.Session(profile_name='saml-pub')\n",
    "s3 = session.resource('s3')\n",
    "s3_client = session.client('s3')"
   ]
  },
  {
   "cell_type": "markdown",
   "metadata": {},
   "source": [
    "### S3 Buckets\n",
    "A table containing image metadata is located on a public s3 bucket, but the commercial image files can't be openly shared and are stored in a seperate private bucket. S3 keys (path within a bucket) that point to the image file locations are stored in the metadata table in the public bucket"
   ]
  },
  {
   "cell_type": "code",
   "execution_count": 3,
   "metadata": {},
   "outputs": [],
   "source": [
    "bucket_name = 'opera-calval-database-dswx'\n",
    "private_bucket_name = 'opera-calval-database-dswx-private'"
   ]
  },
  {
   "cell_type": "markdown",
   "metadata": {},
   "source": [
    "### Read Image metadata table\n",
    "Image metadata is stored in a geojson table, which can be read as a geodataframe using geopandas. This dataframe can be spatial searched or searched by metadata fields"
   ]
  },
  {
   "cell_type": "code",
   "execution_count": 4,
   "metadata": {},
   "outputs": [
    {
     "data": {
      "text/html": [
       "<div>\n",
       "<style scoped>\n",
       "    .dataframe tbody tr th:only-of-type {\n",
       "        vertical-align: middle;\n",
       "    }\n",
       "\n",
       "    .dataframe tbody tr th {\n",
       "        vertical-align: top;\n",
       "    }\n",
       "\n",
       "    .dataframe thead th {\n",
       "        text-align: right;\n",
       "    }\n",
       "</style>\n",
       "<table border=\"1\" class=\"dataframe\">\n",
       "  <thead>\n",
       "    <tr style=\"text-align: right;\">\n",
       "      <th></th>\n",
       "      <th>cloud_cover</th>\n",
       "      <th>collocated_dswx</th>\n",
       "      <th>datetime</th>\n",
       "      <th>image_name</th>\n",
       "      <th>instrument</th>\n",
       "      <th>provider</th>\n",
       "      <th>resolution</th>\n",
       "      <th>s3_bucket</th>\n",
       "      <th>s3_key_image</th>\n",
       "      <th>site_coverage</th>\n",
       "      <th>site_name</th>\n",
       "      <th>timeDelta_days</th>\n",
       "      <th>geometry</th>\n",
       "    </tr>\n",
       "  </thead>\n",
       "  <tbody>\n",
       "    <tr>\n",
       "      <th>0</th>\n",
       "      <td>0.0</td>\n",
       "      <td>HLS.S30.T10VEK.2021268T192141.v2.0</td>\n",
       "      <td>2021-09-25 19:17:08</td>\n",
       "      <td>20210925_191708_94_2408</td>\n",
       "      <td>PSB.SD</td>\n",
       "      <td>planetscope</td>\n",
       "      <td>3.0</td>\n",
       "      <td>opera-calval-database-dswx-private</td>\n",
       "      <td>data/3_42/20210925_191708_94_2408/20210925_191...</td>\n",
       "      <td>84.975663</td>\n",
       "      <td>3_42</td>\n",
       "      <td>0.007904</td>\n",
       "      <td>POLYGON ((-122.94132 57.97664, -123.03517 57.7...</td>\n",
       "    </tr>\n",
       "    <tr>\n",
       "      <th>1</th>\n",
       "      <td>0.0</td>\n",
       "      <td>HLS.L30.T18UXG.2021300T154817.v2.0</td>\n",
       "      <td>2021-10-27 15:14:45</td>\n",
       "      <td>20211027_151445_21_2231</td>\n",
       "      <td>PSB.SD</td>\n",
       "      <td>planetscope</td>\n",
       "      <td>3.0</td>\n",
       "      <td>opera-calval-database-dswx-private</td>\n",
       "      <td>data/4_21/20211027_151445_21_2231/20211027_151...</td>\n",
       "      <td>52.216780</td>\n",
       "      <td>4_21</td>\n",
       "      <td>0.023288</td>\n",
       "      <td>POLYGON ((-71.93982 55.28796, -72.02213 55.104...</td>\n",
       "    </tr>\n",
       "    <tr>\n",
       "      <th>2</th>\n",
       "      <td>0.0</td>\n",
       "      <td>HLS.S30.T18FYH.2021302T141741.v2.0</td>\n",
       "      <td>2021-10-30 14:26:13</td>\n",
       "      <td>20211030_142613_41_227b</td>\n",
       "      <td>PSB.SD</td>\n",
       "      <td>planetscope</td>\n",
       "      <td>3.0</td>\n",
       "      <td>opera-calval-database-dswx-private</td>\n",
       "      <td>data/2_8/20211030_142613_41_227b/20211030_1426...</td>\n",
       "      <td>74.756870</td>\n",
       "      <td>2_8</td>\n",
       "      <td>0.992265</td>\n",
       "      <td>POLYGON ((-71.22036 -51.94097, -71.30174 -52.1...</td>\n",
       "    </tr>\n",
       "    <tr>\n",
       "      <th>3</th>\n",
       "      <td>0.0</td>\n",
       "      <td>HLS.S30.T36LWH.2021268T073641.v2.0</td>\n",
       "      <td>2021-09-26 07:24:14</td>\n",
       "      <td>20210926_072414_71_2233</td>\n",
       "      <td>PSB.SD</td>\n",
       "      <td>planetscope</td>\n",
       "      <td>3.0</td>\n",
       "      <td>opera-calval-database-dswx-private</td>\n",
       "      <td>data/4_3/20210926_072414_71_2233/20210926_0724...</td>\n",
       "      <td>97.600689</td>\n",
       "      <td>4_3</td>\n",
       "      <td>0.972010</td>\n",
       "      <td>POLYGON ((33.42779 -16.15910, 33.38993 -16.342...</td>\n",
       "    </tr>\n",
       "    <tr>\n",
       "      <th>4</th>\n",
       "      <td>0.0</td>\n",
       "      <td>HLS.S30.T15VUK.2021244T175911.v2.0</td>\n",
       "      <td>2021-09-01 17:52:05</td>\n",
       "      <td>20210901_175205_71_2426</td>\n",
       "      <td>PSB.SD</td>\n",
       "      <td>planetscope</td>\n",
       "      <td>3.0</td>\n",
       "      <td>opera-calval-database-dswx-private</td>\n",
       "      <td>data/4_34/20210901_175205_71_2426/20210901_175...</td>\n",
       "      <td>96.416886</td>\n",
       "      <td>4_34</td>\n",
       "      <td>0.009994</td>\n",
       "      <td>POLYGON ((-96.94381 62.88876, -97.07609 62.707...</td>\n",
       "    </tr>\n",
       "  </tbody>\n",
       "</table>\n",
       "</div>"
      ],
      "text/plain": [
       "   cloud_cover                     collocated_dswx            datetime  \\\n",
       "0          0.0  HLS.S30.T10VEK.2021268T192141.v2.0 2021-09-25 19:17:08   \n",
       "1          0.0  HLS.L30.T18UXG.2021300T154817.v2.0 2021-10-27 15:14:45   \n",
       "2          0.0  HLS.S30.T18FYH.2021302T141741.v2.0 2021-10-30 14:26:13   \n",
       "3          0.0  HLS.S30.T36LWH.2021268T073641.v2.0 2021-09-26 07:24:14   \n",
       "4          0.0  HLS.S30.T15VUK.2021244T175911.v2.0 2021-09-01 17:52:05   \n",
       "\n",
       "                image_name instrument     provider  resolution  \\\n",
       "0  20210925_191708_94_2408     PSB.SD  planetscope         3.0   \n",
       "1  20211027_151445_21_2231     PSB.SD  planetscope         3.0   \n",
       "2  20211030_142613_41_227b     PSB.SD  planetscope         3.0   \n",
       "3  20210926_072414_71_2233     PSB.SD  planetscope         3.0   \n",
       "4  20210901_175205_71_2426     PSB.SD  planetscope         3.0   \n",
       "\n",
       "                            s3_bucket  \\\n",
       "0  opera-calval-database-dswx-private   \n",
       "1  opera-calval-database-dswx-private   \n",
       "2  opera-calval-database-dswx-private   \n",
       "3  opera-calval-database-dswx-private   \n",
       "4  opera-calval-database-dswx-private   \n",
       "\n",
       "                                        s3_key_image  site_coverage site_name  \\\n",
       "0  data/3_42/20210925_191708_94_2408/20210925_191...      84.975663      3_42   \n",
       "1  data/4_21/20211027_151445_21_2231/20211027_151...      52.216780      4_21   \n",
       "2  data/2_8/20211030_142613_41_227b/20211030_1426...      74.756870       2_8   \n",
       "3  data/4_3/20210926_072414_71_2233/20210926_0724...      97.600689       4_3   \n",
       "4  data/4_34/20210901_175205_71_2426/20210901_175...      96.416886      4_34   \n",
       "\n",
       "   timeDelta_days                                           geometry  \n",
       "0        0.007904  POLYGON ((-122.94132 57.97664, -123.03517 57.7...  \n",
       "1        0.023288  POLYGON ((-71.93982 55.28796, -72.02213 55.104...  \n",
       "2        0.992265  POLYGON ((-71.22036 -51.94097, -71.30174 -52.1...  \n",
       "3        0.972010  POLYGON ((33.42779 -16.15910, 33.38993 -16.342...  \n",
       "4        0.009994  POLYGON ((-96.94381 62.88876, -97.07609 62.707...  "
      ]
     },
     "execution_count": 4,
     "metadata": {},
     "output_type": "execute_result"
    }
   ],
   "source": [
    "obj = s3.Object(bucket_name,'image.geojson')\n",
    "image_table_data = obj.get()['Body']\n",
    "images = gpd.read_file(image_table_data)\n",
    "images.head()"
   ]
  },
  {
   "cell_type": "markdown",
   "metadata": {},
   "source": [
    "### Download Function\n",
    "This function takes a single row of the image geodataframe and a download location (folder path on local computer) and downloads the image file associated with the provided row"
   ]
  },
  {
   "cell_type": "code",
   "execution_count": 5,
   "metadata": {},
   "outputs": [],
   "source": [
    "def downloadImage(row,downloadDir):\n",
    "    bucket = row.s3_bucket.iloc[0]\n",
    "    key = row.s3_key_image.iloc[0]\n",
    "    image_name = row.image_name.iloc[0]\n",
    "    response = s3_client.download_file(bucket,key,downloadDir+image_name)"
   ]
  },
  {
   "cell_type": "markdown",
   "metadata": {},
   "source": [
    "### Basic Usage Example\n",
    "This example extracts the first image from the image table and downloads it to a sub directory within the current working directory called \"downloads\"."
   ]
  },
  {
   "cell_type": "code",
   "execution_count": 6,
   "metadata": {},
   "outputs": [],
   "source": [
    "downloadDir = os.path.expanduser('./downloads/')\n",
    "os.makedirs(downloadDir, exist_ok=True) "
   ]
  },
  {
   "cell_type": "code",
   "execution_count": 7,
   "metadata": {},
   "outputs": [
    {
     "data": {
      "text/html": [
       "<div>\n",
       "<style scoped>\n",
       "    .dataframe tbody tr th:only-of-type {\n",
       "        vertical-align: middle;\n",
       "    }\n",
       "\n",
       "    .dataframe tbody tr th {\n",
       "        vertical-align: top;\n",
       "    }\n",
       "\n",
       "    .dataframe thead th {\n",
       "        text-align: right;\n",
       "    }\n",
       "</style>\n",
       "<table border=\"1\" class=\"dataframe\">\n",
       "  <thead>\n",
       "    <tr style=\"text-align: right;\">\n",
       "      <th></th>\n",
       "      <th>cloud_cover</th>\n",
       "      <th>collocated_dswx</th>\n",
       "      <th>datetime</th>\n",
       "      <th>image_name</th>\n",
       "      <th>instrument</th>\n",
       "      <th>provider</th>\n",
       "      <th>resolution</th>\n",
       "      <th>s3_bucket</th>\n",
       "      <th>s3_key_image</th>\n",
       "      <th>site_coverage</th>\n",
       "      <th>site_name</th>\n",
       "      <th>timeDelta_days</th>\n",
       "      <th>geometry</th>\n",
       "    </tr>\n",
       "  </thead>\n",
       "  <tbody>\n",
       "    <tr>\n",
       "      <th>8</th>\n",
       "      <td>0.0</td>\n",
       "      <td>HLS.S30.T35LPK.2021267T080651.v2.0</td>\n",
       "      <td>2021-09-24 08:20:25</td>\n",
       "      <td>20210924_082025_48_2424</td>\n",
       "      <td>PSB.SD</td>\n",
       "      <td>planetscope</td>\n",
       "      <td>3.0</td>\n",
       "      <td>opera-calval-database-dswx-private</td>\n",
       "      <td>data/4_37/20210924_082025_48_2424/20210924_082...</td>\n",
       "      <td>99.136845</td>\n",
       "      <td>4_37</td>\n",
       "      <td>0.008675</td>\n",
       "      <td>POLYGON ((28.20956 -9.14523, 28.17025 -9.34005...</td>\n",
       "    </tr>\n",
       "  </tbody>\n",
       "</table>\n",
       "</div>"
      ],
      "text/plain": [
       "   cloud_cover                     collocated_dswx            datetime  \\\n",
       "8          0.0  HLS.S30.T35LPK.2021267T080651.v2.0 2021-09-24 08:20:25   \n",
       "\n",
       "                image_name instrument     provider  resolution  \\\n",
       "8  20210924_082025_48_2424     PSB.SD  planetscope         3.0   \n",
       "\n",
       "                            s3_bucket  \\\n",
       "8  opera-calval-database-dswx-private   \n",
       "\n",
       "                                        s3_key_image  site_coverage site_name  \\\n",
       "8  data/4_37/20210924_082025_48_2424/20210924_082...      99.136845      4_37   \n",
       "\n",
       "   timeDelta_days                                           geometry  \n",
       "8        0.008675  POLYGON ((28.20956 -9.14523, 28.17025 -9.34005...  "
      ]
     },
     "execution_count": 7,
     "metadata": {},
     "output_type": "execute_result"
    }
   ],
   "source": [
    "site_name_4download='4_37' #Select Planet image by UMD GLAD chip number\n",
    "search = images[images.site_name == site_name_4download] \n",
    "search.head()"
   ]
  },
  {
   "cell_type": "code",
   "execution_count": 8,
   "metadata": {},
   "outputs": [],
   "source": [
    "row_indx=search[search['site_name'] == site_name_4download].index[0]\n",
    "row = images.iloc[[row_indx]] "
   ]
  },
  {
   "cell_type": "code",
   "execution_count": 9,
   "metadata": {},
   "outputs": [],
   "source": [
    "downloadImage(row,downloadDir)"
   ]
  },
  {
   "cell_type": "code",
   "execution_count": null,
   "metadata": {},
   "outputs": [],
   "source": []
  }
 ],
 "metadata": {
  "kernelspec": {
   "display_name": "Python 3 (ipykernel)",
   "language": "python",
   "name": "python3"
  },
  "language_info": {
   "codemirror_mode": {
    "name": "ipython",
    "version": 3
   },
   "file_extension": ".py",
   "mimetype": "text/x-python",
   "name": "python",
   "nbconvert_exporter": "python",
   "pygments_lexer": "ipython3",
   "version": "3.10.5"
  }
 },
 "nbformat": 4,
 "nbformat_minor": 2
}
